{
 "cells": [
  {
   "cell_type": "code",
   "execution_count": 1,
   "metadata": {},
   "outputs": [],
   "source": [
    "import csv\n",
    "import pickle\n",
    "import datetime\n",
    "from sklearn.model_selection import train_test_split"
   ]
  },
  {
   "cell_type": "code",
   "execution_count": 2,
   "metadata": {},
   "outputs": [],
   "source": [
    "%matplotlib inline\n",
    "%config InlineBackend.figure_formats = {'png','retina'}"
   ]
  },
  {
   "cell_type": "code",
   "execution_count": 16,
   "metadata": {},
   "outputs": [],
   "source": [
    "def import_data():\n",
    "    df = pd.read_csv('data/final_df.csv')\n",
    "    df = df.iloc[:,1:]\n",
    "    \n",
    "    return df"
   ]
  },
  {
   "cell_type": "code",
   "execution_count": null,
   "metadata": {},
   "outputs": [],
   "source": [
    "# data = pd.read_csv('data/data.csv')\n",
    "# data=data.iloc[:,1:]"
   ]
  },
  {
   "cell_type": "code",
   "execution_count": null,
   "metadata": {},
   "outputs": [],
   "source": [
    "# new_order = ['date', 'store_nbr', 'item_nbr', 'station_nbr', 'tmax', 'tmin',\n",
    "#        'tavg', 'depart', 'dewpoint', 'wetbulb', 'heat', 'cool', 'sunrise',\n",
    "#        'sunset', 'snowfall', 'preciptotal', 'stnpressure', 'sealevel',\n",
    "#        'avgspeed', 'resultspeed', 'resultdir', 'TS', 'GR', 'RA', 'DZ', 'SN',\n",
    "#        'SG', 'GS', 'PL', 'FG+', 'FG', 'BR', 'UP', 'HZ', 'FU', 'DU', 'SQ', 'FZ',\n",
    "#        'MI', 'PR', 'BC', 'BL', 'VC', 'units']"
   ]
  },
  {
   "cell_type": "code",
   "execution_count": null,
   "metadata": {},
   "outputs": [],
   "source": [
    "# data = data[new_order]"
   ]
  },
  {
   "cell_type": "code",
   "execution_count": null,
   "metadata": {},
   "outputs": [],
   "source": [
    "# data.columns = ['date', 'store_nbr', 'item_nbr', 'station_nbr', 'tmax', 'tmin', 'tavg',\n",
    "#        'depart', 'dewpoint', 'wetbulb', 'heat', 'cool', 'sunrise', 'sunset',\n",
    "#        'snowfall', 'preciptotal', 'stnpressure', 'sealevel', 'avgspeed',\n",
    "#        'resultspeed', 'resultdir', 'TS', 'GR', 'RA', 'DZ', 'SN', 'SG', 'GS',\n",
    "#        'PL', 'FG2', 'FG', 'BR', 'UP', 'HZ', 'FU', 'DU', 'SQ', 'FZ', 'MI', 'PR',\n",
    "#        'BC', 'BL', 'VC', 'units']"
   ]
  },
  {
   "cell_type": "code",
   "execution_count": 17,
   "metadata": {},
   "outputs": [],
   "source": [
    "def fulldf(df):\n",
    "    \n",
    "    df.snowfall = df.snowfall.replace([\"T\",\"  T\"],0.05)\n",
    "    df.preciptotal = df.preciptotal.replace([\"T\",\"  T\"],0.005)\n",
    "    df.depart = pd.to_numeric(df.depart, errors='coerce')\n",
    "    \n",
    "    df = type_change_numeric(df,[ 'store_nbr', 'item_nbr', 'units', 'station_nbr', 'tmax', 'tmin',\n",
    "       'tavg', 'depart', 'dewpoint', 'wetbulb', 'heat', 'cool', 'snowfall', 'preciptotal', 'stnpressure', 'sealevel',\n",
    "       'avgspeed', 'resultspeed', 'resultdir' ])\n",
    "    df['date'] = pd.to_datetime(df['date'])\n",
    "                                   \n",
    "    \n",
    "    df[\"day_of_year\"] = df['date'].dt.dayofyear\n",
    "    df[\"year\"] = df['date'].dt.year\n",
    "    df[\"month\"] = df[\"date\"].dt.month\n",
    "    \n",
    "    \n",
    "    for idx in range(5, 8):\n",
    "        df.iloc[:,idx].fillna(df.groupby([\"day_of_year\",\"store_nbr\"])[df.columns[idx]].\\\n",
    "                              transform('mean'), inplace=True)\n",
    "\n",
    "    for idx in range(16, 23):\n",
    "        df.iloc[:,idx].fillna(df.groupby([\"day_of_year\",\"store_nbr\"])[df.columns[idx]].\\\n",
    "                              transform('mean'), inplace=True)\n",
    "    add_depart1(df)\n",
    "    \n",
    "    return df\n",
    "\n",
    "# for column in item37.columns:\n",
    "#     item37[column].interpolate()"
   ]
  },
  {
   "cell_type": "code",
   "execution_count": 18,
   "metadata": {},
   "outputs": [],
   "source": [
    "def type_change_numeric(df, ls = []): \n",
    "    #ls에 있는 column name은 numeric형으로 바꾸지 않는다.\n",
    "    cols = df.columns\n",
    "    for i in cols:\n",
    "        if i in ls:\n",
    "            #df = df.replace([\"M\",None], '')\n",
    "            df.snowfall = df.snowfall.replace([\"T\",\"  T\"],0.05)\n",
    "            df.preciptotal = df.preciptotal.replace([\"T\",\"  T\"],0.005)\n",
    "            df[i] = pd.to_numeric(df[i], errors='coerce')\n",
    "        \n",
    "    return df"
   ]
  },
  {
   "cell_type": "code",
   "execution_count": 19,
   "metadata": {},
   "outputs": [],
   "source": [
    "def add_depart1(x):\n",
    "    x.depart.fillna(x.tavg - x.groupby([\"day_of_year\",\"store_nbr\"])[\"tavg\"].transform('mean'),inplace = True)\n",
    "    x.depart = x.depart.round(2)\n",
    "    return x.sort_values([\"store_nbr\",\"date\",\"item_nbr\"])"
   ]
  },
  {
   "cell_type": "code",
   "execution_count": 20,
   "metadata": {},
   "outputs": [],
   "source": [
    "def reorder_df(df):\n",
    "    #Column 정렬 (y값을 마지막으로 ) 후 FG+ -> FG2 변환 (formula에 인식시키기위해 )\n",
    "    new_order =  ['date', 'store_nbr', 'item_nbr', 'station_nbr', 'tmax', 'tmin',\n",
    "       'tavg', 'depart', 'dewpoint', 'wetbulb', 'heat', 'cool',  'snowfall', 'preciptotal', 'stnpressure', 'sealevel',\n",
    "       'avgspeed', 'resultspeed', 'TS', 'GR', 'RA', 'DZ', 'SN',\n",
    "       'SG', 'GS', 'PL', 'FG+', 'FG', 'BR', 'UP', 'HZ', 'FU', 'DU', 'SQ', 'FZ',\n",
    "       'MI', 'PR', 'BC', 'BL', 'VC', 'day_of_year', 'year', 'month', 'units' ]\n",
    "    df = df[new_order]\n",
    "    df.columns = ['date', 'store_nbr', 'item_nbr', 'station_nbr', 'tmax', 'tmin',\n",
    "       'tavg', 'depart', 'dewpoint', 'wetbulb', 'heat', 'cool', 'snowfall', 'preciptotal', 'stnpressure', 'sealevel',\n",
    "       'avgspeed', 'resultspeed', 'TS', 'GR', 'RA', 'DZ', 'SN',\n",
    "       'SG', 'GS', 'PL', 'FG2', 'FG', 'BR', 'UP', 'HZ', 'FU', 'DU', 'SQ', 'FZ',\n",
    "       'MI', 'PR', 'BC', 'BL', 'VC', 'day_of_year', 'year', 'month', 'units' ]\n",
    "    \n",
    "    return df"
   ]
  },
  {
   "cell_type": "code",
   "execution_count": 21,
   "metadata": {},
   "outputs": [],
   "source": [
    "def add_cat_columns(df):\n",
    "    df['date'] = pd.to_datetime(df['date'])\n",
    "#     df['sunrise'] = pd.to_datetime(df['sunrise'], format='%H%M')\n",
    "#     df['sunset'] = pd.to_datetime(df['sunset'], format='%H%M')\n",
    "\n",
    "    blackfriday = [\"2012-11-21\",\"2012-11-22\",\"2012-11-23\", \"2012-11-24\",\"2012-11-25\",\n",
    "              \"2013-11-27\",\"2013-11-28\", \"2013-11-29\",\"2013-11-30\",\"2013-11-31\",\n",
    "              \"2014-11-26\", \"2014-11-27\", \"2014-11-28\",\"2014-11-29\",\"2014-11-30\"]\n",
    "    df[\"week_day_name\"] = df['date'].dt.weekday_name\n",
    "    df['weekend'] = False\n",
    "    df.weekend[df['week_day_name'] == 'Sunday'] = True\n",
    "    df.weekend[df['week_day_name'] == 'Saturday'] = True\n",
    "    df.weekend[df['week_day_name'] == 'Friday'] = True\n",
    "    df[\"is_blackfriday\"] = df.date.apply(lambda x : str(x)[:10] in blackfriday).astype(int)\n",
    "    \n",
    "    df['hardrain'] = [(((4 if i > 8 else 3) if i > 6 else 2) if i > 1 else 1) if i > 0 else 0 for i in df['preciptotal']]\n",
    "    # rain 1 snow 2\n",
    "    # 득정조건열 추가 ()\n",
    "    df['hardsnow'] = [(( 3 if i > 3.5 else 2) if i > 1 else 1) if i > 0 else 0 for i in df['snowfall']]\n",
    "    \n",
    "    df['log_units'] = df.units.apply(lambda x: np.log(x + 1)).astype(float)\n",
    "    return df"
   ]
  },
  {
   "cell_type": "code",
   "execution_count": 32,
   "metadata": {},
   "outputs": [],
   "source": [
    "def df_sampling(df):\n",
    "    new_order = ['date', 'store_nbr', 'item_nbr', 'station_nbr', 'tmax', 'tmin', 'tavg',\n",
    "       'depart', 'dewpoint', 'wetbulb', 'heat', 'cool', 'preciptotal', 'stnpressure', 'sealevel', 'avgspeed',\n",
    "       'resultspeed', 'TS', 'GR', 'RA', 'DZ', 'SN', 'SG', 'GS',\n",
    "       'PL', 'FG2', 'FG', 'BR', 'UP', 'HZ', 'FU', 'DU', 'SQ', 'FZ', 'MI', 'PR',\n",
    "       'BC', 'BL', 'VC', 'day_of_year', 'year', 'month', \n",
    "       'week_day_name', 'weekend', 'is_blackfriday', 'hardrain', 'hardsnow',\n",
    "       'log_units', 'units' ]\n",
    "    \n",
    "    df = df[new_order]\n",
    "    \n",
    "    X, y = df.iloc[:,:-1], df.units\n",
    "    X_train, X_test, y_train, y_test = train_test_split(X, y, test_size = 0.3, random_state = 2018)\n",
    "    \n",
    "    train = pd.concat([X_train, y_train] ,axis = 1)\n",
    "    train = train.sort_values(by=['date', 'store_nbr', 'item_nbr']).reset_index(drop= True)\n",
    "    X_test = X_test.sort_index()\n",
    "    y_train = y_train.sort_index()\n",
    "    y_test = y_test.sort_index()\n",
    "    \n",
    "    return train, y_train,  X_test ,y_test\n",
    "   "
   ]
  },
  {
   "cell_type": "code",
   "execution_count": 23,
   "metadata": {
    "scrolled": true
   },
   "outputs": [
    {
     "name": "stderr",
     "output_type": "stream",
     "text": [
      "C:\\ProgramData\\Anaconda3\\lib\\site-packages\\ipykernel_launcher.py:2: SettingWithCopyWarning: \n",
      "A value is trying to be set on a copy of a slice from a DataFrame.\n",
      "Try using .loc[row_indexer,col_indexer] = value instead\n",
      "\n",
      "See the caveats in the documentation: http://pandas.pydata.org/pandas-docs/stable/indexing.html#indexing-view-versus-copy\n",
      "  \n",
      "C:\\ProgramData\\Anaconda3\\lib\\site-packages\\ipykernel_launcher.py:9: SettingWithCopyWarning: \n",
      "A value is trying to be set on a copy of a slice from a DataFrame.\n",
      "Try using .loc[row_indexer,col_indexer] = value instead\n",
      "\n",
      "See the caveats in the documentation: http://pandas.pydata.org/pandas-docs/stable/indexing.html#indexing-view-versus-copy\n",
      "  if __name__ == '__main__':\n",
      "C:\\ProgramData\\Anaconda3\\lib\\site-packages\\ipykernel_launcher.py:10: SettingWithCopyWarning: \n",
      "A value is trying to be set on a copy of a slice from a DataFrame.\n",
      "Try using .loc[row_indexer,col_indexer] = value instead\n",
      "\n",
      "See the caveats in the documentation: http://pandas.pydata.org/pandas-docs/stable/indexing.html#indexing-view-versus-copy\n",
      "  # Remove the CWD from sys.path while we load stuff.\n",
      "C:\\ProgramData\\Anaconda3\\lib\\site-packages\\ipykernel_launcher.py:11: SettingWithCopyWarning: \n",
      "A value is trying to be set on a copy of a slice from a DataFrame\n",
      "\n",
      "See the caveats in the documentation: http://pandas.pydata.org/pandas-docs/stable/indexing.html#indexing-view-versus-copy\n",
      "  # This is added back by InteractiveShellApp.init_path()\n",
      "C:\\ProgramData\\Anaconda3\\lib\\site-packages\\pandas\\core\\generic.py:5984: SettingWithCopyWarning: \n",
      "A value is trying to be set on a copy of a slice from a DataFrame\n",
      "\n",
      "See the caveats in the documentation: http://pandas.pydata.org/pandas-docs/stable/indexing.html#indexing-view-versus-copy\n",
      "  self._update_inplace(new_data)\n",
      "C:\\ProgramData\\Anaconda3\\lib\\site-packages\\ipykernel_launcher.py:4: SettingWithCopyWarning: \n",
      "A value is trying to be set on a copy of a slice from a DataFrame\n",
      "\n",
      "See the caveats in the documentation: http://pandas.pydata.org/pandas-docs/stable/indexing.html#indexing-view-versus-copy\n",
      "  after removing the cwd from sys.path.\n",
      "C:\\ProgramData\\Anaconda3\\lib\\site-packages\\ipykernel_launcher.py:12: SettingWithCopyWarning: \n",
      "A value is trying to be set on a copy of a slice from a DataFrame\n",
      "\n",
      "See the caveats in the documentation: http://pandas.pydata.org/pandas-docs/stable/indexing.html#indexing-view-versus-copy\n",
      "  if sys.path[0] == '':\n",
      "C:\\ProgramData\\Anaconda3\\lib\\site-packages\\ipykernel_launcher.py:13: SettingWithCopyWarning: \n",
      "A value is trying to be set on a copy of a slice from a DataFrame\n",
      "\n",
      "See the caveats in the documentation: http://pandas.pydata.org/pandas-docs/stable/indexing.html#indexing-view-versus-copy\n",
      "  del sys.path[0]\n",
      "C:\\ProgramData\\Anaconda3\\lib\\site-packages\\ipykernel_launcher.py:14: SettingWithCopyWarning: \n",
      "A value is trying to be set on a copy of a slice from a DataFrame.\n",
      "Try using .loc[row_indexer,col_indexer] = value instead\n",
      "\n",
      "See the caveats in the documentation: http://pandas.pydata.org/pandas-docs/stable/indexing.html#indexing-view-versus-copy\n",
      "  \n",
      "C:\\ProgramData\\Anaconda3\\lib\\site-packages\\ipykernel_launcher.py:16: SettingWithCopyWarning: \n",
      "A value is trying to be set on a copy of a slice from a DataFrame.\n",
      "Try using .loc[row_indexer,col_indexer] = value instead\n",
      "\n",
      "See the caveats in the documentation: http://pandas.pydata.org/pandas-docs/stable/indexing.html#indexing-view-versus-copy\n",
      "  app.launch_new_instance()\n",
      "C:\\ProgramData\\Anaconda3\\lib\\site-packages\\ipykernel_launcher.py:19: SettingWithCopyWarning: \n",
      "A value is trying to be set on a copy of a slice from a DataFrame.\n",
      "Try using .loc[row_indexer,col_indexer] = value instead\n",
      "\n",
      "See the caveats in the documentation: http://pandas.pydata.org/pandas-docs/stable/indexing.html#indexing-view-versus-copy\n",
      "C:\\ProgramData\\Anaconda3\\lib\\site-packages\\ipykernel_launcher.py:21: SettingWithCopyWarning: \n",
      "A value is trying to be set on a copy of a slice from a DataFrame.\n",
      "Try using .loc[row_indexer,col_indexer] = value instead\n",
      "\n",
      "See the caveats in the documentation: http://pandas.pydata.org/pandas-docs/stable/indexing.html#indexing-view-versus-copy\n"
     ]
    }
   ],
   "source": [
    "data = import_data()\n",
    "data_t = fulldf(data)\n",
    "data_t = reorder_df(data_t)\n",
    "data_t  = add_cat_columns(data_t)"
   ]
  },
  {
   "cell_type": "code",
   "execution_count": 24,
   "metadata": {},
   "outputs": [],
   "source": [
    "del data_t['snowfall']\n",
    "data_t = data_t.dropna()"
   ]
  },
  {
   "cell_type": "code",
   "execution_count": 33,
   "metadata": {},
   "outputs": [],
   "source": [
    "train0, y_train, X_test, y_test = df_sampling(data_t)\n",
    "train = sm.add_constant(train0)"
   ]
  },
  {
   "cell_type": "code",
   "execution_count": null,
   "metadata": {},
   "outputs": [],
   "source": [
    "\n",
    "# X, y = data_t.iloc[:,:-1], data_t.units\n",
    "# X_train, X_testm, y_train, y_test = train_test_split(X, y, test_size = 0.3, random_state = 2018)\n",
    "# train = pd.concat([X_train, y_train] ,axis = 1)\n",
    "# train = train.sort_values(by=['date', 'store_nbr', 'item_nbr']).reset_index(drop= True)"
   ]
  },
  {
   "cell_type": "code",
   "execution_count": null,
   "metadata": {},
   "outputs": [],
   "source": [
    "# X_train['date'] = pd.to_datetime(X_train['date'])\n",
    "# X_train['sunrise'] = pd.to_datetime(X_train['sunrise'], format='%H%M')\n",
    "# X_train['sunset'] = pd.to_datetime(X_train['sunset'], format='%H%M')\n",
    "# X_testm['date'] = pd.to_datetime(X_testm['date'])\n",
    "# X_testm['sunrise'] = pd.to_datetime(X_testm['sunrise'], format='%H%M')\n",
    "# X_testm['sunset'] = pd.to_datetime(X_testm['sunset'], format='%H%M')"
   ]
  },
  {
   "cell_type": "code",
   "execution_count": null,
   "metadata": {},
   "outputs": [],
   "source": [
    "# train['log_units'] = train.units.apply(lambda x: np.log(x + 1))"
   ]
  },
  {
   "cell_type": "code",
   "execution_count": null,
   "metadata": {
    "scrolled": true
   },
   "outputs": [],
   "source": [
    "\n",
    "# train['month'] =train[\"date\"].dt.month\n",
    "# train['weekend'] = False\n",
    "# train.weekend[train['week_day_name'] == 'Sunday'] = True\n",
    "# train.weekend[train['week_day_name'] == 'Saturday'] = True\n",
    "# train.weekend[train['week_day_name'] == 'Friday'] = True\n",
    "# train[\"is_blackfriday\"] = train.date.apply(lambda x : str(x)[:10] in blackfriday).astype(int)"
   ]
  },
  {
   "cell_type": "code",
   "execution_count": null,
   "metadata": {},
   "outputs": [],
   "source": [
    "# blackfriday = [\"2012-11-21\",\"2012-11-22\",\"2012-11-23\", \"2012-11-24\",\"2012-11-25\",\n",
    "#               \"2013-11-27\",\"2013-11-28\", \"2013-11-29\",\"2013-11-30\",\"2013-11-31\",\n",
    "#               \"2014-11-26\", \"2014-11-27\", \"2014-11-28\",\"2014-11-29\",\"2014-11-30\"]"
   ]
  },
  {
   "cell_type": "code",
   "execution_count": null,
   "metadata": {},
   "outputs": [],
   "source": [
    "# train[train > 3.5].preciptotal.hist(bins = 20)"
   ]
  },
  {
   "cell_type": "code",
   "execution_count": null,
   "metadata": {},
   "outputs": [],
   "source": [
    "# train['hardrain'] = [(((4 if i > 8 else 3) if i > 6 else 2) if i > 1 else 1) if i > 0 else 0 for i in train['preciptotal']]\n",
    "# # rain 1 snow 2\n",
    "# # 득정조건열 추가 ()\n",
    "# train['hardsnow'] = [(( 3 if i > 3.5 else 2) if i > 1 else 1) if i > 0 else 0 for i in train['snowfall']]"
   ]
  },
  {
   "cell_type": "code",
   "execution_count": null,
   "metadata": {},
   "outputs": [],
   "source": [
    "# del train['sunrise']\n",
    "# del train['sunset']\n",
    "# del train['snowfall']\n",
    "# train = train.dropna()"
   ]
  },
  {
   "cell_type": "code",
   "execution_count": 26,
   "metadata": {
    "scrolled": true
   },
   "outputs": [
    {
     "name": "stdout",
     "output_type": "stream",
     "text": [
      "                            OLS Regression Results                            \n",
      "==============================================================================\n",
      "Dep. Variable:              log_units   R-squared:                       0.745\n",
      "Model:                            OLS   Adj. R-squared:                  0.745\n",
      "Method:                 Least Squares   F-statistic:                     3065.\n",
      "Date:                Fri, 06 Jul 2018   Prob (F-statistic):               0.00\n",
      "Time:                        17:06:55   Log-Likelihood:            -2.1461e+05\n",
      "No. Observations:              166793   AIC:                         4.295e+05\n",
      "Df Residuals:                  166633   BIC:                         4.312e+05\n",
      "Df Model:                         159                                         \n",
      "Covariance Type:            nonrobust                                         \n",
      "==========================================================================================\n",
      "                             coef    std err          t      P>|t|      [0.025      0.975]\n",
      "------------------------------------------------------------------------------------------\n",
      "C(store_nbr)[1]            0.8229      0.041     19.965      0.000       0.742       0.904\n",
      "C(store_nbr)[2]            0.8738      0.040     21.696      0.000       0.795       0.953\n",
      "C(store_nbr)[3]            0.6924      0.041     17.013      0.000       0.613       0.772\n",
      "C(store_nbr)[4]            1.5163      0.046     33.223      0.000       1.427       1.606\n",
      "C(store_nbr)[5]            0.7744      0.042     18.401      0.000       0.692       0.857\n",
      "C(store_nbr)[6]            0.7257      0.043     16.909      0.000       0.642       0.810\n",
      "C(store_nbr)[7]            1.0964      0.044     24.758      0.000       1.010       1.183\n",
      "C(store_nbr)[8]            0.6627      0.043     15.435      0.000       0.579       0.747\n",
      "C(store_nbr)[9]            0.8948      0.041     21.654      0.000       0.814       0.976\n",
      "C(store_nbr)[10]           0.9427      0.040     23.329      0.000       0.864       1.022\n",
      "C(store_nbr)[11]           0.8715      0.040     21.806      0.000       0.793       0.950\n",
      "C(store_nbr)[12]           1.0279      0.041     24.821      0.000       0.947       1.109\n",
      "C(store_nbr)[13]           1.1057      0.044     25.213      0.000       1.020       1.192\n",
      "C(store_nbr)[14]           0.3860      0.039      9.853      0.000       0.309       0.463\n",
      "C(store_nbr)[15]           1.0515      0.038     27.325      0.000       0.976       1.127\n",
      "C(store_nbr)[16]           0.9242      0.040     23.071      0.000       0.846       1.003\n",
      "C(store_nbr)[17]           2.0930      0.044     48.062      0.000       2.008       2.178\n",
      "C(store_nbr)[18]           0.3403      0.044      7.745      0.000       0.254       0.426\n",
      "C(store_nbr)[19]           0.6989      0.040     17.388      0.000       0.620       0.778\n",
      "C(store_nbr)[20]           0.9272      0.043     21.382      0.000       0.842       1.012\n",
      "C(store_nbr)[21]           0.6976      0.042     16.800      0.000       0.616       0.779\n",
      "C(store_nbr)[22]           0.9761      0.041     23.714      0.000       0.895       1.057\n",
      "C(store_nbr)[23]           0.5094      0.042     12.093      0.000       0.427       0.592\n",
      "C(store_nbr)[24]           1.5412      0.062     24.875      0.000       1.420       1.663\n",
      "C(store_nbr)[25]           1.1652      0.040     29.379      0.000       1.087       1.243\n",
      "C(store_nbr)[26]           0.7289      0.041     17.580      0.000       0.648       0.810\n",
      "C(store_nbr)[27]           0.8664      0.041     20.883      0.000       0.785       0.948\n",
      "C(store_nbr)[28]           0.4413      0.042     10.616      0.000       0.360       0.523\n",
      "C(store_nbr)[29]           0.5870      0.044     13.466      0.000       0.502       0.672\n",
      "C(store_nbr)[30]           0.8961      0.039     22.829      0.000       0.819       0.973\n",
      "C(store_nbr)[31]           1.0287      0.040     25.482      0.000       0.950       1.108\n",
      "C(store_nbr)[32]           0.9358      0.039     23.888      0.000       0.859       1.013\n",
      "C(store_nbr)[33]           1.3499      0.040     34.035      0.000       1.272       1.428\n",
      "C(store_nbr)[34]           1.0526      0.040     26.009      0.000       0.973       1.132\n",
      "C(store_nbr)[36]           0.7130      0.025     28.161      0.000       0.663       0.763\n",
      "C(store_nbr)[37]           0.8812      0.040     22.113      0.000       0.803       0.959\n",
      "C(store_nbr)[38]           0.9312      0.040     23.564      0.000       0.854       1.009\n",
      "C(store_nbr)[40]           0.8969      0.039     22.943      0.000       0.820       0.974\n",
      "C(store_nbr)[41]           0.9695      0.040     24.309      0.000       0.891       1.048\n",
      "C(store_nbr)[42]           0.4864      0.044     11.173      0.000       0.401       0.572\n",
      "C(store_nbr)[43]           0.8853      0.042     20.914      0.000       0.802       0.968\n",
      "C(store_nbr)[44]           0.8704      0.042     20.918      0.000       0.789       0.952\n",
      "C(store_nbr)[45]           0.3791      0.042      8.931      0.000       0.296       0.462\n",
      "C(item_nbr)[T.2]           0.1566      0.041      3.841      0.000       0.077       0.237\n",
      "C(item_nbr)[T.3]          -0.2348      0.049     -4.837      0.000      -0.330      -0.140\n",
      "C(item_nbr)[T.4]           0.1670      0.049      3.434      0.001       0.072       0.262\n",
      "C(item_nbr)[T.5]           2.8688      0.037     78.435      0.000       2.797       2.941\n",
      "C(item_nbr)[T.6]           2.0378      0.070     29.113      0.000       1.901       2.175\n",
      "C(item_nbr)[T.7]          -0.3853      0.050     -7.715      0.000      -0.483      -0.287\n",
      "C(item_nbr)[T.8]           2.6669      0.054     49.262      0.000       2.561       2.773\n",
      "C(item_nbr)[T.9]           2.7380      0.035     78.119      0.000       2.669       2.807\n",
      "C(item_nbr)[T.10]         -0.2130      0.052     -4.076      0.000      -0.315      -0.111\n",
      "C(item_nbr)[T.11]         -0.2356      0.051     -4.596      0.000      -0.336      -0.135\n",
      "C(item_nbr)[T.12]         -0.5729      0.051    -11.237      0.000      -0.673      -0.473\n",
      "C(item_nbr)[T.13]         -0.3774      0.047     -7.993      0.000      -0.470      -0.285\n",
      "C(item_nbr)[T.14]         -0.2833      0.050     -5.680      0.000      -0.381      -0.186\n",
      "C(item_nbr)[T.15]         -0.1980      0.038     -5.196      0.000      -0.273      -0.123\n",
      "C(item_nbr)[T.16]          2.3512      0.038     61.304      0.000       2.276       2.426\n",
      "C(item_nbr)[T.17]         -0.3619      0.042     -8.563      0.000      -0.445      -0.279\n",
      "C(item_nbr)[T.18]         -0.2604      0.058     -4.524      0.000      -0.373      -0.148\n",
      "C(item_nbr)[T.19]         -0.2639      0.054     -4.886      0.000      -0.370      -0.158\n",
      "C(item_nbr)[T.20]          0.1236      0.057      2.183      0.029       0.013       0.235\n",
      "C(item_nbr)[T.21]         -0.0329      0.047     -0.705      0.481      -0.124       0.059\n",
      "C(item_nbr)[T.22]          0.7286      0.086      8.464      0.000       0.560       0.897\n",
      "C(item_nbr)[T.23]          1.9802      0.047     42.442      0.000       1.889       2.072\n",
      "C(item_nbr)[T.25]          2.9104      0.044     65.911      0.000       2.824       2.997\n",
      "C(item_nbr)[T.26]          1.1442      0.053     21.416      0.000       1.039       1.249\n",
      "C(item_nbr)[T.27]          1.0433      0.056     18.633      0.000       0.934       1.153\n",
      "C(item_nbr)[T.28]          1.0356      0.052     19.876      0.000       0.934       1.138\n",
      "C(item_nbr)[T.30]          0.1722      0.040      4.255      0.000       0.093       0.252\n",
      "C(item_nbr)[T.31]         -0.4242      0.052     -8.210      0.000      -0.525      -0.323\n",
      "C(item_nbr)[T.32]         -0.1387      0.052     -2.642      0.008      -0.242      -0.036\n",
      "C(item_nbr)[T.34]          0.0118      0.053      0.222      0.825      -0.092       0.116\n",
      "C(item_nbr)[T.35]          0.2818      0.053      5.312      0.000       0.178       0.386\n",
      "C(item_nbr)[T.36]          3.0837      0.054     57.114      0.000       2.978       3.189\n",
      "C(item_nbr)[T.37]          1.8738      0.039     47.553      0.000       1.797       1.951\n",
      "C(item_nbr)[T.38]          0.9381      0.066     14.321      0.000       0.810       1.066\n",
      "C(item_nbr)[T.39]         -0.3742      0.042     -8.849      0.000      -0.457      -0.291\n",
      "C(item_nbr)[T.40]         -0.3533      0.049     -7.279      0.000      -0.448      -0.258\n",
      "C(item_nbr)[T.41]          2.3746      0.046     51.078      0.000       2.283       2.466\n",
      "C(item_nbr)[T.43]          2.2718      0.070     32.260      0.000       2.134       2.410\n",
      "C(item_nbr)[T.44]          3.5576      0.035    101.577      0.000       3.489       3.626\n",
      "C(item_nbr)[T.45]          3.2933      0.037     89.764      0.000       3.221       3.365\n",
      "C(item_nbr)[T.47]          1.1531      0.065     17.681      0.000       1.025       1.281\n",
      "C(item_nbr)[T.48]          2.7303      0.064     42.785      0.000       2.605       2.855\n",
      "C(item_nbr)[T.49]         -0.5568      0.041    -13.517      0.000      -0.638      -0.476\n",
      "C(item_nbr)[T.50]         -0.2202      0.039     -5.630      0.000      -0.297      -0.144\n",
      "C(item_nbr)[T.51]         -0.3692      0.039     -9.579      0.000      -0.445      -0.294\n",
      "C(item_nbr)[T.52]         -0.0471      0.046     -1.020      0.308      -0.138       0.043\n",
      "C(item_nbr)[T.53]         -0.2488      0.051     -4.890      0.000      -0.349      -0.149\n",
      "C(item_nbr)[T.54]         -0.3649      0.052     -6.974      0.000      -0.467      -0.262\n",
      "C(item_nbr)[T.55]         -0.1110      0.045     -2.444      0.015      -0.200      -0.022\n",
      "C(item_nbr)[T.56]          0.1785      0.044      4.065      0.000       0.092       0.265\n",
      "C(item_nbr)[T.57]          0.2518      0.050      5.062      0.000       0.154       0.349\n",
      "C(item_nbr)[T.58]         -0.1725      0.046     -3.768      0.000      -0.262      -0.083\n",
      "C(item_nbr)[T.59]          0.1090      0.053      2.038      0.042       0.004       0.214\n",
      "C(item_nbr)[T.60]         -0.8091      0.070    -11.502      0.000      -0.947      -0.671\n",
      "C(item_nbr)[T.61]         -0.2635      0.039     -6.672      0.000      -0.341      -0.186\n",
      "C(item_nbr)[T.62]         -0.2045      0.048     -4.279      0.000      -0.298      -0.111\n",
      "C(item_nbr)[T.64]          0.2898      0.065      4.429      0.000       0.162       0.418\n",
      "C(item_nbr)[T.65]         -0.2625      0.051     -5.175      0.000      -0.362      -0.163\n",
      "C(item_nbr)[T.67]          0.7191      0.052     13.897      0.000       0.618       0.821\n",
      "C(item_nbr)[T.68]          2.4981      0.039     63.375      0.000       2.421       2.575\n",
      "C(item_nbr)[T.69]          0.2657      0.057      4.622      0.000       0.153       0.378\n",
      "C(item_nbr)[T.70]          0.2066      0.046      4.523      0.000       0.117       0.296\n",
      "C(item_nbr)[T.71]         -1.5302      0.054    -28.416      0.000      -1.636      -1.425\n",
      "C(item_nbr)[T.72]          0.2892      0.054      5.322      0.000       0.183       0.396\n",
      "C(item_nbr)[T.73]         -0.3022      0.054     -5.625      0.000      -0.407      -0.197\n",
      "C(item_nbr)[T.74]         -0.1997      0.049     -4.041      0.000      -0.297      -0.103\n",
      "C(item_nbr)[T.75]         -0.1060      0.052     -2.056      0.040      -0.207      -0.005\n",
      "C(item_nbr)[T.76]         -1.0261      0.066    -15.448      0.000      -1.156      -0.896\n",
      "C(item_nbr)[T.77]         -0.2045      0.047     -4.381      0.000      -0.296      -0.113\n",
      "C(item_nbr)[T.78]         -0.3017      0.047     -6.389      0.000      -0.394      -0.209\n",
      "C(item_nbr)[T.79]         -0.3650      0.053     -6.870      0.000      -0.469      -0.261\n",
      "C(item_nbr)[T.80]         -0.3193      0.052     -6.082      0.000      -0.422      -0.216\n",
      "C(item_nbr)[T.81]          1.2884      0.066     19.491      0.000       1.159       1.418\n",
      "C(item_nbr)[T.82]          0.0917      0.054      1.696      0.090      -0.014       0.198\n",
      "C(item_nbr)[T.83]          1.5653      0.052     30.301      0.000       1.464       1.667\n",
      "C(item_nbr)[T.84]         -0.6981      0.045    -15.496      0.000      -0.786      -0.610\n",
      "C(item_nbr)[T.85]         -0.8114      0.046    -17.735      0.000      -0.901      -0.722\n",
      "C(item_nbr)[T.86]         -0.5552      0.038    -14.575      0.000      -0.630      -0.481\n",
      "C(item_nbr)[T.87]         -0.0593      0.051     -1.161      0.246      -0.159       0.041\n",
      "C(item_nbr)[T.88]         -0.1750      0.042     -4.163      0.000      -0.257      -0.093\n",
      "C(item_nbr)[T.89]         -0.5374      0.062     -8.627      0.000      -0.660      -0.415\n",
      "C(item_nbr)[T.90]         -0.6296      0.056    -11.192      0.000      -0.740      -0.519\n",
      "C(item_nbr)[T.91]         -0.0635      0.052     -1.212      0.226      -0.166       0.039\n",
      "C(item_nbr)[T.92]         -0.6476      0.046    -14.055      0.000      -0.738      -0.557\n",
      "C(item_nbr)[T.93]         -0.2001      0.037     -5.456      0.000      -0.272      -0.128\n",
      "C(item_nbr)[T.94]         -0.1168      0.052     -2.228      0.026      -0.219      -0.014\n",
      "C(item_nbr)[T.95]          2.3791      0.065     36.668      0.000       2.252       2.506\n",
      "C(item_nbr)[T.96]         -1.0792      0.051    -21.132      0.000      -1.179      -0.979\n",
      "C(item_nbr)[T.97]         -0.9231      0.054    -17.058      0.000      -1.029      -0.817\n",
      "C(item_nbr)[T.98]         -0.2057      0.045     -4.522      0.000      -0.295      -0.117\n",
      "C(item_nbr)[T.99]         -0.1323      0.055     -2.424      0.015      -0.239      -0.025\n",
      "C(item_nbr)[T.100]         0.1082      0.056      1.926      0.054      -0.002       0.218\n",
      "C(item_nbr)[T.101]        -0.7961      0.060    -13.309      0.000      -0.913      -0.679\n",
      "C(item_nbr)[T.102]        -0.1657      0.060     -2.758      0.006      -0.283      -0.048\n",
      "C(item_nbr)[T.104]        -0.3787      0.043     -8.857      0.000      -0.463      -0.295\n",
      "C(item_nbr)[T.105]        -0.2643      0.042     -6.325      0.000      -0.346      -0.182\n",
      "C(item_nbr)[T.106]        -0.3432      0.050     -6.826      0.000      -0.442      -0.245\n",
      "C(item_nbr)[T.107]         0.4558      0.068      6.663      0.000       0.322       0.590\n",
      "C(item_nbr)[T.108]         0.9507      0.066     14.487      0.000       0.822       1.079\n",
      "C(item_nbr)[T.109]         1.2733      0.053     23.857      0.000       1.169       1.378\n",
      "C(item_nbr)[T.110]         0.9173      0.077     11.846      0.000       0.766       1.069\n",
      "C(weekend)[T.True]         0.1029      0.004     23.694      0.000       0.094       0.111\n",
      "C(month)[T.2]             -0.0331      0.010     -3.322      0.001      -0.053      -0.014\n",
      "C(month)[T.3]             -0.0149      0.010     -1.523      0.128      -0.034       0.004\n",
      "C(month)[T.4]             -0.1170      0.010    -11.570      0.000      -0.137      -0.097\n",
      "C(month)[T.5]             -0.1974      0.010    -19.636      0.000      -0.217      -0.178\n",
      "C(month)[T.6]             -0.1835      0.010    -18.033      0.000      -0.203      -0.164\n",
      "C(month)[T.7]             -0.2412      0.010    -24.058      0.000      -0.261      -0.222\n",
      "C(month)[T.8]             -0.1408      0.010    -14.019      0.000      -0.161      -0.121\n",
      "C(month)[T.9]             -0.3167      0.010    -32.238      0.000      -0.336      -0.297\n",
      "C(month)[T.10]            -0.2381      0.010    -23.876      0.000      -0.258      -0.219\n",
      "C(month)[T.11]            -0.1595      0.012    -13.383      0.000      -0.183      -0.136\n",
      "C(month)[T.12]            -0.0660      0.011     -5.752      0.000      -0.088      -0.044\n",
      "C(year)[T.2013]           -0.2858      0.005    -54.913      0.000      -0.296      -0.276\n",
      "C(year)[T.2014]           -0.4438      0.006    -76.467      0.000      -0.455      -0.432\n",
      "C(is_blackfriday)[T.1]    -0.2771      0.025    -11.122      0.000      -0.326      -0.228\n",
      "scale(preciptotal)        -0.0819      0.002    -37.677      0.000      -0.086      -0.078\n",
      "==============================================================================\n",
      "Omnibus:                    49303.804   Durbin-Watson:                   1.531\n",
      "Prob(Omnibus):                  0.000   Jarque-Bera (JB):           236629.608\n",
      "Skew:                          -1.363   Prob(JB):                         0.00\n",
      "Kurtosis:                       8.160   Cond. No.                         197.\n",
      "==============================================================================\n",
      "\n",
      "Warnings:\n",
      "[1] Standard Errors assume that the covariance matrix of the errors is correctly specified.\n"
     ]
    }
   ],
   "source": [
    "model_OLS = sm.OLS.from_formula(\"I(np.log(units+1)**3) ~  C(store_nbr) + C(item_nbr) + scale(preciptotal) + C(weekend) + C(month) + C(year) + C(is_blackfriday) + 0\" , data = train)\n",
    "results_OLS = model_OLS.fit()\n",
    "print(results_OLS.summary())"
   ]
  },
  {
   "cell_type": "code",
   "execution_count": 36,
   "metadata": {},
   "outputs": [
    {
     "data": {
      "image/png": "[encoded data removed]",
      "text/plain": [
       "<matplotlib.figure.Figure at 0x177216ef748>"
      ]
     },
     "metadata": {
      "image/png": {
       "height": 425,
       "width": 416
      }
     },
     "output_type": "display_data"
    }
   ],
   "source": [
    "sns.jointplot(results_OLS.predict(X_test), np.log(y_test + 1))\n",
    "plt.show()"
   ]
  },
  {
   "cell_type": "code",
   "execution_count": 41,
   "metadata": {},
   "outputs": [
    {
     "ename": "MemoryError",
     "evalue": "",
     "output_type": "error",
     "traceback": [
      "\u001b[1;31m---------------------------------------------------------------------------\u001b[0m",
      "\u001b[1;31mMemoryError\u001b[0m                               Traceback (most recent call last)",
      "\u001b[1;32m<ipython-input-41-5315aabd11e0>\u001b[0m in \u001b[0;36m<module>\u001b[1;34m()\u001b[0m\n\u001b[1;32m----> 1\u001b[1;33m \u001b[0mmodel_OLS2\u001b[0m \u001b[1;33m=\u001b[0m \u001b[0msm\u001b[0m\u001b[1;33m.\u001b[0m\u001b[0mOLS\u001b[0m\u001b[1;33m.\u001b[0m\u001b[0mfrom_formula\u001b[0m\u001b[1;33m(\u001b[0m\u001b[1;34m\"log_units ~  C(store_nbr) + C(item_nbr) + scale(preciptotal) + C(weekend) + C(month) + C(year) + C(is_blackfriday) + 0\"\u001b[0m \u001b[1;33m,\u001b[0m \u001b[0mdata\u001b[0m \u001b[1;33m=\u001b[0m \u001b[0mtrain\u001b[0m\u001b[1;33m)\u001b[0m\u001b[1;33m\u001b[0m\u001b[0m\n\u001b[0m\u001b[0;32m      2\u001b[0m \u001b[0mresults_OLS2\u001b[0m \u001b[1;33m=\u001b[0m \u001b[0mmodel_OLS2\u001b[0m\u001b[1;33m.\u001b[0m\u001b[0mfit\u001b[0m\u001b[1;33m(\u001b[0m\u001b[1;33m)\u001b[0m\u001b[1;33m\u001b[0m\u001b[0m\n\u001b[0;32m      3\u001b[0m \u001b[0mprint\u001b[0m\u001b[1;33m(\u001b[0m\u001b[0mresults_OLS2\u001b[0m\u001b[1;33m.\u001b[0m\u001b[0msummary\u001b[0m\u001b[1;33m(\u001b[0m\u001b[1;33m)\u001b[0m\u001b[1;33m)\u001b[0m\u001b[1;33m\u001b[0m\u001b[0m\n",
      "\u001b[1;32mC:\\ProgramData\\Anaconda3\\lib\\site-packages\\statsmodels\\base\\model.py\u001b[0m in \u001b[0;36mfrom_formula\u001b[1;34m(cls, formula, data, subset, drop_cols, *args, **kwargs)\u001b[0m\n\u001b[0;32m    153\u001b[0m \u001b[1;33m\u001b[0m\u001b[0m\n\u001b[0;32m    154\u001b[0m         tmp = handle_formula_data(data, None, formula, depth=eval_env,\n\u001b[1;32m--> 155\u001b[1;33m                                   missing=missing)\n\u001b[0m\u001b[0;32m    156\u001b[0m         \u001b[1;33m(\u001b[0m\u001b[1;33m(\u001b[0m\u001b[0mendog\u001b[0m\u001b[1;33m,\u001b[0m \u001b[0mexog\u001b[0m\u001b[1;33m)\u001b[0m\u001b[1;33m,\u001b[0m \u001b[0mmissing_idx\u001b[0m\u001b[1;33m,\u001b[0m \u001b[0mdesign_info\u001b[0m\u001b[1;33m)\u001b[0m \u001b[1;33m=\u001b[0m \u001b[0mtmp\u001b[0m\u001b[1;33m\u001b[0m\u001b[0m\n\u001b[0;32m    157\u001b[0m \u001b[1;33m\u001b[0m\u001b[0m\n",
      "\u001b[1;32mC:\\ProgramData\\Anaconda3\\lib\\site-packages\\statsmodels\\formula\\formulatools.py\u001b[0m in \u001b[0;36mhandle_formula_data\u001b[1;34m(Y, X, formula, depth, missing)\u001b[0m\n\u001b[0;32m     63\u001b[0m         \u001b[1;32mif\u001b[0m \u001b[0mdata_util\u001b[0m\u001b[1;33m.\u001b[0m\u001b[0m_is_using_pandas\u001b[0m\u001b[1;33m(\u001b[0m\u001b[0mY\u001b[0m\u001b[1;33m,\u001b[0m \u001b[1;32mNone\u001b[0m\u001b[1;33m)\u001b[0m\u001b[1;33m:\u001b[0m\u001b[1;33m\u001b[0m\u001b[0m\n\u001b[0;32m     64\u001b[0m             result = dmatrices(formula, Y, depth, return_type='dataframe',\n\u001b[1;32m---> 65\u001b[1;33m                                NA_action=na_action)\n\u001b[0m\u001b[0;32m     66\u001b[0m         \u001b[1;32melse\u001b[0m\u001b[1;33m:\u001b[0m\u001b[1;33m\u001b[0m\u001b[0m\n\u001b[0;32m     67\u001b[0m             result = dmatrices(formula, Y, depth, return_type='dataframe',\n",
      "\u001b[1;32mC:\\ProgramData\\Anaconda3\\lib\\site-packages\\patsy\\highlevel.py\u001b[0m in \u001b[0;36mdmatrices\u001b[1;34m(formula_like, data, eval_env, NA_action, return_type)\u001b[0m\n\u001b[0;32m    308\u001b[0m     \u001b[0meval_env\u001b[0m \u001b[1;33m=\u001b[0m \u001b[0mEvalEnvironment\u001b[0m\u001b[1;33m.\u001b[0m\u001b[0mcapture\u001b[0m\u001b[1;33m(\u001b[0m\u001b[0meval_env\u001b[0m\u001b[1;33m,\u001b[0m \u001b[0mreference\u001b[0m\u001b[1;33m=\u001b[0m\u001b[1;36m1\u001b[0m\u001b[1;33m)\u001b[0m\u001b[1;33m\u001b[0m\u001b[0m\n\u001b[0;32m    309\u001b[0m     (lhs, rhs) = _do_highlevel_design(formula_like, data, eval_env,\n\u001b[1;32m--> 310\u001b[1;33m                                       NA_action, return_type)\n\u001b[0m\u001b[0;32m    311\u001b[0m     \u001b[1;32mif\u001b[0m \u001b[0mlhs\u001b[0m\u001b[1;33m.\u001b[0m\u001b[0mshape\u001b[0m\u001b[1;33m[\u001b[0m\u001b[1;36m1\u001b[0m\u001b[1;33m]\u001b[0m \u001b[1;33m==\u001b[0m \u001b[1;36m0\u001b[0m\u001b[1;33m:\u001b[0m\u001b[1;33m\u001b[0m\u001b[0m\n\u001b[0;32m    312\u001b[0m         \u001b[1;32mraise\u001b[0m \u001b[0mPatsyError\u001b[0m\u001b[1;33m(\u001b[0m\u001b[1;34m\"model is missing required outcome variables\"\u001b[0m\u001b[1;33m)\u001b[0m\u001b[1;33m\u001b[0m\u001b[0m\n",
      "\u001b[1;32mC:\\ProgramData\\Anaconda3\\lib\\site-packages\\patsy\\highlevel.py\u001b[0m in \u001b[0;36m_do_highlevel_design\u001b[1;34m(formula_like, data, eval_env, NA_action, return_type)\u001b[0m\n\u001b[0;32m    167\u001b[0m         return build_design_matrices(design_infos, data,\n\u001b[0;32m    168\u001b[0m                                      \u001b[0mNA_action\u001b[0m\u001b[1;33m=\u001b[0m\u001b[0mNA_action\u001b[0m\u001b[1;33m,\u001b[0m\u001b[1;33m\u001b[0m\u001b[0m\n\u001b[1;32m--> 169\u001b[1;33m                                      return_type=return_type)\n\u001b[0m\u001b[0;32m    170\u001b[0m     \u001b[1;32melse\u001b[0m\u001b[1;33m:\u001b[0m\u001b[1;33m\u001b[0m\u001b[0m\n\u001b[0;32m    171\u001b[0m         \u001b[1;31m# No builders, but maybe we can still get matrices\u001b[0m\u001b[1;33m\u001b[0m\u001b[1;33m\u001b[0m\u001b[0m\n",
      "\u001b[1;32mC:\\ProgramData\\Anaconda3\\lib\\site-packages\\patsy\\build.py\u001b[0m in \u001b[0;36mbuild_design_matrices\u001b[1;34m(design_infos, data, NA_action, return_type, dtype)\u001b[0m\n\u001b[0;32m    931\u001b[0m         results.append(_build_design_matrix(design_info,\n\u001b[0;32m    932\u001b[0m                                             \u001b[0mfactor_info_to_values\u001b[0m\u001b[1;33m,\u001b[0m\u001b[1;33m\u001b[0m\u001b[0m\n\u001b[1;32m--> 933\u001b[1;33m                                             dtype))\n\u001b[0m\u001b[0;32m    934\u001b[0m     \u001b[0mmatrices\u001b[0m \u001b[1;33m=\u001b[0m \u001b[1;33m[\u001b[0m\u001b[1;33m]\u001b[0m\u001b[1;33m\u001b[0m\u001b[0m\n\u001b[0;32m    935\u001b[0m     \u001b[1;32mfor\u001b[0m \u001b[0mneed_reshape\u001b[0m\u001b[1;33m,\u001b[0m \u001b[0mmatrix\u001b[0m \u001b[1;32min\u001b[0m \u001b[0mresults\u001b[0m\u001b[1;33m:\u001b[0m\u001b[1;33m\u001b[0m\u001b[0m\n",
      "\u001b[1;32mC:\\ProgramData\\Anaconda3\\lib\\site-packages\\patsy\\build.py\u001b[0m in \u001b[0;36m_build_design_matrix\u001b[1;34m(design_info, factor_info_to_values, dtype)\u001b[0m\n\u001b[0;32m    760\u001b[0m         \u001b[0mneed_reshape\u001b[0m \u001b[1;33m=\u001b[0m \u001b[1;32mTrue\u001b[0m\u001b[1;33m\u001b[0m\u001b[0m\n\u001b[0;32m    761\u001b[0m     \u001b[0mshape\u001b[0m \u001b[1;33m=\u001b[0m \u001b[1;33m(\u001b[0m\u001b[0mnum_rows\u001b[0m\u001b[1;33m,\u001b[0m \u001b[0mlen\u001b[0m\u001b[1;33m(\u001b[0m\u001b[0mdesign_info\u001b[0m\u001b[1;33m.\u001b[0m\u001b[0mcolumn_names\u001b[0m\u001b[1;33m)\u001b[0m\u001b[1;33m)\u001b[0m\u001b[1;33m\u001b[0m\u001b[0m\n\u001b[1;32m--> 762\u001b[1;33m     \u001b[0mm\u001b[0m \u001b[1;33m=\u001b[0m \u001b[0mDesignMatrix\u001b[0m\u001b[1;33m(\u001b[0m\u001b[0mnp\u001b[0m\u001b[1;33m.\u001b[0m\u001b[0mempty\u001b[0m\u001b[1;33m(\u001b[0m\u001b[0mshape\u001b[0m\u001b[1;33m,\u001b[0m \u001b[0mdtype\u001b[0m\u001b[1;33m=\u001b[0m\u001b[0mdtype\u001b[0m\u001b[1;33m)\u001b[0m\u001b[1;33m,\u001b[0m \u001b[0mdesign_info\u001b[0m\u001b[1;33m)\u001b[0m\u001b[1;33m\u001b[0m\u001b[0m\n\u001b[0m\u001b[0;32m    763\u001b[0m     \u001b[0mstart_column\u001b[0m \u001b[1;33m=\u001b[0m \u001b[1;36m0\u001b[0m\u001b[1;33m\u001b[0m\u001b[0m\n\u001b[0;32m    764\u001b[0m     \u001b[1;32mfor\u001b[0m \u001b[0mterm\u001b[0m\u001b[1;33m,\u001b[0m \u001b[0msubterms\u001b[0m \u001b[1;32min\u001b[0m \u001b[0msix\u001b[0m\u001b[1;33m.\u001b[0m\u001b[0miteritems\u001b[0m\u001b[1;33m(\u001b[0m\u001b[0mdesign_info\u001b[0m\u001b[1;33m.\u001b[0m\u001b[0mterm_codings\u001b[0m\u001b[1;33m)\u001b[0m\u001b[1;33m:\u001b[0m\u001b[1;33m\u001b[0m\u001b[0m\n",
      "\u001b[1;31mMemoryError\u001b[0m: "
     ]
    }
   ],
   "source": [
    "model_OLS2 = sm.OLS.from_formula(\"log_units ~  C(store_nbr) + C(item_nbr) + scale(preciptotal) + C(weekend) + C(month) + C(year) + C(is_blackfriday) + 0\" , data = train)\n",
    "results_OLS2 = model_OLS2.fit()\n",
    "print(results_OLS2.summary())"
   ]
  },
  {
   "cell_type": "code",
   "execution_count": null,
   "metadata": {},
   "outputs": [],
   "source": []
  }
 ],
 "metadata": {
  "kernelspec": {
   "display_name": "Python 3",
   "language": "python",
   "name": "python3"
  },
  "language_info": {
   "codemirror_mode": {
    "name": "ipython",
    "version": 3
   },
   "file_extension": ".py",
   "mimetype": "text/x-python",
   "name": "python",
   "nbconvert_exporter": "python",
   "pygments_lexer": "ipython3",
   "version": "3.6.4"
  }
 },
 "nbformat": 4,
 "nbformat_minor": 2
}
