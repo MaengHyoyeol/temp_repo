{
 "cells": [
  {
   "cell_type": "code",
   "execution_count": 2,
   "metadata": {},
   "outputs": [],
   "source": [
    "# import dask.dataframe as dd\n",
    "# import dask.multiprocessing\n",
    "import os\n",
    "path = \"./data/\"\n",
    "\n",
    "# mingw_path = 'C:\\\\Program Files\\\\mingw-w64\\\\x86_64-5.3.0-posix-seh-rt_v4-rev0\\\\mingw64\\\\bin'\n",
    "\n",
    "# os.environ['PATH'] = mingw_path + ';' + os.environ['PATH'] \n",
    "\n",
    "\n",
    "# import xgboost as xgb\n"
   ]
  },
  {
   "cell_type": "code",
   "execution_count": 2,
   "metadata": {},
   "outputs": [],
   "source": [
    "%matplotlib inline\n",
    "%config InlineBackend.figure_formats = {'png', 'retina'}"
   ]
  },
  {
   "cell_type": "code",
   "execution_count": 3,
   "metadata": {},
   "outputs": [],
   "source": [
    "plt.style.use('fivethirtyeight')"
   ]
  },
  {
   "cell_type": "code",
   "execution_count": 3,
   "metadata": {},
   "outputs": [],
   "source": [
    "def missing_values_table(df):\n",
    "        # Total missing values\n",
    "        mis_val = df.isnull().sum()\n",
    "        \n",
    "        # Percentage of missing values\n",
    "        mis_val_percent = 100 * df.isnull().sum() / len(df)\n",
    "        \n",
    "        # Make a table with the results\n",
    "        mis_val_table = pd.concat([mis_val, mis_val_percent], axis=1)\n",
    "        \n",
    "        # Rename the columns\n",
    "        mis_val_table_ren_columns = mis_val_table.rename(\n",
    "        columns = {0 : 'Missing Values', 1 : '% of Total Values'})\n",
    "        \n",
    "        # Sort the table by percentage of missing descending\n",
    "        mis_val_table_ren_columns = mis_val_table_ren_columns[\n",
    "            mis_val_table_ren_columns.iloc[:,1] != 0].sort_values(\n",
    "        '% of Total Values', ascending=False).round(1)\n",
    "        \n",
    "        # Print some summary information\n",
    "        print (\"Your selected dataframe has \" + str(df.shape[1]) + \" columns.\\n\"      \n",
    "            \"There are \" + str(mis_val_table_ren_columns.shape[0]) +\n",
    "              \" columns that have missing values.\")\n",
    "        \n",
    "        # Return the dataframe with missing information\n",
    "        return mis_val_table_ren_columns\n",
    "    "
   ]
  },
  {
   "cell_type": "code",
   "execution_count": 4,
   "metadata": {},
   "outputs": [],
   "source": [
    "def kde_target(var_name, df):\n",
    "    \n",
    "    # Calculate the correlation coefficient between the new variable and the target\n",
    "    corr = df['TARGET'].corr(df[var_name])\n",
    "    \n",
    "    # Calculate medians for repaid vs not repaid\n",
    "    avg_repaid = df.ix[df['TARGET'] == 0, var_name].median()\n",
    "    avg_not_repaid = df.ix[df['TARGET'] == 1, var_name].median()\n",
    "    \n",
    "    plt.figure(figsize = (12, 6))\n",
    "    \n",
    "    # Plot the distribution for target == 0 and target == 1\n",
    "    sns.kdeplot(df.ix[df['TARGET'] == 0, var_name], label = 'TARGET == 0')\n",
    "    sns.kdeplot(df.ix[df['TARGET'] == 1, var_name], label = 'TARGET == 1')\n",
    "    \n",
    "    # label the plot\n",
    "    plt.xlabel(var_name); plt.ylabel('Density'); plt.title('%s Distribution' % var_name)\n",
    "    plt.legend();\n",
    "    \n",
    "    # print out the correlation\n",
    "    print('The correlation between %s and the TARGET is %0.4f' % (var_name, corr))\n",
    "    # Print out average values\n",
    "    print('Median value for loan that was not repaid = %0.4f' % avg_not_repaid)\n",
    "    print('Median value for loan that was repaid =     %0.4f' % avg_repaid)"
   ]
  },
  {
   "cell_type": "code",
   "execution_count": 5,
   "metadata": {},
   "outputs": [],
   "source": [
    "installments_payments = pd.read_csv(path+ \"installments_payments.csv\")"
   ]
  },
  {
   "cell_type": "code",
   "execution_count": 6,
   "metadata": {},
   "outputs": [],
   "source": [
    "application_train = pd.read_csv(\"./data/application_train.csv\")\n",
    "application_test = pd.read_csv(\"./data/application_test.csv\")"
   ]
  },
  {
   "cell_type": "code",
   "execution_count": 7,
   "metadata": {},
   "outputs": [
    {
     "name": "stdout",
     "output_type": "stream",
     "text": [
      "Your selected dataframe has 8 columns.\n",
      "There are 2 columns that have missing values.\n"
     ]
    },
    {
     "data": {
      "text/html": [
       "<div>\n",
       "<style scoped>\n",
       "    .dataframe tbody tr th:only-of-type {\n",
       "        vertical-align: middle;\n",
       "    }\n",
       "\n",
       "    .dataframe tbody tr th {\n",
       "        vertical-align: top;\n",
       "    }\n",
       "\n",
       "    .dataframe thead th {\n",
       "        text-align: right;\n",
       "    }\n",
       "</style>\n",
       "<table border=\"1\" class=\"dataframe\">\n",
       "  <thead>\n",
       "    <tr style=\"text-align: right;\">\n",
       "      <th></th>\n",
       "      <th>Missing Values</th>\n",
       "      <th>% of Total Values</th>\n",
       "    </tr>\n",
       "  </thead>\n",
       "  <tbody>\n",
       "    <tr>\n",
       "      <th>DAYS_ENTRY_PAYMENT</th>\n",
       "      <td>2905</td>\n",
       "      <td>0.0</td>\n",
       "    </tr>\n",
       "    <tr>\n",
       "      <th>AMT_PAYMENT</th>\n",
       "      <td>2905</td>\n",
       "      <td>0.0</td>\n",
       "    </tr>\n",
       "  </tbody>\n",
       "</table>\n",
       "</div>"
      ],
      "text/plain": [
       "                    Missing Values  % of Total Values\n",
       "DAYS_ENTRY_PAYMENT            2905                0.0\n",
       "AMT_PAYMENT                   2905                0.0"
      ]
     },
     "execution_count": 7,
     "metadata": {},
     "output_type": "execute_result"
    }
   ],
   "source": [
    "missing_values_table(installments_payments)"
   ]
  },
  {
   "cell_type": "code",
   "execution_count": null,
   "metadata": {},
   "outputs": [],
   "source": [
    "cols = ['SK_ID_CURR']\n",
    "installments_payments_PCA = pd.merge(installments_payments, application_train[cols], on='SK_ID_CURR')"
   ]
  },
  {
   "cell_type": "code",
   "execution_count": 8,
   "metadata": {},
   "outputs": [
    {
     "name": "stderr",
     "output_type": "stream",
     "text": [
      "C:\\ProgramData\\Anaconda3\\lib\\site-packages\\ipykernel_launcher.py:2: SettingWithCopyWarning: \n",
      "A value is trying to be set on a copy of a slice from a DataFrame\n",
      "\n",
      "See the caveats in the documentation: http://pandas.pydata.org/pandas-docs/stable/indexing.html#indexing-view-versus-copy\n",
      "  \n",
      "C:\\ProgramData\\Anaconda3\\lib\\site-packages\\ipykernel_launcher.py:3: SettingWithCopyWarning: \n",
      "A value is trying to be set on a copy of a slice from a DataFrame\n",
      "\n",
      "See the caveats in the documentation: http://pandas.pydata.org/pandas-docs/stable/indexing.html#indexing-view-versus-copy\n",
      "  This is separate from the ipykernel package so we can avoid doing imports until\n"
     ]
    }
   ],
   "source": [
    "# installments_payments\n",
    "installments_payments.DAYS_ENTRY_PAYMENT[installments_payments.DAYS_ENTRY_PAYMENT.isnull()] = installments_payments.DAYS_ENTRY_PAYMENT.mean()\n",
    "installments_payments.AMT_PAYMENT[installments_payments.AMT_PAYMENT.isnull()] = installments_payments.AMT_PAYMENT.mean()"
   ]
  },
  {
   "cell_type": "code",
   "execution_count": 12,
   "metadata": {},
   "outputs": [
    {
     "data": {
      "text/plain": [
       "SK_ID_PREV                False\n",
       "SK_ID_CURR                False\n",
       "NUM_INSTALMENT_VERSION    False\n",
       "NUM_INSTALMENT_NUMBER     False\n",
       "DAYS_INSTALMENT           False\n",
       "DAYS_ENTRY_PAYMENT        False\n",
       "AMT_INSTALMENT            False\n",
       "AMT_PAYMENT               False\n",
       "dtype: bool"
      ]
     },
     "execution_count": 12,
     "metadata": {},
     "output_type": "execute_result"
    }
   ],
   "source": [
    "installments_payments.isnull().any()"
   ]
  },
  {
   "cell_type": "code",
   "execution_count": null,
   "metadata": {},
   "outputs": [],
   "source": [
    "kde_list = [ 'NUM_INSTALMENT_VERSION',\n",
    "       'NUM_INSTALMENT_NUMBER', 'DAYS_INSTALMENT', 'DAYS_ENTRY_PAYMENT',\n",
    "       'AMT_INSTALMENT', 'AMT_PAYMENT']\n",
    "for col in kde_list:\n",
    "    kde_target(col, installments_payments_PCA)"
   ]
  },
  {
   "cell_type": "code",
   "execution_count": null,
   "metadata": {},
   "outputs": [],
   "source": [
    "installments_payments.dtypes"
   ]
  },
  {
   "cell_type": "code",
   "execution_count": null,
   "metadata": {},
   "outputs": [],
   "source": [
    "installments_payments.head()"
   ]
  },
  {
   "cell_type": "code",
   "execution_count": 9,
   "metadata": {},
   "outputs": [],
   "source": [
    "installments_payments.NUM_INSTALMENT_VERSION = pd.Categorical(installments_payments.NUM_INSTALMENT_VERSION )"
   ]
  },
  {
   "cell_type": "code",
   "execution_count": 19,
   "metadata": {},
   "outputs": [
    {
     "data": {
      "image/png": "[encoded data removed]",
      "text/plain": [
       "<matplotlib.figure.Figure at 0x1d18108bda0>"
      ]
     },
     "metadata": {
      "image/png": {
       "height": 264,
       "width": 444
      }
     },
     "output_type": "display_data"
    }
   ],
   "source": [
    "plt.hist(installments_payments.NUM_INSTALMENT_NUMBER, bins= 250)\n",
    "plt.xlim(0,120)\n",
    "plt.show()"
   ]
  },
  {
   "cell_type": "code",
   "execution_count": 10,
   "metadata": {},
   "outputs": [],
   "source": [
    "installments_payments = pd.get_dummies(installments_payments)"
   ]
  },
  {
   "cell_type": "code",
   "execution_count": 13,
   "metadata": {},
   "outputs": [
    {
     "data": {
      "text/plain": [
       "array(['SK_ID_PREV', 'SK_ID_CURR', 'NUM_INSTALMENT_NUMBER',\n",
       "       'DAYS_INSTALMENT', 'DAYS_ENTRY_PAYMENT', 'AMT_INSTALMENT',\n",
       "       'AMT_PAYMENT', 'NUM_INSTALMENT_VERSION_0.0',\n",
       "       'NUM_INSTALMENT_VERSION_1.0', 'NUM_INSTALMENT_VERSION_2.0',\n",
       "       'NUM_INSTALMENT_VERSION_3.0', 'NUM_INSTALMENT_VERSION_4.0',\n",
       "       'NUM_INSTALMENT_VERSION_5.0', 'NUM_INSTALMENT_VERSION_6.0',\n",
       "       'NUM_INSTALMENT_VERSION_7.0', 'NUM_INSTALMENT_VERSION_8.0',\n",
       "       'NUM_INSTALMENT_VERSION_9.0', 'NUM_INSTALMENT_VERSION_10.0',\n",
       "       'NUM_INSTALMENT_VERSION_11.0', 'NUM_INSTALMENT_VERSION_12.0',\n",
       "       'NUM_INSTALMENT_VERSION_13.0', 'NUM_INSTALMENT_VERSION_14.0',\n",
       "       'NUM_INSTALMENT_VERSION_15.0', 'NUM_INSTALMENT_VERSION_16.0',\n",
       "       'NUM_INSTALMENT_VERSION_17.0', 'NUM_INSTALMENT_VERSION_18.0',\n",
       "       'NUM_INSTALMENT_VERSION_19.0', 'NUM_INSTALMENT_VERSION_20.0',\n",
       "       'NUM_INSTALMENT_VERSION_21.0', 'NUM_INSTALMENT_VERSION_22.0',\n",
       "       'NUM_INSTALMENT_VERSION_23.0', 'NUM_INSTALMENT_VERSION_24.0',\n",
       "       'NUM_INSTALMENT_VERSION_25.0', 'NUM_INSTALMENT_VERSION_26.0',\n",
       "       'NUM_INSTALMENT_VERSION_27.0', 'NUM_INSTALMENT_VERSION_28.0',\n",
       "       'NUM_INSTALMENT_VERSION_29.0', 'NUM_INSTALMENT_VERSION_30.0',\n",
       "       'NUM_INSTALMENT_VERSION_31.0', 'NUM_INSTALMENT_VERSION_32.0',\n",
       "       'NUM_INSTALMENT_VERSION_33.0', 'NUM_INSTALMENT_VERSION_34.0',\n",
       "       'NUM_INSTALMENT_VERSION_35.0', 'NUM_INSTALMENT_VERSION_36.0',\n",
       "       'NUM_INSTALMENT_VERSION_37.0', 'NUM_INSTALMENT_VERSION_38.0',\n",
       "       'NUM_INSTALMENT_VERSION_39.0', 'NUM_INSTALMENT_VERSION_40.0',\n",
       "       'NUM_INSTALMENT_VERSION_41.0', 'NUM_INSTALMENT_VERSION_42.0',\n",
       "       'NUM_INSTALMENT_VERSION_43.0', 'NUM_INSTALMENT_VERSION_44.0',\n",
       "       'NUM_INSTALMENT_VERSION_45.0', 'NUM_INSTALMENT_VERSION_46.0',\n",
       "       'NUM_INSTALMENT_VERSION_47.0', 'NUM_INSTALMENT_VERSION_48.0',\n",
       "       'NUM_INSTALMENT_VERSION_49.0', 'NUM_INSTALMENT_VERSION_50.0',\n",
       "       'NUM_INSTALMENT_VERSION_51.0', 'NUM_INSTALMENT_VERSION_52.0',\n",
       "       'NUM_INSTALMENT_VERSION_53.0', 'NUM_INSTALMENT_VERSION_54.0',\n",
       "       'NUM_INSTALMENT_VERSION_55.0', 'NUM_INSTALMENT_VERSION_56.0',\n",
       "       'NUM_INSTALMENT_VERSION_57.0', 'NUM_INSTALMENT_VERSION_58.0',\n",
       "       'NUM_INSTALMENT_VERSION_59.0', 'NUM_INSTALMENT_VERSION_61.0',\n",
       "       'NUM_INSTALMENT_VERSION_68.0', 'NUM_INSTALMENT_VERSION_72.0',\n",
       "       'NUM_INSTALMENT_VERSION_73.0', 'NUM_INSTALMENT_VERSION_178.0'],\n",
       "      dtype=object)"
      ]
     },
     "execution_count": 13,
     "metadata": {},
     "output_type": "execute_result"
    }
   ],
   "source": [
    "installments_payments.columns.values"
   ]
  },
  {
   "cell_type": "code",
   "execution_count": 11,
   "metadata": {},
   "outputs": [],
   "source": [
    "cols_to_means = ['SK_ID_CURR', 'DAYS_INSTALMENT', 'DAYS_ENTRY_PAYMENT', 'AMT_INSTALMENT', 'AMT_PAYMENT', 'NUM_INSTALMENT_NUMBER']\n",
    "cols_to_sums = ['SK_ID_CURR', 'NUM_INSTALMENT_VERSION_0.0', 'NUM_INSTALMENT_VERSION_1.0',\n",
    "       'NUM_INSTALMENT_VERSION_2.0', 'NUM_INSTALMENT_VERSION_3.0',\n",
    "       'NUM_INSTALMENT_VERSION_4.0', 'NUM_INSTALMENT_VERSION_5.0',\n",
    "       'NUM_INSTALMENT_VERSION_6.0', 'NUM_INSTALMENT_VERSION_7.0',\n",
    "       'NUM_INSTALMENT_VERSION_8.0', 'NUM_INSTALMENT_VERSION_9.0',\n",
    "       'NUM_INSTALMENT_VERSION_10.0', 'NUM_INSTALMENT_VERSION_11.0',\n",
    "       'NUM_INSTALMENT_VERSION_12.0', 'NUM_INSTALMENT_VERSION_13.0',\n",
    "       'NUM_INSTALMENT_VERSION_14.0', 'NUM_INSTALMENT_VERSION_15.0',\n",
    "       'NUM_INSTALMENT_VERSION_16.0', 'NUM_INSTALMENT_VERSION_17.0',\n",
    "       'NUM_INSTALMENT_VERSION_18.0', 'NUM_INSTALMENT_VERSION_19.0',\n",
    "       'NUM_INSTALMENT_VERSION_20.0', 'NUM_INSTALMENT_VERSION_21.0',\n",
    "       'NUM_INSTALMENT_VERSION_22.0', 'NUM_INSTALMENT_VERSION_23.0',\n",
    "       'NUM_INSTALMENT_VERSION_24.0', 'NUM_INSTALMENT_VERSION_25.0',\n",
    "       'NUM_INSTALMENT_VERSION_26.0', 'NUM_INSTALMENT_VERSION_27.0',\n",
    "       'NUM_INSTALMENT_VERSION_28.0', 'NUM_INSTALMENT_VERSION_29.0',\n",
    "       'NUM_INSTALMENT_VERSION_30.0', 'NUM_INSTALMENT_VERSION_31.0',\n",
    "       'NUM_INSTALMENT_VERSION_32.0', 'NUM_INSTALMENT_VERSION_33.0',\n",
    "       'NUM_INSTALMENT_VERSION_34.0', 'NUM_INSTALMENT_VERSION_35.0',\n",
    "       'NUM_INSTALMENT_VERSION_36.0', 'NUM_INSTALMENT_VERSION_37.0',\n",
    "       'NUM_INSTALMENT_VERSION_38.0', 'NUM_INSTALMENT_VERSION_39.0',\n",
    "       'NUM_INSTALMENT_VERSION_40.0', 'NUM_INSTALMENT_VERSION_41.0',\n",
    "       'NUM_INSTALMENT_VERSION_42.0', 'NUM_INSTALMENT_VERSION_43.0',\n",
    "       'NUM_INSTALMENT_VERSION_44.0', 'NUM_INSTALMENT_VERSION_45.0',\n",
    "       'NUM_INSTALMENT_VERSION_46.0', 'NUM_INSTALMENT_VERSION_47.0',\n",
    "       'NUM_INSTALMENT_VERSION_48.0', 'NUM_INSTALMENT_VERSION_49.0',\n",
    "       'NUM_INSTALMENT_VERSION_50.0', 'NUM_INSTALMENT_VERSION_51.0',\n",
    "       'NUM_INSTALMENT_VERSION_52.0', 'NUM_INSTALMENT_VERSION_53.0',\n",
    "       'NUM_INSTALMENT_VERSION_54.0', 'NUM_INSTALMENT_VERSION_55.0',\n",
    "       'NUM_INSTALMENT_VERSION_56.0', 'NUM_INSTALMENT_VERSION_57.0',\n",
    "       'NUM_INSTALMENT_VERSION_58.0', 'NUM_INSTALMENT_VERSION_59.0',\n",
    "       'NUM_INSTALMENT_VERSION_61.0', 'NUM_INSTALMENT_VERSION_68.0',\n",
    "       'NUM_INSTALMENT_VERSION_72.0', 'NUM_INSTALMENT_VERSION_73.0',\n",
    "       'NUM_INSTALMENT_VERSION_178.0'\n",
    "     ]\n"
   ]
  },
  {
   "cell_type": "code",
   "execution_count": null,
   "metadata": {},
   "outputs": [],
   "source": [
    "installments_payments.columns.values"
   ]
  },
  {
   "cell_type": "code",
   "execution_count": null,
   "metadata": {},
   "outputs": [],
   "source": [
    "\n",
    "instal1 = installments_payments[cols_to_means].groupby('SK_ID_CURR').mean()\n",
    "\n",
    "# df2.data1.groupby(df2.key1).sum()\n",
    "instal2 = installments_payments[cols_to_sums].groupby('SK_ID_CURR').sum()\n",
    "\n"
   ]
  },
  {
   "cell_type": "code",
   "execution_count": null,
   "metadata": {},
   "outputs": [],
   "source": [
    "installments_payments_df = pd.concat( [instal1, instal2] , axis = 1)\n",
    "installments_payments_df.reset_index(inplace = True)"
   ]
  },
  {
   "cell_type": "code",
   "execution_count": null,
   "metadata": {},
   "outputs": [],
   "source": [
    "cols = ['SK_ID_CURR']\n",
    "installments_payments_train = pd.merge(installments_payments_df, application_train[cols], on='SK_ID_CURR', how='inner')\n",
    "installments_payments_test = pd.merge(installments_payments_df, application_test[cols], on='SK_ID_CURR', how='inner')"
   ]
  },
  {
   "cell_type": "code",
   "execution_count": 18,
   "metadata": {},
   "outputs": [
    {
     "data": {
      "text/plain": [
       "array([False, False, False, False, False, False, False, False, False,\n",
       "       False, False, False, False, False, False, False, False, False,\n",
       "       False, False, False, False, False, False, False, False, False,\n",
       "       False, False, False, False, False, False, False, False, False,\n",
       "       False, False, False, False, False, False, False, False, False,\n",
       "       False, False, False, False, False, False, False, False, False,\n",
       "       False, False, False, False, False, False, False, False, False,\n",
       "       False, False, False, False, False, False, False, False])"
      ]
     },
     "execution_count": 18,
     "metadata": {},
     "output_type": "execute_result"
    }
   ],
   "source": [
    "installments_payments_train.isnull().any().values"
   ]
  },
  {
   "cell_type": "code",
   "execution_count": null,
   "metadata": {},
   "outputs": [],
   "source": [
    "installments_payments_train[installments_payments_train.SK_ID_CURR == 151950]"
   ]
  },
  {
   "cell_type": "code",
   "execution_count": 19,
   "metadata": {},
   "outputs": [
    {
     "data": {
      "text/plain": [
       "array([False, False, False, False, False, False, False, False, False,\n",
       "       False, False, False, False, False, False, False, False, False,\n",
       "       False, False, False, False, False, False, False, False, False,\n",
       "       False, False, False, False, False, False, False, False, False,\n",
       "       False, False, False, False, False, False, False, False, False,\n",
       "       False, False, False, False, False, False, False, False, False,\n",
       "       False, False, False, False, False, False, False, False, False,\n",
       "       False, False, False, False, False, False, False, False])"
      ]
     },
     "execution_count": 19,
     "metadata": {},
     "output_type": "execute_result"
    }
   ],
   "source": [
    "installments_payments_test.isnull().any().values"
   ]
  },
  {
   "cell_type": "code",
   "execution_count": 13,
   "metadata": {},
   "outputs": [],
   "source": [
    "installments_payments_train.to_csv('installments_payments_train.csv')\n",
    "installments_payments_test.to_csv('installments_payments_test.csv')"
   ]
  },
  {
   "cell_type": "code",
   "execution_count": 12,
   "metadata": {},
   "outputs": [
    {
     "data": {
      "text/plain": [
       "(291643, 47944, 339587)"
      ]
     },
     "execution_count": 12,
     "metadata": {},
     "output_type": "execute_result"
    }
   ],
   "source": [
    "len(installments_payments_train), len(installments_payments_test), len(installments_payments_df)"
   ]
  },
  {
   "cell_type": "code",
   "execution_count": 32,
   "metadata": {},
   "outputs": [
    {
     "data": {
      "text/plain": [
       "339587"
      ]
     },
     "execution_count": 32,
     "metadata": {},
     "output_type": "execute_result"
    }
   ],
   "source": [
    "291643 + 47944"
   ]
  },
  {
   "cell_type": "code",
   "execution_count": null,
   "metadata": {},
   "outputs": [],
   "source": []
  }
 ],
 "metadata": {
  "kernelspec": {
   "display_name": "Python 3",
   "language": "python",
   "name": "python3"
  },
  "language_info": {
   "codemirror_mode": {
    "name": "ipython",
    "version": 3
   },
   "file_extension": ".py",
   "mimetype": "text/x-python",
   "name": "python",
   "nbconvert_exporter": "python",
   "pygments_lexer": "ipython3",
   "version": "3.6.4"
  }
 },
 "nbformat": 4,
 "nbformat_minor": 2
}
