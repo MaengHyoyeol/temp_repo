{
 "cells": [
  {
   "cell_type": "code",
   "execution_count": null,
   "metadata": {},
   "outputs": [],
   "source": [
    "import csv\n",
    "import pickle\n",
    "import datetime\n",
    "from sklearn.model_selection import train_test_split"
   ]
  },
  {
   "cell_type": "code",
   "execution_count": 2,
   "metadata": {},
   "outputs": [],
   "source": [
    "%matplotlib inline\n",
    "%config InlineBackend.figure_formats = {'png','retina'}"
   ]
  },
  {
   "cell_type": "code",
   "execution_count": 3,
   "metadata": {},
   "outputs": [],
   "source": [
    "def import_data():\n",
    "    df = pd.read_csv('data/season_df.csv')\n",
    "    df = df.iloc[:,1:]\n",
    "    \n",
    "    return df"
   ]
  },
  {
   "cell_type": "code",
   "execution_count": null,
   "metadata": {},
   "outputs": [],
   "source": [
    "# data = pd.read_csv('data/data.csv')\n",
    "# data=data.iloc[:,1:]"
   ]
  },
  {
   "cell_type": "code",
   "execution_count": null,
   "metadata": {},
   "outputs": [],
   "source": [
    "# new_order = ['date', 'store_nbr', 'item_nbr', 'station_nbr', 'tmax', 'tmin',\n",
    "#        'tavg', 'depart', 'dewpoint', 'wetbulb', 'heat', 'cool', 'sunrise',\n",
    "#        'sunset', 'snowfall', 'preciptotal', 'stnpressure', 'sealevel',\n",
    "#        'avgspeed', 'resultspeed', 'resultdir', 'TS', 'GR', 'RA', 'DZ', 'SN',\n",
    "#        'SG', 'GS', 'PL', 'FG+', 'FG', 'BR', 'UP', 'HZ', 'FU', 'DU', 'SQ', 'FZ',\n",
    "#        'MI', 'PR', 'BC', 'BL', 'VC', 'units']"
   ]
  },
  {
   "cell_type": "code",
   "execution_count": null,
   "metadata": {},
   "outputs": [],
   "source": [
    "# data = data[new_order]"
   ]
  },
  {
   "cell_type": "code",
   "execution_count": null,
   "metadata": {},
   "outputs": [],
   "source": [
    "# data.columns = ['date', 'store_nbr', 'item_nbr', 'station_nbr', 'tmax', 'tmin', 'tavg',\n",
    "#        'depart', 'dewpoint', 'wetbulb', 'heat', 'cool', 'sunrise', 'sunset',\n",
    "#        'snowfall', 'preciptotal', 'stnpressure', 'sealevel', 'avgspeed',\n",
    "#        'resultspeed', 'resultdir', 'TS', 'GR', 'RA', 'DZ', 'SN', 'SG', 'GS',\n",
    "#        'PL', 'FG2', 'FG', 'BR', 'UP', 'HZ', 'FU', 'DU', 'SQ', 'FZ', 'MI', 'PR',\n",
    "#        'BC', 'BL', 'VC', 'units']"
   ]
  },
  {
   "cell_type": "code",
   "execution_count": 4,
   "metadata": {},
   "outputs": [],
   "source": [
    "def fulldf(df):\n",
    "    \n",
    "    df.snowfall = df.snowfall.replace([\"T\",\"  T\"],0.05)\n",
    "    df.preciptotal = df.preciptotal.replace([\"T\",\"  T\"],0.005)\n",
    "    df.depart = pd.to_numeric(df.depart, errors='coerce')\n",
    "    \n",
    "    df = type_change_numeric(df,[ 'store_nbr', 'item_nbr', 'units', 'station_nbr', 'tmax', 'tmin',\n",
    "       'tavg', 'depart', 'dewpoint', 'wetbulb', 'heat', 'cool', 'snowfall', 'preciptotal', 'stnpressure', 'sealevel',\n",
    "       'avgspeed', 'resultspeed', 'resultdir' ])\n",
    "    df['date'] = pd.to_datetime(df['date'])\n",
    "                                   \n",
    "    \n",
    "    df[\"day_of_year\"] = df['date'].dt.dayofyear\n",
    "    df[\"year\"] = df['date'].dt.year\n",
    "    df[\"month\"] = df[\"date\"].dt.month\n",
    "    \n",
    "    \n",
    "    for idx in range(5, 8):\n",
    "        df.iloc[:,idx].fillna(df.groupby([\"day_of_year\",\"store_nbr\"])[df.columns[idx]].\\\n",
    "                              transform('mean'), inplace=True)\n",
    "\n",
    "    for idx in range(16, 23):\n",
    "        df.iloc[:,idx].fillna(df.groupby([\"day_of_year\",\"store_nbr\"])[df.columns[idx]].\\\n",
    "                              transform('mean'), inplace=True)\n",
    "    add_depart1(df)\n",
    "    \n",
    "    return df\n",
    "\n",
    "# for column in item37.columns:\n",
    "#     item37[column].interpolate()"
   ]
  },
  {
   "cell_type": "code",
   "execution_count": 5,
   "metadata": {},
   "outputs": [],
   "source": [
    "def type_change_numeric(df, ls = []): \n",
    "    #ls에 있는 column name은 numeric형으로 바꾸지 않는다.\n",
    "    cols = df.columns\n",
    "    for i in cols:\n",
    "        if i in ls:\n",
    "            #df = df.replace([\"M\",None], '')\n",
    "            df.snowfall = df.snowfall.replace([\"T\",\"  T\"],0.05)\n",
    "            df.preciptotal = df.preciptotal.replace([\"T\",\"  T\"],0.005)\n",
    "            df[i] = pd.to_numeric(df[i], errors='coerce')\n",
    "        \n",
    "    return df"
   ]
  },
  {
   "cell_type": "code",
   "execution_count": 6,
   "metadata": {},
   "outputs": [],
   "source": [
    "def add_depart1(x):\n",
    "    x.depart.fillna(x.tavg - x.groupby([\"day_of_year\",\"store_nbr\"])[\"tavg\"].transform('mean'),inplace = True)\n",
    "    x.depart = x.depart.round(2)\n",
    "    return x.sort_values([\"store_nbr\",\"date\",\"item_nbr\"])"
   ]
  },
  {
   "cell_type": "code",
   "execution_count": 7,
   "metadata": {},
   "outputs": [],
   "source": [
    "def reorder_df(df):\n",
    "    #Column 정렬 (y값을 마지막으로 ) 후 FG+ -> FG2 변환 (formula에 인식시키기위해 )\n",
    "    new_order =  ['date', 'store_nbr', 'item_nbr', 'station_nbr', 'tmax', 'tmin',\n",
    "       'tavg', 'depart', 'dewpoint', 'wetbulb', 'heat', 'cool',  'snowfall', 'preciptotal', 'stnpressure', 'sealevel',\n",
    "       'avgspeed', 'resultspeed', 'TS', 'GR', 'RA', 'DZ', 'SN',\n",
    "       'SG', 'GS', 'PL', 'FG+', 'FG', 'BR', 'UP', 'HZ', 'FU', 'DU', 'SQ', 'FZ',\n",
    "       'MI', 'PR', 'BC', 'BL', 'VC', 'day_of_year', 'year', 'month', 'units' ]\n",
    "    df = df[new_order]\n",
    "    df.columns = ['date', 'store_nbr', 'item_nbr', 'station_nbr', 'tmax', 'tmin',\n",
    "       'tavg', 'depart', 'dewpoint', 'wetbulb', 'heat', 'cool', 'snowfall', 'preciptotal', 'stnpressure', 'sealevel',\n",
    "       'avgspeed', 'resultspeed', 'TS', 'GR', 'RA', 'DZ', 'SN',\n",
    "       'SG', 'GS', 'PL', 'FG2', 'FG', 'BR', 'UP', 'HZ', 'FU', 'DU', 'SQ', 'FZ',\n",
    "       'MI', 'PR', 'BC', 'BL', 'VC', 'day_of_year', 'year', 'month', 'units' ]\n",
    "    \n",
    "    return df"
   ]
  },
  {
   "cell_type": "code",
   "execution_count": 8,
   "metadata": {},
   "outputs": [],
   "source": [
    "def add_cat_columns(df):\n",
    "    df['date'] = pd.to_datetime(df['date'])\n",
    "#     df['sunrise'] = pd.to_datetime(df['sunrise'], format='%H%M')\n",
    "#     df['sunset'] = pd.to_datetime(df['sunset'], format='%H%M')\n",
    "\n",
    "    blackfriday = [\"2012-11-21\",\"2012-11-22\",\"2012-11-23\", \"2012-11-24\",\"2012-11-25\",\n",
    "              \"2013-11-27\",\"2013-11-28\", \"2013-11-29\",\"2013-11-30\",\"2013-11-31\",\n",
    "              \"2014-11-26\", \"2014-11-27\", \"2014-11-28\",\"2014-11-29\",\"2014-11-30\"]\n",
    "    df[\"week_day_name\"] = df['date'].dt.weekday_name\n",
    "    df['weekend'] = False\n",
    "    df.weekend[df['week_day_name'] == 'Sunday'] = True\n",
    "    df.weekend[df['week_day_name'] == 'Saturday'] = True\n",
    "    df.weekend[df['week_day_name'] == 'Friday'] = True\n",
    "    df[\"is_blackfriday\"] = df.date.apply(lambda x : str(x)[:10] in blackfriday).astype(int)\n",
    "    \n",
    "    df['hardrain'] = [(((4 if i > 8 else 3) if i > 6 else 2) if i > 1 else 1) if i > 0 else 0 for i in df['preciptotal']]\n",
    "    # rain 1 snow 2\n",
    "    # 득정조건열 추가 ()\n",
    "    df['hardsnow'] = [(( 3 if i > 3.5 else 2) if i > 1 else 1) if i > 0 else 0 for i in df['snowfall']]\n",
    "    \n",
    "    df['log_units'] = df.units.apply(lambda x: np.log(x + 1)).astype(float)\n",
    "    return df"
   ]
  },
  {
   "cell_type": "code",
   "execution_count": 9,
   "metadata": {},
   "outputs": [],
   "source": [
    "def df_sampling(df):\n",
    "    new_order = ['date', 'store_nbr', 'item_nbr', 'station_nbr', 'tmax', 'tmin', 'tavg',\n",
    "       'depart', 'dewpoint', 'wetbulb', 'heat', 'cool', 'preciptotal', 'stnpressure', 'sealevel', 'avgspeed',\n",
    "       'resultspeed', 'TS', 'GR', 'RA', 'DZ', 'SN', 'SG', 'GS',\n",
    "       'PL', 'FG2', 'FG', 'BR', 'UP', 'HZ', 'FU', 'DU', 'SQ', 'FZ', 'MI', 'PR',\n",
    "       'BC', 'BL', 'VC', 'day_of_year', 'year', 'month', \n",
    "       'week_day_name', 'weekend', 'is_blackfriday', 'hardrain', 'hardsnow',\n",
    "       'log_units', 'units' ]\n",
    "    \n",
    "    df = df[new_order]\n",
    "    \n",
    "    X, y = df.iloc[:,:-1], df.units\n",
    "    X_train, X_test, y_train, y_test = train_test_split(X, y, test_size = 0.3, random_state = 2018)\n",
    "    \n",
    "    train = pd.concat([X_train, y_train] ,axis = 1)\n",
    "    train = train.sort_values(by=['date', 'store_nbr', 'item_nbr']).reset_index(drop= True)\n",
    "    y_train = y_train.sort_index()\n",
    "    y_test = y_test.sort_index()\n",
    "    \n",
    "    return train, y_train, y_test\n",
    "   "
   ]
  },
  {
   "cell_type": "code",
   "execution_count": 10,
   "metadata": {
    "scrolled": true
   },
   "outputs": [
    {
     "name": "stderr",
     "output_type": "stream",
     "text": [
      "C:\\ProgramData\\Anaconda3\\lib\\site-packages\\ipykernel_launcher.py:2: SettingWithCopyWarning: \n",
      "A value is trying to be set on a copy of a slice from a DataFrame.\n",
      "Try using .loc[row_indexer,col_indexer] = value instead\n",
      "\n",
      "See the caveats in the documentation: http://pandas.pydata.org/pandas-docs/stable/indexing.html#indexing-view-versus-copy\n",
      "  \n",
      "C:\\ProgramData\\Anaconda3\\lib\\site-packages\\ipykernel_launcher.py:9: SettingWithCopyWarning: \n",
      "A value is trying to be set on a copy of a slice from a DataFrame.\n",
      "Try using .loc[row_indexer,col_indexer] = value instead\n",
      "\n",
      "See the caveats in the documentation: http://pandas.pydata.org/pandas-docs/stable/indexing.html#indexing-view-versus-copy\n",
      "  if __name__ == '__main__':\n",
      "C:\\ProgramData\\Anaconda3\\lib\\site-packages\\ipykernel_launcher.py:10: SettingWithCopyWarning: \n",
      "A value is trying to be set on a copy of a slice from a DataFrame.\n",
      "Try using .loc[row_indexer,col_indexer] = value instead\n",
      "\n",
      "See the caveats in the documentation: http://pandas.pydata.org/pandas-docs/stable/indexing.html#indexing-view-versus-copy\n",
      "  # Remove the CWD from sys.path while we load stuff.\n",
      "C:\\ProgramData\\Anaconda3\\lib\\site-packages\\ipykernel_launcher.py:11: SettingWithCopyWarning: \n",
      "A value is trying to be set on a copy of a slice from a DataFrame\n",
      "\n",
      "See the caveats in the documentation: http://pandas.pydata.org/pandas-docs/stable/indexing.html#indexing-view-versus-copy\n",
      "  # This is added back by InteractiveShellApp.init_path()\n",
      "C:\\ProgramData\\Anaconda3\\lib\\site-packages\\pandas\\core\\generic.py:5984: SettingWithCopyWarning: \n",
      "A value is trying to be set on a copy of a slice from a DataFrame\n",
      "\n",
      "See the caveats in the documentation: http://pandas.pydata.org/pandas-docs/stable/indexing.html#indexing-view-versus-copy\n",
      "  self._update_inplace(new_data)\n",
      "C:\\ProgramData\\Anaconda3\\lib\\site-packages\\ipykernel_launcher.py:4: SettingWithCopyWarning: \n",
      "A value is trying to be set on a copy of a slice from a DataFrame\n",
      "\n",
      "See the caveats in the documentation: http://pandas.pydata.org/pandas-docs/stable/indexing.html#indexing-view-versus-copy\n",
      "  after removing the cwd from sys.path.\n",
      "C:\\ProgramData\\Anaconda3\\lib\\site-packages\\ipykernel_launcher.py:12: SettingWithCopyWarning: \n",
      "A value is trying to be set on a copy of a slice from a DataFrame\n",
      "\n",
      "See the caveats in the documentation: http://pandas.pydata.org/pandas-docs/stable/indexing.html#indexing-view-versus-copy\n",
      "  if sys.path[0] == '':\n",
      "C:\\ProgramData\\Anaconda3\\lib\\site-packages\\ipykernel_launcher.py:13: SettingWithCopyWarning: \n",
      "A value is trying to be set on a copy of a slice from a DataFrame\n",
      "\n",
      "See the caveats in the documentation: http://pandas.pydata.org/pandas-docs/stable/indexing.html#indexing-view-versus-copy\n",
      "  del sys.path[0]\n",
      "C:\\ProgramData\\Anaconda3\\lib\\site-packages\\ipykernel_launcher.py:14: SettingWithCopyWarning: \n",
      "A value is trying to be set on a copy of a slice from a DataFrame.\n",
      "Try using .loc[row_indexer,col_indexer] = value instead\n",
      "\n",
      "See the caveats in the documentation: http://pandas.pydata.org/pandas-docs/stable/indexing.html#indexing-view-versus-copy\n",
      "  \n",
      "C:\\ProgramData\\Anaconda3\\lib\\site-packages\\ipykernel_launcher.py:16: SettingWithCopyWarning: \n",
      "A value is trying to be set on a copy of a slice from a DataFrame.\n",
      "Try using .loc[row_indexer,col_indexer] = value instead\n",
      "\n",
      "See the caveats in the documentation: http://pandas.pydata.org/pandas-docs/stable/indexing.html#indexing-view-versus-copy\n",
      "  app.launch_new_instance()\n",
      "C:\\ProgramData\\Anaconda3\\lib\\site-packages\\ipykernel_launcher.py:19: SettingWithCopyWarning: \n",
      "A value is trying to be set on a copy of a slice from a DataFrame.\n",
      "Try using .loc[row_indexer,col_indexer] = value instead\n",
      "\n",
      "See the caveats in the documentation: http://pandas.pydata.org/pandas-docs/stable/indexing.html#indexing-view-versus-copy\n",
      "C:\\ProgramData\\Anaconda3\\lib\\site-packages\\ipykernel_launcher.py:21: SettingWithCopyWarning: \n",
      "A value is trying to be set on a copy of a slice from a DataFrame.\n",
      "Try using .loc[row_indexer,col_indexer] = value instead\n",
      "\n",
      "See the caveats in the documentation: http://pandas.pydata.org/pandas-docs/stable/indexing.html#indexing-view-versus-copy\n"
     ]
    }
   ],
   "source": [
    "data = import_data()\n",
    "data_t = fulldf(data)\n",
    "data_t = reorder_df(data_t)\n",
    "data_t  = add_cat_columns(data_t)"
   ]
  },
  {
   "cell_type": "code",
   "execution_count": 11,
   "metadata": {},
   "outputs": [],
   "source": [
    "del data_t['snowfall']\n",
    "data_t = data_t.dropna()"
   ]
  },
  {
   "cell_type": "code",
   "execution_count": 12,
   "metadata": {},
   "outputs": [],
   "source": [
    "train0, y_train, y_test = df_sampling(data_t)\n",
    "train = sm.add_constant(train0)"
   ]
  },
  {
   "cell_type": "code",
   "execution_count": null,
   "metadata": {},
   "outputs": [],
   "source": [
    "\n",
    "# X, y = data_t.iloc[:,:-1], data_t.units\n",
    "# X_train, X_testm, y_train, y_test = train_test_split(X, y, test_size = 0.3, random_state = 2018)\n",
    "# train = pd.concat([X_train, y_train] ,axis = 1)\n",
    "# train = train.sort_values(by=['date', 'store_nbr', 'item_nbr']).reset_index(drop= True)"
   ]
  },
  {
   "cell_type": "code",
   "execution_count": null,
   "metadata": {},
   "outputs": [],
   "source": [
    "# X_train['date'] = pd.to_datetime(X_train['date'])\n",
    "# X_train['sunrise'] = pd.to_datetime(X_train['sunrise'], format='%H%M')\n",
    "# X_train['sunset'] = pd.to_datetime(X_train['sunset'], format='%H%M')\n",
    "# X_testm['date'] = pd.to_datetime(X_testm['date'])\n",
    "# X_testm['sunrise'] = pd.to_datetime(X_testm['sunrise'], format='%H%M')\n",
    "# X_testm['sunset'] = pd.to_datetime(X_testm['sunset'], format='%H%M')"
   ]
  },
  {
   "cell_type": "code",
   "execution_count": null,
   "metadata": {},
   "outputs": [],
   "source": [
    "# train['log_units'] = train.units.apply(lambda x: np.log(x + 1))"
   ]
  },
  {
   "cell_type": "code",
   "execution_count": null,
   "metadata": {
    "scrolled": true
   },
   "outputs": [],
   "source": [
    "\n",
    "# train['month'] =train[\"date\"].dt.month\n",
    "# train['weekend'] = False\n",
    "# train.weekend[train['week_day_name'] == 'Sunday'] = True\n",
    "# train.weekend[train['week_day_name'] == 'Saturday'] = True\n",
    "# train.weekend[train['week_day_name'] == 'Friday'] = True\n",
    "# train[\"is_blackfriday\"] = train.date.apply(lambda x : str(x)[:10] in blackfriday).astype(int)"
   ]
  },
  {
   "cell_type": "code",
   "execution_count": null,
   "metadata": {},
   "outputs": [],
   "source": [
    "# blackfriday = [\"2012-11-21\",\"2012-11-22\",\"2012-11-23\", \"2012-11-24\",\"2012-11-25\",\n",
    "#               \"2013-11-27\",\"2013-11-28\", \"2013-11-29\",\"2013-11-30\",\"2013-11-31\",\n",
    "#               \"2014-11-26\", \"2014-11-27\", \"2014-11-28\",\"2014-11-29\",\"2014-11-30\"]"
   ]
  },
  {
   "cell_type": "code",
   "execution_count": null,
   "metadata": {},
   "outputs": [],
   "source": [
    "# train[train > 3.5].preciptotal.hist(bins = 20)"
   ]
  },
  {
   "cell_type": "code",
   "execution_count": null,
   "metadata": {},
   "outputs": [],
   "source": [
    "# train['hardrain'] = [(((4 if i > 8 else 3) if i > 6 else 2) if i > 1 else 1) if i > 0 else 0 for i in train['preciptotal']]\n",
    "# # rain 1 snow 2\n",
    "# # 득정조건열 추가 ()\n",
    "# train['hardsnow'] = [(( 3 if i > 3.5 else 2) if i > 1 else 1) if i > 0 else 0 for i in train['snowfall']]"
   ]
  },
  {
   "cell_type": "code",
   "execution_count": null,
   "metadata": {},
   "outputs": [],
   "source": [
    "# del train['sunrise']\n",
    "# del train['sunset']\n",
    "# del train['snowfall']\n",
    "# train = train.dropna()"
   ]
  },
  {
   "cell_type": "code",
   "execution_count": 26,
   "metadata": {
    "scrolled": true
   },
   "outputs": [
    {
     "data": {
      "text/plain": [
       "Index(['const', 'date', 'store_nbr', 'item_nbr', 'station_nbr', 'tmax', 'tmin',\n",
       "       'tavg', 'depart', 'dewpoint', 'wetbulb', 'heat', 'cool', 'preciptotal',\n",
       "       'stnpressure', 'sealevel', 'avgspeed', 'resultspeed', 'TS', 'GR', 'RA',\n",
       "       'DZ', 'SN', 'SG', 'GS', 'PL', 'FG2', 'FG', 'BR', 'UP', 'HZ', 'FU', 'DU',\n",
       "       'SQ', 'FZ', 'MI', 'PR', 'BC', 'BL', 'VC', 'day_of_year', 'year',\n",
       "       'month', 'week_day_name', 'weekend', 'is_blackfriday', 'hardrain',\n",
       "       'hardsnow', 'log_units', 'units'],\n",
       "      dtype='object')"
      ]
     },
     "execution_count": 26,
     "metadata": {},
     "output_type": "execute_result"
    }
   ],
   "source": [
    "train.columns"
   ]
  },
  {
   "cell_type": "code",
   "execution_count": 27,
   "metadata": {},
   "outputs": [
    {
     "data": {
      "text/plain": [
       "const                               1\n",
       "date              2012-01-01 00:00:00\n",
       "store_nbr                           1\n",
       "item_nbr                           40\n",
       "station_nbr                         1\n",
       "tmax                               52\n",
       "tmin                               31\n",
       "tavg                               42\n",
       "depart                          11.67\n",
       "dewpoint                           36\n",
       "wetbulb                            40\n",
       "heat                               23\n",
       "cool                                0\n",
       "preciptotal                      0.05\n",
       "stnpressure                     29.78\n",
       "sealevel                        29.92\n",
       "avgspeed                          4.6\n",
       "resultspeed                       3.6\n",
       "TS                                  0\n",
       "GR                                  0\n",
       "RA                                  1\n",
       "DZ                                  0\n",
       "SN                                  0\n",
       "SG                                  0\n",
       "GS                                  0\n",
       "PL                                  0\n",
       "FG2                                 0\n",
       "FG                                  1\n",
       "BR                                  1\n",
       "UP                                  0\n",
       "HZ                                  0\n",
       "FU                                  0\n",
       "DU                                  0\n",
       "SQ                                  0\n",
       "FZ                                  1\n",
       "MI                                  0\n",
       "PR                                  0\n",
       "BC                                  0\n",
       "BL                                  0\n",
       "VC                                  0\n",
       "day_of_year                         1\n",
       "year                             2012\n",
       "month                               1\n",
       "week_day_name                  Sunday\n",
       "weekend                          True\n",
       "is_blackfriday                      0\n",
       "hardrain                            1\n",
       "hardsnow                            0\n",
       "log_units                           0\n",
       "units                               0\n",
       "Name: 0, dtype: object"
      ]
     },
     "execution_count": 27,
     "metadata": {},
     "output_type": "execute_result"
    }
   ],
   "source": [
    "train.iloc[0,:]"
   ]
  },
  {
   "cell_type": "code",
   "execution_count": 14,
   "metadata": {},
   "outputs": [
    {
     "data": {
      "text/plain": [
       "2        0.0\n",
       "3        0.0\n",
       "4        4.0\n",
       "5        0.0\n",
       "6        0.0\n",
       "7        6.0\n",
       "9        0.0\n",
       "10       3.0\n",
       "12       0.0\n",
       "14       0.0\n",
       "16       2.0\n",
       "17       0.0\n",
       "19       4.0\n",
       "20       0.0\n",
       "21       0.0\n",
       "22       4.0\n",
       "23       0.0\n",
       "24       0.0\n",
       "26       0.0\n",
       "29       0.0\n",
       "33       0.0\n",
       "34       2.0\n",
       "35       0.0\n",
       "38       0.0\n",
       "39       0.0\n",
       "40       4.0\n",
       "41       0.0\n",
       "42       0.0\n",
       "43       5.0\n",
       "44       0.0\n",
       "        ... \n",
       "31863    0.0\n",
       "31864    0.0\n",
       "31865    0.0\n",
       "31866    0.0\n",
       "31867    0.0\n",
       "31868    0.0\n",
       "31869    0.0\n",
       "31870    0.0\n",
       "31871    0.0\n",
       "31872    0.0\n",
       "31873    0.0\n",
       "31875    0.0\n",
       "31876    0.0\n",
       "31877    0.0\n",
       "31880    0.0\n",
       "31882    0.0\n",
       "31884    0.0\n",
       "31885    0.0\n",
       "31887    0.0\n",
       "31889    0.0\n",
       "31890    0.0\n",
       "31891    0.0\n",
       "31892    0.0\n",
       "31894    0.0\n",
       "31895    0.0\n",
       "31896    0.0\n",
       "31898    0.0\n",
       "31899    0.0\n",
       "31900    0.0\n",
       "31901    0.0\n",
       "Name: units, Length: 21283, dtype: float64"
      ]
     },
     "execution_count": 14,
     "metadata": {},
     "output_type": "execute_result"
    }
   ],
   "source": [
    "y_train"
   ]
  },
  {
   "cell_type": "code",
   "execution_count": 25,
   "metadata": {
    "scrolled": true
   },
   "outputs": [
    {
     "name": "stdout",
     "output_type": "stream",
     "text": [
      "                            OLS Regression Results                            \n",
      "==============================================================================\n",
      "Dep. Variable:              log_units   R-squared:                       0.117\n",
      "Model:                            OLS   Adj. R-squared:                  0.115\n",
      "Method:                 Least Squares   F-statistic:                     48.56\n",
      "Date:                Fri, 06 Jul 2018   Prob (F-statistic):               0.00\n",
      "Time:                        16:50:20   Log-Likelihood:                -18597.\n",
      "No. Observations:               21283   AIC:                         3.731e+04\n",
      "Df Residuals:                   21224   BIC:                         3.778e+04\n",
      "Df Model:                          58                                         \n",
      "Covariance Type:            nonrobust                                         \n",
      "==========================================================================================\n",
      "                             coef    std err          t      P>|t|      [0.025      0.975]\n",
      "------------------------------------------------------------------------------------------\n",
      "C(store_nbr)[1]            0.3869      0.038     10.254      0.000       0.313       0.461\n",
      "C(store_nbr)[3]            0.0961      0.021      4.639      0.000       0.055       0.137\n",
      "C(store_nbr)[4]            0.1361      0.024      5.608      0.000       0.089       0.184\n",
      "C(store_nbr)[6]            0.0618      0.016      3.936      0.000       0.031       0.093\n",
      "C(store_nbr)[7]            0.2240      0.014     16.291      0.000       0.197       0.251\n",
      "C(store_nbr)[11]           0.1251      0.040      3.118      0.002       0.046       0.204\n",
      "C(store_nbr)[14]           0.1372      0.026      5.274      0.000       0.086       0.188\n",
      "C(store_nbr)[15]           0.2701      0.025     11.007      0.000       0.222       0.318\n",
      "C(store_nbr)[16]           0.0934      0.032      2.930      0.003       0.031       0.156\n",
      "C(store_nbr)[18]           0.1553      0.014     11.185      0.000       0.128       0.183\n",
      "C(store_nbr)[19]           0.1702      0.028      6.027      0.000       0.115       0.226\n",
      "C(store_nbr)[20]           0.2231      0.014     15.759      0.000       0.195       0.251\n",
      "C(store_nbr)[22]           0.1843      0.014     13.448      0.000       0.157       0.211\n",
      "C(store_nbr)[23]           0.2544      0.019     13.641      0.000       0.218       0.291\n",
      "C(store_nbr)[24]           0.1655      0.024      6.774      0.000       0.118       0.213\n",
      "C(store_nbr)[25]           0.1207      0.041      2.978      0.003       0.041       0.200\n",
      "C(store_nbr)[26]           0.2890      0.020     14.193      0.000       0.249       0.329\n",
      "C(store_nbr)[28]          -0.0053      0.021     -0.257      0.798      -0.046       0.036\n",
      "C(store_nbr)[29]           0.0414      0.019      2.230      0.026       0.005       0.078\n",
      "C(store_nbr)[30]           0.0883      0.029      3.038      0.002       0.031       0.145\n",
      "C(store_nbr)[32]           0.1855      0.037      4.949      0.000       0.112       0.259\n",
      "C(store_nbr)[33]           0.2059      0.014     14.830      0.000       0.179       0.233\n",
      "C(store_nbr)[36]           0.4404      0.028     15.942      0.000       0.386       0.495\n",
      "C(store_nbr)[37]           0.1682      0.033      5.066      0.000       0.103       0.233\n",
      "C(store_nbr)[40]           0.1135      0.024      4.656      0.000       0.066       0.161\n",
      "C(store_nbr)[41]           0.2641      0.040      6.523      0.000       0.185       0.344\n",
      "C(store_nbr)[43]           0.1689      0.014     11.994      0.000       0.141       0.197\n",
      "C(store_nbr)[44]           0.1683      0.014     12.350      0.000       0.142       0.195\n",
      "C(store_nbr)[45]           0.0100      0.040      0.254      0.800      -0.067       0.087\n",
      "C(item_nbr)[T.2]           0.3798      0.014     26.426      0.000       0.352       0.408\n",
      "C(item_nbr)[T.3]           0.1689      0.014     11.994      0.000       0.141       0.197\n",
      "C(item_nbr)[T.4]           0.2441      0.046      5.296      0.000       0.154       0.334\n",
      "C(item_nbr)[T.7]           0.2240      0.014     16.291      0.000       0.197       0.251\n",
      "C(item_nbr)[T.13]          0.0531      0.041      1.301      0.193      -0.027       0.133\n",
      "C(item_nbr)[T.14]          0.0618      0.016      3.936      0.000       0.031       0.093\n",
      "C(item_nbr)[T.15]          0.2269      0.019     12.027      0.000       0.190       0.264\n",
      "C(item_nbr)[T.39]          0.0474      0.032      1.479      0.139      -0.015       0.110\n",
      "C(item_nbr)[T.40]         -0.1603      0.047     -3.400      0.001      -0.253      -0.068\n",
      "C(item_nbr)[T.49]          0.0053      0.029      0.184      0.854      -0.052       0.062\n",
      "C(item_nbr)[T.50]          0.1598      0.029      5.423      0.000       0.102       0.217\n",
      "C(item_nbr)[T.51]          0.1336      0.027      5.042      0.000       0.082       0.186\n",
      "C(item_nbr)[T.55]          0.4321      0.034     12.689      0.000       0.365       0.499\n",
      "C(item_nbr)[T.56]          0.2958      0.014     20.667      0.000       0.268       0.324\n",
      "C(item_nbr)[T.57]          0.1553      0.014     11.185      0.000       0.128       0.183\n",
      "C(item_nbr)[T.58]          0.2889      0.044      6.517      0.000       0.202       0.376\n",
      "C(item_nbr)[T.61]          0.1986      0.033      6.023      0.000       0.134       0.263\n",
      "C(item_nbr)[T.62]          0.1683      0.014     12.350      0.000       0.142       0.195\n",
      "C(item_nbr)[T.70]          0.1502      0.035      4.244      0.000       0.081       0.220\n",
      "C(item_nbr)[T.74]          0.2231      0.014     15.759      0.000       0.195       0.251\n",
      "C(item_nbr)[T.76]          0.0477      0.031      1.528      0.127      -0.013       0.109\n",
      "C(item_nbr)[T.77]          0.3536      0.040      8.865      0.000       0.275       0.432\n",
      "C(item_nbr)[T.78]          0.1843      0.014     13.448      0.000       0.157       0.211\n",
      "C(item_nbr)[T.92]          0.2059      0.014     14.830      0.000       0.179       0.233\n",
      "C(item_nbr)[T.96]          0.1038      0.034      3.087      0.002       0.038       0.170\n",
      "C(item_nbr)[T.97]          0.1502      0.020      7.618      0.000       0.112       0.189\n",
      "C(weekend)[T.True]         0.0535      0.008      6.645      0.000       0.038       0.069\n",
      "C(month)[T.2]             -0.0292      0.016     -1.840      0.066      -0.060       0.002\n",
      "C(month)[T.3]              0.0345      0.015      2.228      0.026       0.004       0.065\n",
      "C(month)[T.4]              0.1674      0.020      8.386      0.000       0.128       0.207\n",
      "C(month)[T.5]              0.0764      0.020      3.856      0.000       0.038       0.115\n",
      "C(month)[T.6]              0.0526      0.020      2.627      0.009       0.013       0.092\n",
      "C(month)[T.7]             -0.0019      0.020     -0.093      0.926      -0.041       0.037\n",
      "C(month)[T.8]             -0.0908      0.020     -4.598      0.000      -0.130      -0.052\n",
      "C(month)[T.9]             -0.3102      0.015    -20.074      0.000      -0.341      -0.280\n",
      "C(month)[T.10]            -0.1748      0.019     -9.019      0.000      -0.213      -0.137\n",
      "C(month)[T.11]             0.0064      0.024      0.268      0.789      -0.041       0.053\n",
      "C(month)[T.12]             0.4144      0.023     17.940      0.000       0.369       0.460\n",
      "C(year)[T.2013]           -0.0043      0.010     -0.451      0.652      -0.023       0.014\n",
      "C(year)[T.2014]           -0.0705      0.010     -7.028      0.000      -0.090      -0.051\n",
      "C(is_blackfriday)[T.1]    -0.1501      0.053     -2.847      0.004      -0.253      -0.047\n",
      "scale(preciptotal)        -0.0078      0.004     -1.921      0.055      -0.016       0.000\n",
      "==============================================================================\n",
      "Omnibus:                     7271.673   Durbin-Watson:                   1.896\n",
      "Prob(Omnibus):                  0.000   Jarque-Bera (JB):            24462.031\n",
      "Skew:                           1.746   Prob(JB):                         0.00\n",
      "Kurtosis:                       6.923   Cond. No.                     4.02e+16\n",
      "==============================================================================\n",
      "\n",
      "Warnings:\n",
      "[1] Standard Errors assume that the covariance matrix of the errors is correctly specified.\n",
      "[2] The smallest eigenvalue is 1.32e-29. This might indicate that there are\n",
      "strong multicollinearity problems or that the design matrix is singular.\n"
     ]
    }
   ],
   "source": [
    "model_OLS = sm.OLS.from_formula(\"log_units ~  C(store_nbr) + C(item_nbr) + scale(preciptotal) + C(weekend) + C(month) + C(year) + C(is_blackfriday) + 0\" , data = train)\n",
    "results_OLS = model_OLS.fit()\n",
    "print(results_OLS.summary())"
   ]
  },
  {
   "cell_type": "code",
   "execution_count": 28,
   "metadata": {},
   "outputs": [
    {
     "data": {
      "image/png": "[encoded data removed]",
      "text/plain": [
       "<matplotlib.figure.Figure at 0x1b1c5572ba8>"
      ]
     },
     "metadata": {
      "image/png": {
       "height": 425,
       "width": 424
      }
     },
     "output_type": "display_data"
    }
   ],
   "source": [
    "sns.jointplot(results_OLS.predict(train), np.log(y_train+1))\n",
    "plt.show()"
   ]
  },
  {
   "cell_type": "code",
   "execution_count": 29,
   "metadata": {
    "scrolled": true
   },
   "outputs": [
    {
     "name": "stdout",
     "output_type": "stream",
     "text": [
      "                           GLSAR Regression Results                           \n",
      "==============================================================================\n",
      "Dep. Variable:              log_units   R-squared:                       0.120\n",
      "Model:                          GLSAR   Adj. R-squared:                  0.117\n",
      "Method:                 Least Squares   F-statistic:                     48.17\n",
      "Date:                Fri, 06 Jul 2018   Prob (F-statistic):               0.00\n",
      "Time:                        16:52:10   Log-Likelihood:                -18564.\n",
      "No. Observations:               21282   AIC:                         3.725e+04\n",
      "Df Residuals:                   21221   BIC:                         3.774e+04\n",
      "Df Model:                          60                                         \n",
      "Covariance Type:            nonrobust                                         \n",
      "==========================================================================================\n",
      "                             coef    std err          t      P>|t|      [0.025      0.975]\n",
      "------------------------------------------------------------------------------------------\n",
      "Intercept              -2.334e+10    6.9e+10     -0.338      0.735   -1.58e+11    1.12e+11\n",
      "C(store_nbr)[T.3]      -2.851e+10   5.98e+10     -0.476      0.634   -1.46e+11    8.88e+10\n",
      "C(store_nbr)[T.4]       6.425e+10   3.63e+11      0.177      0.859   -6.46e+11    7.75e+11\n",
      "C(store_nbr)[T.6]       1.138e+11   3.45e+11      0.330      0.741   -5.62e+11     7.9e+11\n",
      "C(store_nbr)[T.7]       4.629e+09   9.88e+09      0.469      0.639   -1.47e+10     2.4e+10\n",
      "C(store_nbr)[T.11]        -0.2757      0.059     -4.683      0.000      -0.391      -0.160\n",
      "C(store_nbr)[T.14]        -0.2520      0.052     -4.843      0.000      -0.354      -0.150\n",
      "C(store_nbr)[T.15]        -0.1138      0.046     -2.449      0.014      -0.205      -0.023\n",
      "C(store_nbr)[T.16]        -0.2859      0.057     -4.982      0.000      -0.398      -0.173\n",
      "C(store_nbr)[T.18]      1.745e+11   1.18e+12      0.148      0.883   -2.14e+12    2.49e+12\n",
      "C(store_nbr)[T.19]        -0.2093      0.052     -4.012      0.000      -0.312      -0.107\n",
      "C(store_nbr)[T.20]      2.783e+10   5.79e+10      0.480      0.631   -8.57e+10    1.41e+11\n",
      "C(store_nbr)[T.22]      2.318e+10   1.32e+11      0.176      0.860   -2.35e+11    2.81e+11\n",
      "C(store_nbr)[T.23]      6.881e+11   1.45e+12      0.473      0.636   -2.16e+12    3.54e+12\n",
      "C(store_nbr)[T.24]      6.425e+10   3.63e+11      0.177      0.859   -6.46e+11    7.75e+11\n",
      "C(store_nbr)[T.25]        -0.2639      0.063     -4.169      0.000      -0.388      -0.140\n",
      "C(store_nbr)[T.26]     -2.851e+10   5.98e+10     -0.476      0.634   -1.46e+11    8.88e+10\n",
      "C(store_nbr)[T.28]     -2.851e+10   5.98e+10     -0.476      0.634   -1.46e+11    8.88e+10\n",
      "C(store_nbr)[T.29]      6.881e+11   1.45e+12      0.473      0.636   -2.16e+12    3.54e+12\n",
      "C(store_nbr)[T.30]        -0.2915      0.040     -7.375      0.000      -0.369      -0.214\n",
      "C(store_nbr)[T.32]        -0.1961      0.041     -4.730      0.000      -0.277      -0.115\n",
      "C(store_nbr)[T.33]      3.022e+10   7.26e+10      0.416      0.677   -1.12e+11    1.73e+11\n",
      "C(store_nbr)[T.36]      2.334e+10    6.9e+10      0.338      0.735   -1.12e+11    1.58e+11\n",
      "C(store_nbr)[T.37]        -0.2149      0.053     -4.045      0.000      -0.319      -0.111\n",
      "C(store_nbr)[T.40]        -0.2693      0.040     -6.783      0.000      -0.347      -0.191\n",
      "C(store_nbr)[T.41]        -0.1359      0.059     -2.301      0.021      -0.252      -0.020\n",
      "C(store_nbr)[T.43]      1.749e+10   3.83e+10      0.457      0.648   -5.76e+10    9.26e+10\n",
      "C(store_nbr)[T.44]      1.167e+10    3.7e+10      0.315      0.753   -6.09e+10    8.43e+10\n",
      "C(store_nbr)[T.45]        -0.3802      0.063     -6.032      0.000      -0.504      -0.257\n",
      "C(item_nbr)[T.2]        5.184e+10   1.01e+11      0.515      0.607   -1.46e+11    2.49e+11\n",
      "C(item_nbr)[T.3]        5.845e+09   3.53e+10      0.166      0.868   -6.33e+10     7.5e+10\n",
      "C(item_nbr)[T.4]        2.334e+10    6.9e+10      0.338      0.735   -1.12e+11    1.58e+11\n",
      "C(item_nbr)[T.7]        1.871e+10   5.99e+10      0.312      0.755   -9.87e+10    1.36e+11\n",
      "C(item_nbr)[T.13]       2.334e+10    6.9e+10      0.338      0.735   -1.12e+11    1.58e+11\n",
      "C(item_nbr)[T.14]      -9.051e+10   2.76e+11     -0.328      0.743   -6.31e+11     4.5e+11\n",
      "C(item_nbr)[T.15]       2.334e+10    6.9e+10      0.338      0.735   -1.12e+11    1.58e+11\n",
      "C(item_nbr)[T.39]       2.334e+10    6.9e+10      0.338      0.735   -1.12e+11    1.58e+11\n",
      "C(item_nbr)[T.40]       2.334e+10    6.9e+10      0.338      0.735   -1.12e+11    1.58e+11\n",
      "C(item_nbr)[T.49]       2.334e+10    6.9e+10      0.338      0.735   -1.12e+11    1.58e+11\n",
      "C(item_nbr)[T.50]       2.334e+10    6.9e+10      0.338      0.735   -1.12e+11    1.58e+11\n",
      "C(item_nbr)[T.51]       2.334e+10    6.9e+10      0.338      0.735   -1.12e+11    1.58e+11\n",
      "C(item_nbr)[T.55]       2.334e+10    6.9e+10      0.338      0.735   -1.12e+11    1.58e+11\n",
      "C(item_nbr)[T.56]      -6.648e+11   1.44e+12     -0.461      0.645   -3.49e+12    2.16e+12\n",
      "C(item_nbr)[T.57]      -1.512e+11   1.12e+12     -0.135      0.893   -2.35e+12    2.04e+12\n",
      "C(item_nbr)[T.58]       2.334e+10    6.9e+10      0.338      0.735   -1.12e+11    1.58e+11\n",
      "C(item_nbr)[T.61]       2.334e+10    6.9e+10      0.338      0.735   -1.12e+11    1.58e+11\n",
      "C(item_nbr)[T.62]       1.167e+10    3.2e+10      0.364      0.716   -5.11e+10    7.45e+10\n",
      "C(item_nbr)[T.70]       2.334e+10    6.9e+10      0.338      0.735   -1.12e+11    1.58e+11\n",
      "C(item_nbr)[T.74]      -4.492e+09   2.93e+10     -0.153      0.878    -6.2e+10     5.3e+10\n",
      "C(item_nbr)[T.76]      -4.092e+10   2.99e+11     -0.137      0.891   -6.26e+11    5.45e+11\n",
      "C(item_nbr)[T.77]       2.334e+10    6.9e+10      0.338      0.735   -1.12e+11    1.58e+11\n",
      "C(item_nbr)[T.78]       1.589e+08    7.1e+10      0.002      0.998   -1.39e+11    1.39e+11\n",
      "C(item_nbr)[T.92]      -6.888e+09   1.51e+10     -0.456      0.649   -3.65e+10    2.27e+10\n",
      "C(item_nbr)[T.96]      -4.092e+10   2.99e+11     -0.137      0.891   -6.26e+11    5.45e+11\n",
      "C(item_nbr)[T.97]      -4.092e+10   2.99e+11     -0.137      0.891   -6.26e+11    5.45e+11\n",
      "C(weekend)[T.True]         0.0516      0.008      6.406      0.000       0.036       0.067\n",
      "C(month)[T.2]             -0.0366      0.016     -2.296      0.022      -0.068      -0.005\n",
      "C(month)[T.3]              0.0243      0.016      1.509      0.131      -0.007       0.056\n",
      "C(month)[T.4]              0.1519      0.022      6.909      0.000       0.109       0.195\n",
      "C(month)[T.5]              0.0563      0.024      2.336      0.020       0.009       0.104\n",
      "C(month)[T.6]              0.0284      0.027      1.066      0.287      -0.024       0.081\n",
      "C(month)[T.7]             -0.0295      0.028     -1.060      0.289      -0.084       0.025\n",
      "C(month)[T.8]             -0.1172      0.027     -4.288      0.000      -0.171      -0.064\n",
      "C(month)[T.9]             -0.3343      0.023    -14.394      0.000      -0.380      -0.289\n",
      "C(month)[T.10]            -0.1937      0.023     -8.358      0.000      -0.239      -0.148\n",
      "C(month)[T.11]            -0.0140      0.025     -0.565      0.572      -0.063       0.035\n",
      "C(month)[T.12]             0.4015      0.023     17.264      0.000       0.356       0.447\n",
      "C(year)[T.2013]           -0.0227      0.010     -2.324      0.020      -0.042      -0.004\n",
      "C(year)[T.2014]           -0.0913      0.010     -8.833      0.000      -0.112      -0.071\n",
      "C(is_blackfriday)[T.1]    -0.1346      0.053     -2.550      0.011      -0.238      -0.031\n",
      "scale(depart)             -0.0367      0.005     -7.156      0.000      -0.047      -0.027\n",
      "scale(dewpoint)            0.0118      0.011      1.092      0.275      -0.009       0.033\n",
      "scale(preciptotal)        -0.0092      0.004     -2.234      0.025      -0.017      -0.001\n",
      "==============================================================================\n",
      "Omnibus:                     7205.589   Durbin-Watson:                   1.900\n",
      "Prob(Omnibus):                  0.000   Jarque-Bera (JB):            23943.467\n",
      "Skew:                           1.734   Prob(JB):                         0.00\n",
      "Kurtosis:                       6.869   Cond. No.                     1.74e+16\n",
      "==============================================================================\n",
      "\n",
      "Warnings:\n",
      "[1] Standard Errors assume that the covariance matrix of the errors is correctly specified.\n",
      "[2] The smallest eigenvalue is 1.14e-28. This might indicate that there are\n",
      "strong multicollinearity problems or that the design matrix is singular.\n"
     ]
    }
   ],
   "source": [
    "model_GLSAR = sm.GLSAR.from_formula(\" log_units ~  C(store_nbr) + C(item_nbr) + scale(depart) + scale(dewpoint) + scale(preciptotal) + C(weekend) + C(month) + C(year) + C(is_blackfriday)\" , data = train, rho=1)\n",
    "results_GLSAR = model_GLSAR.fit()\n",
    "print(results_GLSAR.summary())"
   ]
  },
  {
   "cell_type": "code",
   "execution_count": 32,
   "metadata": {},
   "outputs": [
    {
     "data": {
      "text/plain": [
       "21283"
      ]
     },
     "execution_count": 32,
     "metadata": {},
     "output_type": "execute_result"
    }
   ],
   "source": [
    "len(train)"
   ]
  },
  {
   "cell_type": "code",
   "execution_count": 31,
   "metadata": {},
   "outputs": [
    {
     "data": {
      "image/png": "[encoded data removed]",
      "text/plain": [
       "<matplotlib.figure.Figure at 0x1b1c1eb40b8>"
      ]
     },
     "metadata": {
      "image/png": {
       "height": 248,
       "width": 361
      }
     },
     "output_type": "display_data"
    }
   ],
   "source": [
    "plt.scatter(results_GLSAR.predict(train), np.log(y_train+1))\n",
    "plt.show()"
   ]
  },
  {
   "cell_type": "code",
   "execution_count": null,
   "metadata": {},
   "outputs": [],
   "source": [
    "plt.figure(figsize= (12, 8))\n",
    "plt.scatter(   ,results_GLSAR.resid)\n"
   ]
  },
  {
   "cell_type": "code",
   "execution_count": null,
   "metadata": {},
   "outputs": [],
   "source": [
    "ax1 = plt.subplot(211); sm.graphics.tsa.plot_acf(results_GLSAR.resid, ax=ax1)\n",
    "plt.xlim(0,5)\n",
    "ax2 = plt.subplot(212); sm.graphics.tsa.plot_pacf(results_GLSAR.resid, ax=ax2)\n",
    "plt.xlim(0,5)\n",
    "plt.tight_layout()\n",
    "plt.show() "
   ]
  },
  {
   "cell_type": "code",
   "execution_count": null,
   "metadata": {},
   "outputs": [],
   "source": []
  },
  {
   "cell_type": "code",
   "execution_count": null,
   "metadata": {},
   "outputs": [],
   "source": [
    "model_GLSAR = sm.GLSAR.from_formula(\"I(np.log((units +1))) ~  C(store_nbr) + C(item_nbr) + scale(depart) + scale(dewpoint) + scale(preciptotal) + C(SN) + C(FG2) + C(weekend) + C(month) + C(year) + C(is_blackfriday) + C(hardsnow) + C(hardrain)\" , data = cont_df, rho=1)\n",
    "results_GLSAR = model_GLSAR.fit()\n",
    "print(results_GLSAR.summary())"
   ]
  },
  {
   "cell_type": "code",
   "execution_count": null,
   "metadata": {},
   "outputs": [],
   "source": []
  }
 ],
 "metadata": {
  "kernelspec": {
   "display_name": "Python 3",
   "language": "python",
   "name": "python3"
  },
  "language_info": {
   "codemirror_mode": {
    "name": "ipython",
    "version": 3
   },
   "file_extension": ".py",
   "mimetype": "text/x-python",
   "name": "python",
   "nbconvert_exporter": "python",
   "pygments_lexer": "ipython3",
   "version": "3.6.4"
  }
 },
 "nbformat": 4,
 "nbformat_minor": 2
}
