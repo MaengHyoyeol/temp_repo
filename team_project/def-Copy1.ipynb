{
 "cells": [
  {
   "cell_type": "code",
   "execution_count": 10,
   "metadata": {},
   "outputs": [],
   "source": [
    "import csv\n",
    "import pickle\n",
    "import datetime\n",
    "from sklearn.model_selection import train_test_split"
   ]
  },
  {
   "cell_type": "code",
   "execution_count": 11,
   "metadata": {},
   "outputs": [],
   "source": [
    "%matplotlib inline\n",
    "%config InlineBackend.figure_formats = {'png','retina'}"
   ]
  },
  {
   "cell_type": "code",
   "execution_count": 12,
   "metadata": {},
   "outputs": [],
   "source": [
    "def import_data():\n",
    "    df = pd.read_csv('data/final_df.csv')\n",
    "    df = df.iloc[:,1:]\n",
    "    \n",
    "    \n",
    "    return df"
   ]
  },
  {
   "cell_type": "code",
   "execution_count": null,
   "metadata": {},
   "outputs": [],
   "source": [
    "# data = pd.read_csv('data/data.csv')\n",
    "# data=data.iloc[:,1:]"
   ]
  },
  {
   "cell_type": "code",
   "execution_count": null,
   "metadata": {},
   "outputs": [],
   "source": [
    "# new_order = ['date', 'store_nbr', 'item_nbr', 'station_nbr', 'tmax', 'tmin',\n",
    "#        'tavg', 'depart', 'dewpoint', 'wetbulb', 'heat', 'cool', 'sunrise',\n",
    "#        'sunset', 'snowfall', 'preciptotal', 'stnpressure', 'sealevel',\n",
    "#        'avgspeed', 'resultspeed', 'resultdir', 'TS', 'GR', 'RA', 'DZ', 'SN',\n",
    "#        'SG', 'GS', 'PL', 'FG+', 'FG', 'BR', 'UP', 'HZ', 'FU', 'DU', 'SQ', 'FZ',\n",
    "#        'MI', 'PR', 'BC', 'BL', 'VC', 'units']"
   ]
  },
  {
   "cell_type": "code",
   "execution_count": null,
   "metadata": {},
   "outputs": [],
   "source": [
    "# data = data[new_order]"
   ]
  },
  {
   "cell_type": "code",
   "execution_count": null,
   "metadata": {},
   "outputs": [],
   "source": [
    "# data.columns = ['date', 'store_nbr', 'item_nbr', 'station_nbr', 'tmax', 'tmin', 'tavg',\n",
    "#        'depart', 'dewpoint', 'wetbulb', 'heat', 'cool', 'sunrise', 'sunset',\n",
    "#        'snowfall', 'preciptotal', 'stnpressure', 'sealevel', 'avgspeed',\n",
    "#        'resultspeed', 'resultdir', 'TS', 'GR', 'RA', 'DZ', 'SN', 'SG', 'GS',\n",
    "#        'PL', 'FG2', 'FG', 'BR', 'UP', 'HZ', 'FU', 'DU', 'SQ', 'FZ', 'MI', 'PR',\n",
    "#        'BC', 'BL', 'VC', 'units']"
   ]
  },
  {
   "cell_type": "code",
   "execution_count": 13,
   "metadata": {},
   "outputs": [],
   "source": [
    "def fulldf(df):\n",
    "    \n",
    "    df.snowfall = df.snowfall.replace([\"T\",\"  T\"],0.05)\n",
    "    df.preciptotal = df.preciptotal.replace([\"T\",\"  T\"],0.005)\n",
    "    df.depart = pd.to_numeric(df.depart, errors='coerce')\n",
    "    \n",
    "    df = type_change_numeric(df,[ 'store_nbr', 'item_nbr', 'units', 'station_nbr', 'tmax', 'tmin',\n",
    "       'tavg', 'depart', 'dewpoint', 'wetbulb', 'heat', 'cool', 'snowfall', 'preciptotal', 'stnpressure', 'sealevel',\n",
    "       'avgspeed', 'resultspeed', 'resultdir' ])\n",
    "    df['date'] = pd.to_datetime(df['date'])\n",
    "                                   \n",
    "    \n",
    "    df[\"day_of_year\"] = df['date'].dt.dayofyear\n",
    "    df[\"year\"] = df['date'].dt.year\n",
    "    df[\"month\"] = df[\"date\"].dt.month\n",
    "    \n",
    "    \n",
    "    for idx in range(5, 8):\n",
    "        df.iloc[:,idx].fillna(df.groupby([\"day_of_year\",\"store_nbr\"])[df.columns[idx]].\\\n",
    "                              transform('mean'), inplace=True)\n",
    "\n",
    "    for idx in range(16, 23):\n",
    "        df.iloc[:,idx].fillna(df.groupby([\"day_of_year\",\"store_nbr\"])[df.columns[idx]].\\\n",
    "                              transform('mean'), inplace=True)\n",
    "    add_depart1(df)\n",
    "    \n",
    "    return df\n",
    "\n",
    "# for column in item37.columns:\n",
    "#     item37[column].interpolate()"
   ]
  },
  {
   "cell_type": "code",
   "execution_count": 14,
   "metadata": {},
   "outputs": [],
   "source": [
    "def type_change_numeric(df, ls = []): \n",
    "    #ls에 있는 column name은 numeric형으로 바꾸지 않는다.\n",
    "    cols = df.columns\n",
    "    for i in cols:\n",
    "        if i in ls:\n",
    "            #df = df.replace([\"M\",None], '')\n",
    "            df.snowfall = df.snowfall.replace([\"T\",\"  T\"],0.05)\n",
    "            df.preciptotal = df.preciptotal.replace([\"T\",\"  T\"],0.005)\n",
    "            df[i] = pd.to_numeric(df[i], errors='coerce')\n",
    "        \n",
    "    return df"
   ]
  },
  {
   "cell_type": "code",
   "execution_count": 15,
   "metadata": {},
   "outputs": [],
   "source": [
    "def add_depart1(x):\n",
    "    x.depart.fillna(x.tavg - x.groupby([\"day_of_year\",\"store_nbr\"])[\"tavg\"].transform('mean'),inplace = True)\n",
    "    x.depart = x.depart.round(2)\n",
    "    return x.sort_values([\"store_nbr\",\"date\",\"item_nbr\"])"
   ]
  },
  {
   "cell_type": "code",
   "execution_count": 16,
   "metadata": {},
   "outputs": [],
   "source": [
    "def reorder_df(df):\n",
    "    #Column 정렬 (y값을 마지막으로 ) 후 FG+ -> FG2 변환 (formula에 인식시키기위해 )\n",
    "    new_order =  ['date', 'store_nbr', 'item_nbr', 'station_nbr', 'tmax', 'tmin',\n",
    "       'tavg', 'depart', 'dewpoint', 'wetbulb', 'heat', 'cool', 'sunrise',\n",
    "       'sunset', 'snowfall', 'preciptotal', 'stnpressure', 'sealevel',\n",
    "       'avgspeed', 'resultspeed', 'resultdir', 'TS', 'GR', 'RA', 'DZ', 'SN',\n",
    "       'SG', 'GS', 'PL', 'FG+', 'FG', 'BR', 'UP', 'HZ', 'FU', 'DU', 'SQ', 'FZ',\n",
    "       'MI', 'PR', 'BC', 'BL', 'VC', 'day_of_year', 'year', 'month', 'units' ]\n",
    "    df = df[new_order]\n",
    "    df.columns = ['date', 'store_nbr', 'item_nbr', 'station_nbr', 'tmax', 'tmin',\n",
    "       'tavg', 'depart', 'dewpoint', 'wetbulb', 'heat', 'cool', 'sunrise',\n",
    "       'sunset', 'snowfall', 'preciptotal', 'stnpressure', 'sealevel',\n",
    "       'avgspeed', 'resultspeed', 'resultdir', 'TS', 'GR', 'RA', 'DZ', 'SN',\n",
    "       'SG', 'GS', 'PL', 'FG2', 'FG', 'BR', 'UP', 'HZ', 'FU', 'DU', 'SQ', 'FZ',\n",
    "       'MI', 'PR', 'BC', 'BL', 'VC', 'day_of_year', 'year', 'month', 'units' ]\n",
    "    \n",
    "    return df"
   ]
  },
  {
   "cell_type": "code",
   "execution_count": 17,
   "metadata": {},
   "outputs": [],
   "source": [
    "def add_cat_columns(df):\n",
    "    df['date'] = pd.to_datetime(df['date'])\n",
    "#     df['sunrise'] = pd.to_datetime(df['sunrise'], format='%H%M')\n",
    "#     df['sunset'] = pd.to_datetime(df['sunset'], format='%H%M')\n",
    "\n",
    "    blackfriday = [\"2012-11-21\",\"2012-11-22\",\"2012-11-23\", \"2012-11-24\",\"2012-11-25\",\n",
    "              \"2013-11-27\",\"2013-11-28\", \"2013-11-29\",\"2013-11-30\",\"2013-11-31\",\n",
    "              \"2014-11-26\", \"2014-11-27\", \"2014-11-28\",\"2014-11-29\",\"2014-11-30\"]\n",
    "    df[\"week_day_name\"] = df['date'].dt.weekday_name\n",
    "    df['weekend'] = False\n",
    "    df.weekend[df['week_day_name'] == 'Sunday'] = True\n",
    "    df.weekend[df['week_day_name'] == 'Saturday'] = True\n",
    "    df.weekend[df['week_day_name'] == 'Friday'] = True\n",
    "    df[\"is_blackfriday\"] = df.date.apply(lambda x : str(x)[:10] in blackfriday).astype(int)\n",
    "    \n",
    "    df['hardrain'] = [(((4 if i > 8 else 3) if i > 6 else 2) if i > 1 else 1) if i > 0 else 0 for i in df['preciptotal']]\n",
    "    # rain 1 snow 2\n",
    "    # 득정조건열 추가 ()\n",
    "    df['hardsnow'] = [(( 3 if i > 3.5 else 2) if i > 1 else 1) if i > 0 else 0 for i in df['snowfall']]\n",
    "    \n",
    "    df['log_units'] = df.units.apply(lambda x: np.log(x + 1)).astype(float)\n",
    "    return df"
   ]
  },
  {
   "cell_type": "code",
   "execution_count": 18,
   "metadata": {},
   "outputs": [],
   "source": [
    "def df_sampling(df):\n",
    "    new_order = ['date', 'store_nbr', 'item_nbr', 'station_nbr', 'tmax', 'tmin', 'tavg',\n",
    "       'depart', 'dewpoint', 'wetbulb', 'heat', 'cool', 'preciptotal', 'stnpressure', 'sealevel', 'avgspeed',\n",
    "       'resultspeed', 'resultdir', 'TS', 'GR', 'RA', 'DZ', 'SN', 'SG', 'GS',\n",
    "       'PL', 'FG2', 'FG', 'BR', 'UP', 'HZ', 'FU', 'DU', 'SQ', 'FZ', 'MI', 'PR',\n",
    "       'BC', 'BL', 'VC', 'day_of_year', 'year', 'month', \n",
    "       'week_day_name', 'weekend', 'is_blackfriday', 'hardrain', 'hardsnow',\n",
    "       'log_units', 'units' ]\n",
    "    \n",
    "    df = df[new_order]\n",
    "    \n",
    "    X, y = df.iloc[:,:-1], df.units\n",
    "    X_train, X_test, y_train, y_test = train_test_split(X, y, test_size = 0.3, random_state = 2018)\n",
    "    \n",
    "    train = pd.concat([X_train, y_train] ,axis = 1)\n",
    "    train = train.sort_values(by=['date', 'store_nbr', 'item_nbr']).reset_index(drop= True)\n",
    "    y_train = y_train.sort_index()\n",
    "    y_test = y_test.sort_index()\n",
    "    \n",
    "    return train, y_train, y_test\n",
    "   "
   ]
  },
  {
   "cell_type": "code",
   "execution_count": 19,
   "metadata": {
    "scrolled": true
   },
   "outputs": [
    {
     "ename": "KeyError",
     "evalue": "\"['sunrise' 'sunset' 'resultdir'] not in index\"",
     "output_type": "error",
     "traceback": [
      "\u001b[1;31m---------------------------------------------------------------------------\u001b[0m",
      "\u001b[1;31mKeyError\u001b[0m                                  Traceback (most recent call last)",
      "\u001b[1;32m<ipython-input-19-218ff131fb38>\u001b[0m in \u001b[0;36m<module>\u001b[1;34m()\u001b[0m\n\u001b[0;32m      1\u001b[0m \u001b[0mdata\u001b[0m \u001b[1;33m=\u001b[0m \u001b[0mimport_data\u001b[0m\u001b[1;33m(\u001b[0m\u001b[1;33m)\u001b[0m\u001b[1;33m\u001b[0m\u001b[0m\n\u001b[0;32m      2\u001b[0m \u001b[0mdata_t\u001b[0m \u001b[1;33m=\u001b[0m \u001b[0mfulldf\u001b[0m\u001b[1;33m(\u001b[0m\u001b[0mdata\u001b[0m\u001b[1;33m)\u001b[0m\u001b[1;33m\u001b[0m\u001b[0m\n\u001b[1;32m----> 3\u001b[1;33m \u001b[0mdata_t\u001b[0m \u001b[1;33m=\u001b[0m \u001b[0mreorder_df\u001b[0m\u001b[1;33m(\u001b[0m\u001b[0mdata_t\u001b[0m\u001b[1;33m)\u001b[0m\u001b[1;33m\u001b[0m\u001b[0m\n\u001b[0m\u001b[0;32m      4\u001b[0m \u001b[0mdata_t\u001b[0m  \u001b[1;33m=\u001b[0m \u001b[0madd_cat_columns\u001b[0m\u001b[1;33m(\u001b[0m\u001b[0mdata_t\u001b[0m\u001b[1;33m)\u001b[0m\u001b[1;33m\u001b[0m\u001b[0m\n",
      "\u001b[1;32m<ipython-input-16-ee2ca078e4d0>\u001b[0m in \u001b[0;36mreorder_df\u001b[1;34m(df)\u001b[0m\n\u001b[0;32m      7\u001b[0m        \u001b[1;34m'SG'\u001b[0m\u001b[1;33m,\u001b[0m \u001b[1;34m'GS'\u001b[0m\u001b[1;33m,\u001b[0m \u001b[1;34m'PL'\u001b[0m\u001b[1;33m,\u001b[0m \u001b[1;34m'FG+'\u001b[0m\u001b[1;33m,\u001b[0m \u001b[1;34m'FG'\u001b[0m\u001b[1;33m,\u001b[0m \u001b[1;34m'BR'\u001b[0m\u001b[1;33m,\u001b[0m \u001b[1;34m'UP'\u001b[0m\u001b[1;33m,\u001b[0m \u001b[1;34m'HZ'\u001b[0m\u001b[1;33m,\u001b[0m \u001b[1;34m'FU'\u001b[0m\u001b[1;33m,\u001b[0m \u001b[1;34m'DU'\u001b[0m\u001b[1;33m,\u001b[0m \u001b[1;34m'SQ'\u001b[0m\u001b[1;33m,\u001b[0m \u001b[1;34m'FZ'\u001b[0m\u001b[1;33m,\u001b[0m\u001b[1;33m\u001b[0m\u001b[0m\n\u001b[0;32m      8\u001b[0m        'MI', 'PR', 'BC', 'BL', 'VC', 'day_of_year', 'year', 'month', 'units' ]\n\u001b[1;32m----> 9\u001b[1;33m     \u001b[0mdf\u001b[0m \u001b[1;33m=\u001b[0m \u001b[0mdf\u001b[0m\u001b[1;33m[\u001b[0m\u001b[0mnew_order\u001b[0m\u001b[1;33m]\u001b[0m\u001b[1;33m\u001b[0m\u001b[0m\n\u001b[0m\u001b[0;32m     10\u001b[0m     df.columns = ['date', 'store_nbr', 'item_nbr', 'station_nbr', 'tmax', 'tmin',\n\u001b[0;32m     11\u001b[0m        \u001b[1;34m'tavg'\u001b[0m\u001b[1;33m,\u001b[0m \u001b[1;34m'depart'\u001b[0m\u001b[1;33m,\u001b[0m \u001b[1;34m'dewpoint'\u001b[0m\u001b[1;33m,\u001b[0m \u001b[1;34m'wetbulb'\u001b[0m\u001b[1;33m,\u001b[0m \u001b[1;34m'heat'\u001b[0m\u001b[1;33m,\u001b[0m \u001b[1;34m'cool'\u001b[0m\u001b[1;33m,\u001b[0m \u001b[1;34m'sunrise'\u001b[0m\u001b[1;33m,\u001b[0m\u001b[1;33m\u001b[0m\u001b[0m\n",
      "\u001b[1;32mC:\\ProgramData\\Anaconda3\\lib\\site-packages\\pandas\\core\\frame.py\u001b[0m in \u001b[0;36m__getitem__\u001b[1;34m(self, key)\u001b[0m\n\u001b[0;32m   2131\u001b[0m         \u001b[1;32mif\u001b[0m \u001b[0misinstance\u001b[0m\u001b[1;33m(\u001b[0m\u001b[0mkey\u001b[0m\u001b[1;33m,\u001b[0m \u001b[1;33m(\u001b[0m\u001b[0mSeries\u001b[0m\u001b[1;33m,\u001b[0m \u001b[0mnp\u001b[0m\u001b[1;33m.\u001b[0m\u001b[0mndarray\u001b[0m\u001b[1;33m,\u001b[0m \u001b[0mIndex\u001b[0m\u001b[1;33m,\u001b[0m \u001b[0mlist\u001b[0m\u001b[1;33m)\u001b[0m\u001b[1;33m)\u001b[0m\u001b[1;33m:\u001b[0m\u001b[1;33m\u001b[0m\u001b[0m\n\u001b[0;32m   2132\u001b[0m             \u001b[1;31m# either boolean or fancy integer index\u001b[0m\u001b[1;33m\u001b[0m\u001b[1;33m\u001b[0m\u001b[0m\n\u001b[1;32m-> 2133\u001b[1;33m             \u001b[1;32mreturn\u001b[0m \u001b[0mself\u001b[0m\u001b[1;33m.\u001b[0m\u001b[0m_getitem_array\u001b[0m\u001b[1;33m(\u001b[0m\u001b[0mkey\u001b[0m\u001b[1;33m)\u001b[0m\u001b[1;33m\u001b[0m\u001b[0m\n\u001b[0m\u001b[0;32m   2134\u001b[0m         \u001b[1;32melif\u001b[0m \u001b[0misinstance\u001b[0m\u001b[1;33m(\u001b[0m\u001b[0mkey\u001b[0m\u001b[1;33m,\u001b[0m \u001b[0mDataFrame\u001b[0m\u001b[1;33m)\u001b[0m\u001b[1;33m:\u001b[0m\u001b[1;33m\u001b[0m\u001b[0m\n\u001b[0;32m   2135\u001b[0m             \u001b[1;32mreturn\u001b[0m \u001b[0mself\u001b[0m\u001b[1;33m.\u001b[0m\u001b[0m_getitem_frame\u001b[0m\u001b[1;33m(\u001b[0m\u001b[0mkey\u001b[0m\u001b[1;33m)\u001b[0m\u001b[1;33m\u001b[0m\u001b[0m\n",
      "\u001b[1;32mC:\\ProgramData\\Anaconda3\\lib\\site-packages\\pandas\\core\\frame.py\u001b[0m in \u001b[0;36m_getitem_array\u001b[1;34m(self, key)\u001b[0m\n\u001b[0;32m   2175\u001b[0m             \u001b[1;32mreturn\u001b[0m \u001b[0mself\u001b[0m\u001b[1;33m.\u001b[0m\u001b[0m_take\u001b[0m\u001b[1;33m(\u001b[0m\u001b[0mindexer\u001b[0m\u001b[1;33m,\u001b[0m \u001b[0maxis\u001b[0m\u001b[1;33m=\u001b[0m\u001b[1;36m0\u001b[0m\u001b[1;33m,\u001b[0m \u001b[0mconvert\u001b[0m\u001b[1;33m=\u001b[0m\u001b[1;32mFalse\u001b[0m\u001b[1;33m)\u001b[0m\u001b[1;33m\u001b[0m\u001b[0m\n\u001b[0;32m   2176\u001b[0m         \u001b[1;32melse\u001b[0m\u001b[1;33m:\u001b[0m\u001b[1;33m\u001b[0m\u001b[0m\n\u001b[1;32m-> 2177\u001b[1;33m             \u001b[0mindexer\u001b[0m \u001b[1;33m=\u001b[0m \u001b[0mself\u001b[0m\u001b[1;33m.\u001b[0m\u001b[0mloc\u001b[0m\u001b[1;33m.\u001b[0m\u001b[0m_convert_to_indexer\u001b[0m\u001b[1;33m(\u001b[0m\u001b[0mkey\u001b[0m\u001b[1;33m,\u001b[0m \u001b[0maxis\u001b[0m\u001b[1;33m=\u001b[0m\u001b[1;36m1\u001b[0m\u001b[1;33m)\u001b[0m\u001b[1;33m\u001b[0m\u001b[0m\n\u001b[0m\u001b[0;32m   2178\u001b[0m             \u001b[1;32mreturn\u001b[0m \u001b[0mself\u001b[0m\u001b[1;33m.\u001b[0m\u001b[0m_take\u001b[0m\u001b[1;33m(\u001b[0m\u001b[0mindexer\u001b[0m\u001b[1;33m,\u001b[0m \u001b[0maxis\u001b[0m\u001b[1;33m=\u001b[0m\u001b[1;36m1\u001b[0m\u001b[1;33m,\u001b[0m \u001b[0mconvert\u001b[0m\u001b[1;33m=\u001b[0m\u001b[1;32mTrue\u001b[0m\u001b[1;33m)\u001b[0m\u001b[1;33m\u001b[0m\u001b[0m\n\u001b[0;32m   2179\u001b[0m \u001b[1;33m\u001b[0m\u001b[0m\n",
      "\u001b[1;32mC:\\ProgramData\\Anaconda3\\lib\\site-packages\\pandas\\core\\indexing.py\u001b[0m in \u001b[0;36m_convert_to_indexer\u001b[1;34m(self, obj, axis, is_setter)\u001b[0m\n\u001b[0;32m   1267\u001b[0m                 \u001b[1;32mif\u001b[0m \u001b[0mmask\u001b[0m\u001b[1;33m.\u001b[0m\u001b[0many\u001b[0m\u001b[1;33m(\u001b[0m\u001b[1;33m)\u001b[0m\u001b[1;33m:\u001b[0m\u001b[1;33m\u001b[0m\u001b[0m\n\u001b[0;32m   1268\u001b[0m                     raise KeyError('{mask} not in index'\n\u001b[1;32m-> 1269\u001b[1;33m                                    .format(mask=objarr[mask]))\n\u001b[0m\u001b[0;32m   1270\u001b[0m \u001b[1;33m\u001b[0m\u001b[0m\n\u001b[0;32m   1271\u001b[0m                 \u001b[1;32mreturn\u001b[0m \u001b[0m_values_from_object\u001b[0m\u001b[1;33m(\u001b[0m\u001b[0mindexer\u001b[0m\u001b[1;33m)\u001b[0m\u001b[1;33m\u001b[0m\u001b[0m\n",
      "\u001b[1;31mKeyError\u001b[0m: \"['sunrise' 'sunset' 'resultdir'] not in index\""
     ]
    }
   ],
   "source": [
    "data = import_data()\n",
    "data_t = fulldf(data)\n",
    "data_t = reorder_df(data_t)\n",
    "data_t  = add_cat_columns(data_t)"
   ]
  },
  {
   "cell_type": "code",
   "execution_count": null,
   "metadata": {},
   "outputs": [],
   "source": [
    "del data_t['sunrise']\n",
    "del data_t['sunset']\n",
    "del data_t['snowfall']\n",
    "data_t = data_t.dropna()"
   ]
  },
  {
   "cell_type": "code",
   "execution_count": null,
   "metadata": {},
   "outputs": [],
   "source": [
    "train0, y_train, y_test = df_sampling(data_t)\n",
    "train = sm.add_constant(train0)"
   ]
  },
  {
   "cell_type": "code",
   "execution_count": null,
   "metadata": {},
   "outputs": [],
   "source": [
    "\n",
    "# X, y = data_t.iloc[:,:-1], data_t.units\n",
    "# X_train, X_testm, y_train, y_test = train_test_split(X, y, test_size = 0.3, random_state = 2018)\n",
    "# train = pd.concat([X_train, y_train] ,axis = 1)\n",
    "# train = train.sort_values(by=['date', 'store_nbr', 'item_nbr']).reset_index(drop= True)"
   ]
  },
  {
   "cell_type": "code",
   "execution_count": null,
   "metadata": {},
   "outputs": [],
   "source": [
    "# X_train['date'] = pd.to_datetime(X_train['date'])\n",
    "# X_train['sunrise'] = pd.to_datetime(X_train['sunrise'], format='%H%M')\n",
    "# X_train['sunset'] = pd.to_datetime(X_train['sunset'], format='%H%M')\n",
    "# X_testm['date'] = pd.to_datetime(X_testm['date'])\n",
    "# X_testm['sunrise'] = pd.to_datetime(X_testm['sunrise'], format='%H%M')\n",
    "# X_testm['sunset'] = pd.to_datetime(X_testm['sunset'], format='%H%M')"
   ]
  },
  {
   "cell_type": "code",
   "execution_count": null,
   "metadata": {},
   "outputs": [],
   "source": [
    "# train['log_units'] = train.units.apply(lambda x: np.log(x + 1))"
   ]
  },
  {
   "cell_type": "code",
   "execution_count": null,
   "metadata": {
    "scrolled": true
   },
   "outputs": [],
   "source": [
    "\n",
    "# train['month'] =train[\"date\"].dt.month\n",
    "# train['weekend'] = False\n",
    "# train.weekend[train['week_day_name'] == 'Sunday'] = True\n",
    "# train.weekend[train['week_day_name'] == 'Saturday'] = True\n",
    "# train.weekend[train['week_day_name'] == 'Friday'] = True\n",
    "# train[\"is_blackfriday\"] = train.date.apply(lambda x : str(x)[:10] in blackfriday).astype(int)"
   ]
  },
  {
   "cell_type": "code",
   "execution_count": null,
   "metadata": {},
   "outputs": [],
   "source": [
    "# blackfriday = [\"2012-11-21\",\"2012-11-22\",\"2012-11-23\", \"2012-11-24\",\"2012-11-25\",\n",
    "#               \"2013-11-27\",\"2013-11-28\", \"2013-11-29\",\"2013-11-30\",\"2013-11-31\",\n",
    "#               \"2014-11-26\", \"2014-11-27\", \"2014-11-28\",\"2014-11-29\",\"2014-11-30\"]"
   ]
  },
  {
   "cell_type": "code",
   "execution_count": null,
   "metadata": {},
   "outputs": [],
   "source": [
    "# train[train > 3.5].preciptotal.hist(bins = 20)"
   ]
  },
  {
   "cell_type": "code",
   "execution_count": null,
   "metadata": {},
   "outputs": [],
   "source": [
    "# train['hardrain'] = [(((4 if i > 8 else 3) if i > 6 else 2) if i > 1 else 1) if i > 0 else 0 for i in train['preciptotal']]\n",
    "# # rain 1 snow 2\n",
    "# # 득정조건열 추가 ()\n",
    "# train['hardsnow'] = [(( 3 if i > 3.5 else 2) if i > 1 else 1) if i > 0 else 0 for i in train['snowfall']]"
   ]
  },
  {
   "cell_type": "code",
   "execution_count": null,
   "metadata": {},
   "outputs": [],
   "source": [
    "# del train['sunrise']\n",
    "# del train['sunset']\n",
    "# del train['snowfall']\n",
    "# train = train.dropna()"
   ]
  },
  {
   "cell_type": "code",
   "execution_count": null,
   "metadata": {
    "scrolled": true
   },
   "outputs": [],
   "source": [
    "train.dtypes"
   ]
  },
  {
   "cell_type": "code",
   "execution_count": null,
   "metadata": {
    "scrolled": true
   },
   "outputs": [],
   "source": [
    "\n",
    "model_OLS = sm.OLS.from_formula(\"log_units ~  C(store_nbr) + C(item_nbr) + scale(depart) + scale(dewpoint) + scale(preciptotal) + C(weekend) + C(is_blackfriday) + 0\" , data = train)\n",
    "results_OLS = model_OLS.fit()\n",
    "print(results_OLS.summary())"
   ]
  },
  {
   "cell_type": "code",
   "execution_count": null,
   "metadata": {},
   "outputs": [],
   "source": [
    "sns.jointplot(results_OLS.fittedvalues, y)\n",
    "plt.show()"
   ]
  },
  {
   "cell_type": "code",
   "execution_count": null,
   "metadata": {
    "scrolled": true
   },
   "outputs": [],
   "source": [
    "results_OLS.predict(train)"
   ]
  },
  {
   "cell_type": "code",
   "execution_count": null,
   "metadata": {},
   "outputs": [],
   "source": [
    "resi = (y_test) - np.exp(results_OLS.predict(train))"
   ]
  },
  {
   "cell_type": "code",
   "execution_count": null,
   "metadata": {},
   "outputs": [],
   "source": [
    "model_GLSAR = sm.GLSAR.from_formula(\" log_units ~  C(store_nbr) + C(item_nbr)  + scale(dewpoint) + scale(preciptotal) + C(weekend) + C(is_blackfriday) + 0\" , data = train, rho=1)\n",
    "results_GLSAR = model_GLSAR.fit()\n",
    "print(results_GLSAR.summary())"
   ]
  },
  {
   "cell_type": "code",
   "execution_count": null,
   "metadata": {},
   "outputs": [],
   "source": [
    "plt.figure(figsize= (12, 8))\n",
    "plt.scatter(   ,results_GLSAR.resid)\n"
   ]
  },
  {
   "cell_type": "code",
   "execution_count": null,
   "metadata": {},
   "outputs": [],
   "source": [
    "ax1 = plt.subplot(211); sm.graphics.tsa.plot_acf(results_GLSAR.resid, ax=ax1)\n",
    "plt.xlim(0,5)\n",
    "ax2 = plt.subplot(212); sm.graphics.tsa.plot_pacf(results_GLSAR.resid, ax=ax2)\n",
    "plt.xlim(0,5)\n",
    "plt.tight_layout()\n",
    "plt.show() "
   ]
  },
  {
   "cell_type": "code",
   "execution_count": null,
   "metadata": {},
   "outputs": [],
   "source": []
  },
  {
   "cell_type": "code",
   "execution_count": null,
   "metadata": {},
   "outputs": [],
   "source": [
    "model_GLSAR = sm.GLSAR.from_formula(\"I(np.log((units +1))) ~  C(store_nbr) + C(item_nbr) + scale(depart) + scale(dewpoint) + scale(preciptotal) + C(SN) + C(FG2) + C(weekend) + C(month) + C(year) + C(is_blackfriday) + C(hardsnow) + C(hardrain)\" , data = cont_df, rho=1)\n",
    "results_GLSAR = model_GLSAR.fit()\n",
    "print(results_GLSAR.summary())"
   ]
  },
  {
   "cell_type": "code",
   "execution_count": null,
   "metadata": {},
   "outputs": [],
   "source": []
  }
 ],
 "metadata": {
  "kernelspec": {
   "display_name": "Python 3",
   "language": "python",
   "name": "python3"
  },
  "language_info": {
   "codemirror_mode": {
    "name": "ipython",
    "version": 3
   },
   "file_extension": ".py",
   "mimetype": "text/x-python",
   "name": "python",
   "nbconvert_exporter": "python",
   "pygments_lexer": "ipython3",
   "version": "3.6.4"
  }
 },
 "nbformat": 4,
 "nbformat_minor": 2
}
