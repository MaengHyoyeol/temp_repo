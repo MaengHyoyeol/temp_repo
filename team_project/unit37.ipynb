{
 "cells": [
  {
   "cell_type": "code",
   "execution_count": 1,
   "metadata": {},
   "outputs": [],
   "source": [
    "import csv\n",
    "import pickle\n",
    "import datetime"
   ]
  },
  {
   "cell_type": "code",
   "execution_count": 2,
   "metadata": {},
   "outputs": [],
   "source": [
    "%matplotlib inline\n",
    "%config InlineBackend.figure_formats = {'png','retina'}"
   ]
  },
  {
   "cell_type": "code",
   "execution_count": 3,
   "metadata": {},
   "outputs": [
    {
     "name": "stderr",
     "output_type": "stream",
     "text": [
      "C:\\ProgramData\\Anaconda3\\lib\\site-packages\\IPython\\core\\interactiveshell.py:2728: DtypeWarning: Columns (6,7,8,10,12,13,14,15,18,20,21,22) have mixed types. Specify dtype option on import or set low_memory=False.\n",
      "  interactivity=interactivity, compiler=compiler, result=result)\n"
     ]
    }
   ],
   "source": [
    "data = pd.read_csv('data/data.csv')\n",
    "data=data.iloc[:,1:]"
   ]
  },
  {
   "cell_type": "code",
   "execution_count": 4,
   "metadata": {},
   "outputs": [],
   "source": [
    "new_order =  ['date', 'store_nbr', 'item_nbr', 'station_nbr', 'tmax', 'tmin',\n",
    "       'tavg', 'depart', 'dewpoint', 'wetbulb', 'heat', 'cool', 'sunrise',\n",
    "       'sunset', 'snowfall', 'preciptotal', 'stnpressure', 'sealevel',\n",
    "       'avgspeed', 'resultspeed', 'resultdir', 'TS', 'GR', 'RA', 'DZ', 'SN',\n",
    "       'SG', 'GS', 'PL', 'FG+', 'FG', 'BR', 'UP', 'HZ', 'FU', 'DU', 'SQ', 'FZ',\n",
    "       'MI', 'PR', 'BC', 'BL', 'VC' , 'units' ]"
   ]
  },
  {
   "cell_type": "code",
   "execution_count": 5,
   "metadata": {},
   "outputs": [],
   "source": [
    "data = data[new_order]"
   ]
  },
  {
   "cell_type": "code",
   "execution_count": 6,
   "metadata": {},
   "outputs": [],
   "source": [
    "from sklearn.model_selection import train_test_split\n",
    "X, y = data.iloc[:,:-1], data.units\n",
    "X_train, X_testm, y_train, y_test = train_test_split(X, y, test_size = 0.3, random_state = 0)"
   ]
  },
  {
   "cell_type": "code",
   "execution_count": 7,
   "metadata": {},
   "outputs": [],
   "source": [
    "def fulldf(df):\n",
    "    \n",
    "    df.snowfall = df.snowfall.replace([\"T\",\"  T\"],0.05)\n",
    "    df.preciptotal = df.preciptotal.replace([\"T\",\"  T\"],0.005)\n",
    "    df.depart = pd.to_numeric(df.depart, errors='coerce')\n",
    "    \n",
    "    df = type_change_numeric(df,[ 'store_nbr', 'item_nbr', 'units', 'station_nbr', 'tmax', 'tmin',\n",
    "       'tavg', 'depart', 'dewpoint', 'wetbulb', 'heat', 'cool', 'snowfall', 'preciptotal', 'stnpressure', 'sealevel',\n",
    "       'avgspeed', 'resultspeed', 'resultdir' ])\n",
    "    df['date'] = pd.to_datetime(df['date'])\n",
    "    df[\"week_day_name\"] = df['date'].dt.weekday_name\n",
    "    df[\"day_of_year\"] = df['date'].dt.dayofyear\n",
    "    df[\"year\"] = df['date'].dt.year\n",
    "    \n",
    "    \n",
    "    \n",
    "    for idx in range(5, 8):\n",
    "        df.iloc[:,idx].fillna(df.groupby([\"day_of_year\",\"store_nbr\"])[df.columns[idx]].\\\n",
    "                              transform('mean'), inplace=True)\n",
    "\n",
    "    for idx in range(16, 23):\n",
    "        df.iloc[:,idx].fillna(df.groupby([\"day_of_year\",\"store_nbr\"])[df.columns[idx]].\\\n",
    "                              transform('mean'), inplace=True)\n",
    "    add_depart1(df)\n",
    "    \n",
    "    return df\n",
    "\n",
    "# for column in item37.columns:\n",
    "#     item37[column].interpolate()\n"
   ]
  },
  {
   "cell_type": "code",
   "execution_count": 8,
   "metadata": {},
   "outputs": [],
   "source": [
    "def itemdf(df, nbr):\n",
    "    item_nbr = df[df.item_nbr == nbr]\n",
    "    for idx in range(5, 8):\n",
    "        item_nbr.iloc[:,idx].fillna(item_nbr.groupby([\"day_of_year\",\"store_nbr\"])[item_nbr.columns[idx]].\\\n",
    "                          transform('mean'), inplace=True)\n",
    "    \n",
    "    for idx in range(16, 23):\n",
    "        item_nbr.iloc[:,idx].fillna(item_nbr.groupby([\"day_of_year\",\"store_nbr\"])[item_nbr.columns[idx]].\\\n",
    "                          transform('mean'), inplace=True)\n",
    "    add_depart1(item_nbr)\n",
    "    \n",
    "    return item_nbr\n",
    "    "
   ]
  },
  {
   "cell_type": "code",
   "execution_count": 9,
   "metadata": {
    "scrolled": true
   },
   "outputs": [],
   "source": [
    "def type_change_numeric(df, ls = []): \n",
    "    #ls에 있는 column name은 numeric형으로 바꾸지 않는다.\n",
    "    cols = df.columns\n",
    "    for i in cols:\n",
    "        if i in ls:\n",
    "            #df = df.replace([\"M\",None], '')\n",
    "            df.snowfall = df.snowfall.replace([\"T\",\"  T\"],0.05)\n",
    "            df.preciptotal = df.preciptotal.replace([\"T\",\"  T\"],0.005)\n",
    "            df[i] = pd.to_numeric(df[i], errors='coerce')\n",
    "        \n",
    "    return df\n",
    "\n",
    "#예시\n",
    "\n",
    "# data = type_change_numeric(data,[ 'store_nbr', 'item_nbr', 'units', 'station_nbr', 'tmax', 'tmin',\n",
    "#        'tavg', 'depart', 'dewpoint', 'wetbulb', 'heat', 'cool', 'snowfall', 'preciptotal', 'stnpressure', 'sealevel',\n",
    "#        'avgspeed', 'resultspeed', 'resultdir' ])"
   ]
  },
  {
   "cell_type": "code",
   "execution_count": 14,
   "metadata": {},
   "outputs": [],
   "source": [
    "def add_depart1(x):\n",
    "    x.depart.fillna(x.tavg - x.groupby([\"day_of_year\",\"store_nbr\"])[\"tavg\"].transform('mean'),inplace = True)\n",
    "    x.depart = x.depart.round(2)\n",
    "    return x.sort_values([\"store_nbr\",\"date\",\"item_nbr\"])"
   ]
  },
  {
   "cell_type": "code",
   "execution_count": 10,
   "metadata": {},
   "outputs": [],
   "source": [
    "train = pd.concat([X_train, y_train] ,axis = 1)"
   ]
  },
  {
   "cell_type": "code",
   "execution_count": 11,
   "metadata": {
    "scrolled": true
   },
   "outputs": [
    {
     "data": {
      "text/html": [
       "<div>\n",
       "<style scoped>\n",
       "    .dataframe tbody tr th:only-of-type {\n",
       "        vertical-align: middle;\n",
       "    }\n",
       "\n",
       "    .dataframe tbody tr th {\n",
       "        vertical-align: top;\n",
       "    }\n",
       "\n",
       "    .dataframe thead th {\n",
       "        text-align: right;\n",
       "    }\n",
       "</style>\n",
       "<table border=\"1\" class=\"dataframe\">\n",
       "  <thead>\n",
       "    <tr style=\"text-align: right;\">\n",
       "      <th></th>\n",
       "      <th>date</th>\n",
       "      <th>store_nbr</th>\n",
       "      <th>item_nbr</th>\n",
       "      <th>station_nbr</th>\n",
       "      <th>tmax</th>\n",
       "      <th>tmin</th>\n",
       "      <th>tavg</th>\n",
       "      <th>depart</th>\n",
       "      <th>dewpoint</th>\n",
       "      <th>wetbulb</th>\n",
       "      <th>...</th>\n",
       "      <th>FU</th>\n",
       "      <th>DU</th>\n",
       "      <th>SQ</th>\n",
       "      <th>FZ</th>\n",
       "      <th>MI</th>\n",
       "      <th>PR</th>\n",
       "      <th>BC</th>\n",
       "      <th>BL</th>\n",
       "      <th>VC</th>\n",
       "      <th>units</th>\n",
       "    </tr>\n",
       "  </thead>\n",
       "  <tbody>\n",
       "    <tr>\n",
       "      <th>258351</th>\n",
       "      <td>2012-03-11</td>\n",
       "      <td>39</td>\n",
       "      <td>36</td>\n",
       "      <td>8</td>\n",
       "      <td>70</td>\n",
       "      <td>55</td>\n",
       "      <td>M</td>\n",
       "      <td>M</td>\n",
       "      <td>48</td>\n",
       "      <td>53</td>\n",
       "      <td>...</td>\n",
       "      <td>False</td>\n",
       "      <td>False</td>\n",
       "      <td>False</td>\n",
       "      <td>False</td>\n",
       "      <td>False</td>\n",
       "      <td>False</td>\n",
       "      <td>False</td>\n",
       "      <td>False</td>\n",
       "      <td>False</td>\n",
       "      <td>14.0</td>\n",
       "    </tr>\n",
       "    <tr>\n",
       "      <th>96002</th>\n",
       "      <td>2014-10-05</td>\n",
       "      <td>8</td>\n",
       "      <td>59</td>\n",
       "      <td>4</td>\n",
       "      <td>87</td>\n",
       "      <td>62</td>\n",
       "      <td>75</td>\n",
       "      <td>1</td>\n",
       "      <td>62</td>\n",
       "      <td>66</td>\n",
       "      <td>...</td>\n",
       "      <td>False</td>\n",
       "      <td>False</td>\n",
       "      <td>False</td>\n",
       "      <td>False</td>\n",
       "      <td>False</td>\n",
       "      <td>False</td>\n",
       "      <td>False</td>\n",
       "      <td>False</td>\n",
       "      <td>False</td>\n",
       "      <td>1.0</td>\n",
       "    </tr>\n",
       "    <tr>\n",
       "      <th>217631</th>\n",
       "      <td>2013-10-02</td>\n",
       "      <td>17</td>\n",
       "      <td>71</td>\n",
       "      <td>20</td>\n",
       "      <td>89</td>\n",
       "      <td>74</td>\n",
       "      <td>82</td>\n",
       "      <td>M</td>\n",
       "      <td>69</td>\n",
       "      <td>72</td>\n",
       "      <td>...</td>\n",
       "      <td>False</td>\n",
       "      <td>False</td>\n",
       "      <td>False</td>\n",
       "      <td>False</td>\n",
       "      <td>False</td>\n",
       "      <td>False</td>\n",
       "      <td>False</td>\n",
       "      <td>False</td>\n",
       "      <td>False</td>\n",
       "      <td>0.0</td>\n",
       "    </tr>\n",
       "    <tr>\n",
       "      <th>12167</th>\n",
       "      <td>2012-08-04</td>\n",
       "      <td>6</td>\n",
       "      <td>45</td>\n",
       "      <td>14</td>\n",
       "      <td>109</td>\n",
       "      <td>80</td>\n",
       "      <td>95</td>\n",
       "      <td>12</td>\n",
       "      <td>60</td>\n",
       "      <td>72</td>\n",
       "      <td>...</td>\n",
       "      <td>False</td>\n",
       "      <td>False</td>\n",
       "      <td>False</td>\n",
       "      <td>False</td>\n",
       "      <td>False</td>\n",
       "      <td>False</td>\n",
       "      <td>False</td>\n",
       "      <td>False</td>\n",
       "      <td>False</td>\n",
       "      <td>66.0</td>\n",
       "    </tr>\n",
       "    <tr>\n",
       "      <th>203388</th>\n",
       "      <td>2014-07-29</td>\n",
       "      <td>25</td>\n",
       "      <td>9</td>\n",
       "      <td>13</td>\n",
       "      <td>81</td>\n",
       "      <td>57</td>\n",
       "      <td>69</td>\n",
       "      <td>M</td>\n",
       "      <td>55</td>\n",
       "      <td>59</td>\n",
       "      <td>...</td>\n",
       "      <td>False</td>\n",
       "      <td>False</td>\n",
       "      <td>False</td>\n",
       "      <td>False</td>\n",
       "      <td>False</td>\n",
       "      <td>False</td>\n",
       "      <td>False</td>\n",
       "      <td>False</td>\n",
       "      <td>False</td>\n",
       "      <td>0.0</td>\n",
       "    </tr>\n",
       "  </tbody>\n",
       "</table>\n",
       "<p>5 rows × 44 columns</p>\n",
       "</div>"
      ],
      "text/plain": [
       "              date  store_nbr  item_nbr  station_nbr tmax tmin tavg depart  \\\n",
       "258351  2012-03-11         39        36            8   70   55    M      M   \n",
       "96002   2014-10-05          8        59            4   87   62   75      1   \n",
       "217631  2013-10-02         17        71           20   89   74   82      M   \n",
       "12167   2012-08-04          6        45           14  109   80   95     12   \n",
       "203388  2014-07-29         25         9           13   81   57   69      M   \n",
       "\n",
       "       dewpoint wetbulb  ...      FU     DU     SQ     FZ     MI     PR  \\\n",
       "258351       48      53  ...   False  False  False  False  False  False   \n",
       "96002        62      66  ...   False  False  False  False  False  False   \n",
       "217631       69      72  ...   False  False  False  False  False  False   \n",
       "12167        60      72  ...   False  False  False  False  False  False   \n",
       "203388       55      59  ...   False  False  False  False  False  False   \n",
       "\n",
       "           BC     BL     VC units  \n",
       "258351  False  False  False  14.0  \n",
       "96002   False  False  False   1.0  \n",
       "217631  False  False  False   0.0  \n",
       "12167   False  False  False  66.0  \n",
       "203388  False  False  False   0.0  \n",
       "\n",
       "[5 rows x 44 columns]"
      ]
     },
     "execution_count": 11,
     "metadata": {},
     "output_type": "execute_result"
    }
   ],
   "source": [
    "train.head()"
   ]
  },
  {
   "cell_type": "code",
   "execution_count": 12,
   "metadata": {},
   "outputs": [],
   "source": [
    "train = train.sort_values(by=['date', 'store_nbr', 'item_nbr']).reset_index(drop= True)"
   ]
  },
  {
   "cell_type": "code",
   "execution_count": 15,
   "metadata": {
    "scrolled": false
   },
   "outputs": [],
   "source": [
    "df = fulldf(train)"
   ]
  },
  {
   "cell_type": "code",
   "execution_count": 16,
   "metadata": {
    "scrolled": true
   },
   "outputs": [],
   "source": [
    "item37 = df[df.item_nbr == 37]\n"
   ]
  },
  {
   "cell_type": "code",
   "execution_count": 17,
   "metadata": {},
   "outputs": [],
   "source": [
    "item37 = item37.sort_values(by=['date', 'store_nbr', 'item_nbr']).reset_index(drop= True)"
   ]
  },
  {
   "cell_type": "code",
   "execution_count": 18,
   "metadata": {},
   "outputs": [],
   "source": [
    "item37.tmax.fillna(item37.groupby([\"day_of_year\",\"store_nbr\"])['tmax'].transform('mean'), inplace=True) "
   ]
  },
  {
   "cell_type": "code",
   "execution_count": 19,
   "metadata": {},
   "outputs": [],
   "source": [
    "item37 = item37[item37.tmax.isnull() == False]\n",
    "item37 = item37[item37.tmin.isnull() == False]\n",
    "item37 = item37[item37.dewpoint.isnull() == False]\n",
    "item37 = item37[item37.wetbulb.isnull() == False]\n",
    "item37 = item37[item37.preciptotal.isnull() == False]"
   ]
  },
  {
   "cell_type": "code",
   "execution_count": 20,
   "metadata": {
    "scrolled": true
   },
   "outputs": [
    {
     "data": {
      "text/plain": [
       "date             False\n",
       "store_nbr        False\n",
       "item_nbr         False\n",
       "station_nbr      False\n",
       "tmax             False\n",
       "tmin             False\n",
       "tavg             False\n",
       "depart           False\n",
       "dewpoint         False\n",
       "wetbulb          False\n",
       "heat              True\n",
       "cool              True\n",
       "sunrise           True\n",
       "sunset            True\n",
       "snowfall          True\n",
       "preciptotal      False\n",
       "stnpressure      False\n",
       "sealevel         False\n",
       "avgspeed         False\n",
       "resultspeed      False\n",
       "resultdir        False\n",
       "TS               False\n",
       "GR               False\n",
       "RA               False\n",
       "DZ               False\n",
       "SN               False\n",
       "SG               False\n",
       "GS               False\n",
       "PL               False\n",
       "FG+              False\n",
       "FG               False\n",
       "BR               False\n",
       "UP               False\n",
       "HZ               False\n",
       "FU               False\n",
       "DU               False\n",
       "SQ               False\n",
       "FZ               False\n",
       "MI               False\n",
       "PR               False\n",
       "BC               False\n",
       "BL               False\n",
       "VC               False\n",
       "units            False\n",
       "week_day_name    False\n",
       "day_of_year      False\n",
       "year             False\n",
       "dtype: bool"
      ]
     },
     "execution_count": 20,
     "metadata": {},
     "output_type": "execute_result"
    }
   ],
   "source": [
    "item37.isnull().any()"
   ]
  },
  {
   "cell_type": "code",
   "execution_count": null,
   "metadata": {},
   "outputs": [],
   "source": [
    "data.snowfall = data.snowfall.replace([\"T\",\"  T\"],0.05)\n",
    "data.preciptotal = data.preciptotal.replace([\"T\",\"  T\"],0.005)\n",
    "data.depart = pd.to_numeric(data.depart, errors='coerce')\n",
    "\n"
   ]
  },
  {
   "cell_type": "code",
   "execution_count": null,
   "metadata": {},
   "outputs": [],
   "source": [
    "data['date'] = pd.to_datetime(data['date'])\n",
    "#data['sunrise'] = pd.to_datetime(data['sunrise'], format='%H%M' , errors='coerce')\n",
    "#data['sunset'] = pd.to_datetime(data['sunset'], format='%H%M' , errors='coerce')\n",
    "#X_testm['date'] = pd.to_datetime(X_testm['date'] , errors='coerce')\n",
    "#X_testm['sunrise'] = pd.to_datetime(X_testm['sunrise'], format='%H%M' , errors='coerce')\n",
    "#X_testm['sunset'] = pd.to_datetime(X_testm['sunset'], format='%H%M' , errors='coerce')"
   ]
  },
  {
   "cell_type": "code",
   "execution_count": null,
   "metadata": {
    "scrolled": true
   },
   "outputs": [],
   "source": [
    "data[\"week_day_name\"] = data.date.dt.weekday_name\n",
    "data[\"day_of_year\"] = data.date.dt.dayofyear\n",
    "data[\"year\"] = data.date.dt.year"
   ]
  },
  {
   "cell_type": "code",
   "execution_count": null,
   "metadata": {},
   "outputs": [],
   "source": [
    "#data.tmax.fillna(data.groupby([\"day_of_year\",\"store_nbr\"])['tmax'].transform('mean'), inplace=True)\n",
    "data = data.replace([\"M\",None], '')"
   ]
  },
  {
   "cell_type": "code",
   "execution_count": null,
   "metadata": {},
   "outputs": [],
   "source": [
    "for idx in range(5, 8):\n",
    "    item37.iloc[:,idx].fillna(item37.groupby([\"day_of_year\",\"store_nbr\"])[item37.columns[idx]].\\\n",
    "                              transform('mean'), inplace=True)"
   ]
  },
  {
   "cell_type": "code",
   "execution_count": null,
   "metadata": {},
   "outputs": [],
   "source": [
    "for idx in range(16, 23):\n",
    "    item37.iloc[:,idx].fillna(item37.groupby([\"day_of_year\",\"store_nbr\"])[item37.columns[idx]].\\\n",
    "                              transform('mean'), inplace=True)"
   ]
  },
  {
   "cell_type": "code",
   "execution_count": 21,
   "metadata": {},
   "outputs": [
    {
     "name": "stderr",
     "output_type": "stream",
     "text": [
      "C:\\ProgramData\\Anaconda3\\lib\\site-packages\\ipykernel_launcher.py:2: SettingWithCopyWarning: \n",
      "A value is trying to be set on a copy of a slice from a DataFrame\n",
      "\n",
      "See the caveats in the documentation: http://pandas.pydata.org/pandas-docs/stable/indexing.html#indexing-view-versus-copy\n",
      "  \n",
      "C:\\ProgramData\\Anaconda3\\lib\\site-packages\\ipykernel_launcher.py:3: SettingWithCopyWarning: \n",
      "A value is trying to be set on a copy of a slice from a DataFrame\n",
      "\n",
      "See the caveats in the documentation: http://pandas.pydata.org/pandas-docs/stable/indexing.html#indexing-view-versus-copy\n",
      "  This is separate from the ipykernel package so we can avoid doing imports until\n",
      "C:\\ProgramData\\Anaconda3\\lib\\site-packages\\ipykernel_launcher.py:4: SettingWithCopyWarning: \n",
      "A value is trying to be set on a copy of a slice from a DataFrame\n",
      "\n",
      "See the caveats in the documentation: http://pandas.pydata.org/pandas-docs/stable/indexing.html#indexing-view-versus-copy\n",
      "  after removing the cwd from sys.path.\n"
     ]
    }
   ],
   "source": [
    "item37['weekend'] = False\n",
    "item37.weekend[item37['week_day_name'] == 'Sunday'] = True\n",
    "item37.weekend[item37['week_day_name'] == 'Saturday'] = True\n",
    "item37.weekend[item37['week_day_name'] == 'Friday'] = True"
   ]
  },
  {
   "cell_type": "code",
   "execution_count": null,
   "metadata": {
    "scrolled": true
   },
   "outputs": [],
   "source": [
    "item37['reldate'] = 0\n",
    "item37.reldate[ item37.date.dt.year == 2012] = item37.date.dt.dayofyear\n",
    "item37.reldate[ item37.date.dt.year != 2012] = item37.date.dt.dayofyear + (item37.date.dt.year- 2012)*365 + 1"
   ]
  },
  {
   "cell_type": "code",
   "execution_count": null,
   "metadata": {},
   "outputs": [],
   "source": [
    "item37.isnull().any()"
   ]
  },
  {
   "cell_type": "code",
   "execution_count": null,
   "metadata": {
    "scrolled": true
   },
   "outputs": [],
   "source": [
    "item37_df.head()"
   ]
  },
  {
   "cell_type": "code",
   "execution_count": 23,
   "metadata": {
    "scrolled": true
   },
   "outputs": [
    {
     "data": {
      "text/plain": [
       "Index(['date', 'store_nbr', 'item_nbr', 'station_nbr', 'tmax', 'tmin', 'tavg',\n",
       "       'depart', 'dewpoint', 'wetbulb', 'heat', 'cool', 'sunrise', 'sunset',\n",
       "       'snowfall', 'preciptotal', 'stnpressure', 'sealevel', 'avgspeed',\n",
       "       'resultspeed', 'resultdir', 'TS', 'GR', 'RA', 'DZ', 'SN', 'SG', 'GS',\n",
       "       'PL', 'FG+', 'FG', 'BR', 'UP', 'HZ', 'FU', 'DU', 'SQ', 'FZ', 'MI', 'PR',\n",
       "       'BC', 'BL', 'VC', 'units', 'week_day_name', 'day_of_year', 'year',\n",
       "       'weekend'],\n",
       "      dtype='object')"
      ]
     },
     "execution_count": 23,
     "metadata": {},
     "output_type": "execute_result"
    }
   ],
   "source": [
    "item37.columns"
   ]
  },
  {
   "cell_type": "code",
   "execution_count": 24,
   "metadata": {},
   "outputs": [],
   "source": [
    "item37.columns =['date', 'store_nbr', 'item_nbr', 'station_nbr', 'tmax', 'tmin', 'tavg',\n",
    "       'depart', 'dewpoint', 'wetbulb', 'heat', 'cool', 'sunrise', 'sunset',\n",
    "       'snowfall', 'preciptotal', 'stnpressure', 'sealevel', 'avgspeed',\n",
    "       'resultspeed', 'resultdir', 'TS', 'GR', 'RA', 'DZ', 'SN', 'SG', 'GS',\n",
    "       'PL', 'FG2', 'FG', 'BR', 'UP', 'HZ', 'FU', 'DU', 'SQ', 'FZ', 'MI', 'PR',\n",
    "       'BC', 'BL', 'VC', 'units', 'week_day_name', 'day_of_year', 'year',\n",
    "       'weekend']"
   ]
  },
  {
   "cell_type": "markdown",
   "metadata": {},
   "source": [
    "#### OLS"
   ]
  },
  {
   "cell_type": "code",
   "execution_count": 26,
   "metadata": {},
   "outputs": [
    {
     "ename": "NameError",
     "evalue": "name 'item37_df' is not defined",
     "output_type": "error",
     "traceback": [
      "\u001b[1;31m---------------------------------------------------------------------------\u001b[0m",
      "\u001b[1;31mNameError\u001b[0m                                 Traceback (most recent call last)",
      "\u001b[1;32m<ipython-input-26-c92e9878a35f>\u001b[0m in \u001b[0;36m<module>\u001b[1;34m()\u001b[0m\n\u001b[1;32m----> 1\u001b[1;33m \u001b[0mmodel\u001b[0m \u001b[1;33m=\u001b[0m \u001b[0msm\u001b[0m\u001b[1;33m.\u001b[0m\u001b[0mOLS\u001b[0m\u001b[1;33m.\u001b[0m\u001b[0mfrom_formula\u001b[0m\u001b[1;33m(\u001b[0m\u001b[1;34m\"units ~  C(store_nbr) + tmax + tmin + tavg + depart + dewpoint + wetbulb + snowfall + preciptotal + stnpressure + sealevel + avgspeed + resultspeed + resultdir + C(TS) + C(GR) + C(RA) + C(DZ) + C(SN) + C(SG) + C(GS) + C(PL) + C(FG2) + C(FG) + C(BR) + C(UP) + C(HZ) + C(FU) + C(DU) + C(SQ) + C(FZ) + C(MI) + C(PR) + C(BC) + C(BL) + C(weekend) + 0\"\u001b[0m \u001b[1;33m,\u001b[0m \u001b[0mdata\u001b[0m \u001b[1;33m=\u001b[0m \u001b[0mitem37_df\u001b[0m\u001b[1;33m)\u001b[0m\u001b[1;33m\u001b[0m\u001b[0m\n\u001b[0m\u001b[0;32m      2\u001b[0m \u001b[1;31m#model = sm.OLS.from_formula(\"units ~  date + store_nbr + tmax  + tavg + depart + dewpoint + wetbulb + snowfall + preciptotal + stnpressure + sealevel + avgspeed + resultspeed + resultdir + C(TS) + C(GR) + C(RA) + C(DZ) + C(SN) + C(SG) + C(GS) + C(PL) + C(FG2) + C(FG) + C(BR) + C(UP) + C(HZ) + C(FU) + C(DU) + C(SQ) + C(FZ) + C(MI) + C(PR) + C(BC) + C(BL) + C(weekend) + 0\" , data = item37_df)\u001b[0m\u001b[1;33m\u001b[0m\u001b[1;33m\u001b[0m\u001b[0m\n\u001b[0;32m      3\u001b[0m \u001b[1;33m\u001b[0m\u001b[0m\n\u001b[0;32m      4\u001b[0m \u001b[0mresult1\u001b[0m \u001b[1;33m=\u001b[0m \u001b[0mmodel\u001b[0m\u001b[1;33m.\u001b[0m\u001b[0mfit\u001b[0m\u001b[1;33m(\u001b[0m\u001b[1;33m)\u001b[0m\u001b[1;33m\u001b[0m\u001b[0m\n",
      "\u001b[1;31mNameError\u001b[0m: name 'item37_df' is not defined"
     ]
    }
   ],
   "source": [
    "model = sm.OLS.from_formula(\"units ~  C(store_nbr) + tmax + tmin + tavg + depart + dewpoint + wetbulb + snowfall + preciptotal + stnpressure + sealevel + avgspeed + resultspeed + resultdir + C(TS) + C(GR) + C(RA) + C(DZ) + C(SN) + C(SG) + C(GS) + C(PL) + C(FG2) + C(FG) + C(BR) + C(UP) + C(HZ) + C(FU) + C(DU) + C(SQ) + C(FZ) + C(MI) + C(PR) + C(BC) + C(BL) + C(weekend) + 0\" , data = item37)\n",
    "#model = sm.OLS.from_formula(\"units ~  date + store_nbr + tmax  + tavg + depart + dewpoint + wetbulb + snowfall + preciptotal + stnpressure + sealevel + avgspeed + resultspeed + resultdir + C(TS) + C(GR) + C(RA) + C(DZ) + C(SN) + C(SG) + C(GS) + C(PL) + C(FG2) + C(FG) + C(BR) + C(UP) + C(HZ) + C(FU) + C(DU) + C(SQ) + C(FZ) + C(MI) + C(PR) + C(BC) + C(BL) + C(weekend) + 0\" , data = item37_df)\n",
    "\n",
    "result1 = model.fit()\n"
   ]
  },
  {
   "cell_type": "code",
   "execution_count": 30,
   "metadata": {},
   "outputs": [],
   "source": [
    "item37['logunits'] = item37.units.apply(lambda X: np.log(X) + 1)"
   ]
  },
  {
   "cell_type": "code",
   "execution_count": 32,
   "metadata": {},
   "outputs": [
    {
     "data": {
      "text/html": [
       "<div>\n",
       "<style scoped>\n",
       "    .dataframe tbody tr th:only-of-type {\n",
       "        vertical-align: middle;\n",
       "    }\n",
       "\n",
       "    .dataframe tbody tr th {\n",
       "        vertical-align: top;\n",
       "    }\n",
       "\n",
       "    .dataframe thead th {\n",
       "        text-align: right;\n",
       "    }\n",
       "</style>\n",
       "<table border=\"1\" class=\"dataframe\">\n",
       "  <thead>\n",
       "    <tr style=\"text-align: right;\">\n",
       "      <th></th>\n",
       "      <th>date</th>\n",
       "      <th>store_nbr</th>\n",
       "      <th>item_nbr</th>\n",
       "      <th>station_nbr</th>\n",
       "      <th>tmax</th>\n",
       "      <th>tmin</th>\n",
       "      <th>tavg</th>\n",
       "      <th>depart</th>\n",
       "      <th>dewpoint</th>\n",
       "      <th>wetbulb</th>\n",
       "      <th>...</th>\n",
       "      <th>PR</th>\n",
       "      <th>BC</th>\n",
       "      <th>BL</th>\n",
       "      <th>VC</th>\n",
       "      <th>units</th>\n",
       "      <th>week_day_name</th>\n",
       "      <th>day_of_year</th>\n",
       "      <th>year</th>\n",
       "      <th>weekend</th>\n",
       "      <th>logunits</th>\n",
       "    </tr>\n",
       "  </thead>\n",
       "  <tbody>\n",
       "    <tr>\n",
       "      <th>0</th>\n",
       "      <td>2012-01-01</td>\n",
       "      <td>5</td>\n",
       "      <td>37</td>\n",
       "      <td>12</td>\n",
       "      <td>72.0</td>\n",
       "      <td>48.0</td>\n",
       "      <td>60.0</td>\n",
       "      <td>0.00</td>\n",
       "      <td>54.0</td>\n",
       "      <td>57.0</td>\n",
       "      <td>...</td>\n",
       "      <td>False</td>\n",
       "      <td>False</td>\n",
       "      <td>False</td>\n",
       "      <td>False</td>\n",
       "      <td>16.0</td>\n",
       "      <td>Sunday</td>\n",
       "      <td>1</td>\n",
       "      <td>2012</td>\n",
       "      <td>True</td>\n",
       "      <td>3.772589</td>\n",
       "    </tr>\n",
       "    <tr>\n",
       "      <th>1</th>\n",
       "      <td>2012-01-01</td>\n",
       "      <td>10</td>\n",
       "      <td>37</td>\n",
       "      <td>12</td>\n",
       "      <td>72.0</td>\n",
       "      <td>48.0</td>\n",
       "      <td>60.0</td>\n",
       "      <td>-0.29</td>\n",
       "      <td>54.0</td>\n",
       "      <td>57.0</td>\n",
       "      <td>...</td>\n",
       "      <td>False</td>\n",
       "      <td>False</td>\n",
       "      <td>False</td>\n",
       "      <td>False</td>\n",
       "      <td>32.0</td>\n",
       "      <td>Sunday</td>\n",
       "      <td>1</td>\n",
       "      <td>2012</td>\n",
       "      <td>True</td>\n",
       "      <td>4.465736</td>\n",
       "    </tr>\n",
       "    <tr>\n",
       "      <th>2</th>\n",
       "      <td>2012-01-01</td>\n",
       "      <td>12</td>\n",
       "      <td>37</td>\n",
       "      <td>11</td>\n",
       "      <td>72.0</td>\n",
       "      <td>48.0</td>\n",
       "      <td>60.0</td>\n",
       "      <td>7.00</td>\n",
       "      <td>54.0</td>\n",
       "      <td>56.0</td>\n",
       "      <td>...</td>\n",
       "      <td>False</td>\n",
       "      <td>False</td>\n",
       "      <td>False</td>\n",
       "      <td>False</td>\n",
       "      <td>28.0</td>\n",
       "      <td>Sunday</td>\n",
       "      <td>1</td>\n",
       "      <td>2012</td>\n",
       "      <td>True</td>\n",
       "      <td>4.332205</td>\n",
       "    </tr>\n",
       "    <tr>\n",
       "      <th>3</th>\n",
       "      <td>2012-01-01</td>\n",
       "      <td>17</td>\n",
       "      <td>37</td>\n",
       "      <td>20</td>\n",
       "      <td>59.0</td>\n",
       "      <td>41.0</td>\n",
       "      <td>50.0</td>\n",
       "      <td>1.33</td>\n",
       "      <td>28.0</td>\n",
       "      <td>40.0</td>\n",
       "      <td>...</td>\n",
       "      <td>False</td>\n",
       "      <td>False</td>\n",
       "      <td>False</td>\n",
       "      <td>False</td>\n",
       "      <td>85.0</td>\n",
       "      <td>Sunday</td>\n",
       "      <td>1</td>\n",
       "      <td>2012</td>\n",
       "      <td>True</td>\n",
       "      <td>5.442651</td>\n",
       "    </tr>\n",
       "    <tr>\n",
       "      <th>4</th>\n",
       "      <td>2012-01-02</td>\n",
       "      <td>5</td>\n",
       "      <td>37</td>\n",
       "      <td>12</td>\n",
       "      <td>65.0</td>\n",
       "      <td>47.0</td>\n",
       "      <td>56.0</td>\n",
       "      <td>-4.43</td>\n",
       "      <td>33.0</td>\n",
       "      <td>46.0</td>\n",
       "      <td>...</td>\n",
       "      <td>False</td>\n",
       "      <td>False</td>\n",
       "      <td>False</td>\n",
       "      <td>False</td>\n",
       "      <td>29.0</td>\n",
       "      <td>Monday</td>\n",
       "      <td>2</td>\n",
       "      <td>2012</td>\n",
       "      <td>False</td>\n",
       "      <td>4.367296</td>\n",
       "    </tr>\n",
       "  </tbody>\n",
       "</table>\n",
       "<p>5 rows × 49 columns</p>\n",
       "</div>"
      ],
      "text/plain": [
       "        date  store_nbr  item_nbr  station_nbr  tmax  tmin  tavg  depart  \\\n",
       "0 2012-01-01          5        37           12  72.0  48.0  60.0    0.00   \n",
       "1 2012-01-01         10        37           12  72.0  48.0  60.0   -0.29   \n",
       "2 2012-01-01         12        37           11  72.0  48.0  60.0    7.00   \n",
       "3 2012-01-01         17        37           20  59.0  41.0  50.0    1.33   \n",
       "4 2012-01-02          5        37           12  65.0  47.0  56.0   -4.43   \n",
       "\n",
       "   dewpoint  wetbulb    ...        PR     BC     BL     VC  units  \\\n",
       "0      54.0     57.0    ...     False  False  False  False   16.0   \n",
       "1      54.0     57.0    ...     False  False  False  False   32.0   \n",
       "2      54.0     56.0    ...     False  False  False  False   28.0   \n",
       "3      28.0     40.0    ...     False  False  False  False   85.0   \n",
       "4      33.0     46.0    ...     False  False  False  False   29.0   \n",
       "\n",
       "   week_day_name  day_of_year  year  weekend  logunits  \n",
       "0         Sunday            1  2012     True  3.772589  \n",
       "1         Sunday            1  2012     True  4.465736  \n",
       "2         Sunday            1  2012     True  4.332205  \n",
       "3         Sunday            1  2012     True  5.442651  \n",
       "4         Monday            2  2012    False  4.367296  \n",
       "\n",
       "[5 rows x 49 columns]"
      ]
     },
     "execution_count": 32,
     "metadata": {},
     "output_type": "execute_result"
    }
   ],
   "source": [
    "item37.head()"
   ]
  },
  {
   "cell_type": "code",
   "execution_count": null,
   "metadata": {},
   "outputs": [],
   "source": [
    "print(result1.summary())"
   ]
  },
  {
   "cell_type": "code",
   "execution_count": 28,
   "metadata": {},
   "outputs": [],
   "source": [
    "model = sm.OLS.from_formula(\"units ~  C(store_nbr) + scale(tmax) + scale(tmin) + scale(tavg) + scale(depart) + scale(dewpoint) + scale(wetbulb) + scale(preciptotal) + scale(stnpressure) + scale(sealevel) + scale(avgspeed) + scale(resultspeed)   + C(weekend) + 0\" , data = item37)\n",
    "model = sm.OLS.from_formula(\"units ~  date + store_nbr + tmax  + tavg + depart + dewpoint + wetbulb + snowfall + preciptotal + stnpressure + sealevel + avgspeed + resultspeed + resultdir + C(TS) + C(GR) + C(RA) + C(DZ) + C(SN) + C(SG) + C(GS) + C(PL) + C(FG2) + C(FG) + C(BR) + C(UP) + C(HZ) + C(FU) + C(DU) + C(SQ) + C(FZ) + C(MI) + C(PR) + C(BC) + C(BL) + C(weekend) + 0\" , data = item37_df)\n",
    "\n",
    "result1 = model.fit()\n",
    "print(result1.summary())"
   ]
  },
  {
   "cell_type": "code",
   "execution_count": 29,
   "metadata": {},
   "outputs": [
    {
     "name": "stdout",
     "output_type": "stream",
     "text": [
      "                            OLS Regression Results                            \n",
      "==============================================================================\n",
      "Dep. Variable:                  units   R-squared:                       0.613\n",
      "Model:                            OLS   Adj. R-squared:                  0.611\n",
      "Method:                 Least Squares   F-statistic:                     391.4\n",
      "Date:                Wed, 04 Jul 2018   Prob (F-statistic):               0.00\n",
      "Time:                        02:30:22   Log-Likelihood:                -16958.\n",
      "No. Observations:                4223   AIC:                         3.395e+04\n",
      "Df Residuals:                    4205   BIC:                         3.407e+04\n",
      "Df Model:                          17                                         \n",
      "Covariance Type:            nonrobust                                         \n",
      "======================================================================================\n",
      "                         coef    std err          t      P>|t|      [0.025      0.975]\n",
      "--------------------------------------------------------------------------------------\n",
      "C(store_nbr)[5]        9.6262      2.515      3.827      0.000       4.695      14.558\n",
      "C(store_nbr)[10]      13.7370      2.514      5.464      0.000       8.808      18.666\n",
      "C(store_nbr)[12]      14.6671      2.591      5.660      0.000       9.587      19.747\n",
      "C(store_nbr)[17]      53.8243      5.120     10.513      0.000      43.787      63.862\n",
      "C(store_nbr)[18]       7.2197      4.895      1.475      0.140      -2.376      16.816\n",
      "C(store_nbr)[43]      10.7010      2.584      4.141      0.000       5.634      15.768\n",
      "C(weekend)[T.True]     4.2845      0.418     10.239      0.000       3.464       5.105\n",
      "scale(tmax)            3.0588      3.201      0.956      0.339      -3.217       9.335\n",
      "scale(tmin)            4.1845      3.537      1.183      0.237      -2.749      11.118\n",
      "scale(tavg)           -3.2742      6.186     -0.529      0.597     -15.402       8.854\n",
      "scale(depart)          0.5470      0.232      2.361      0.018       0.093       1.001\n",
      "scale(dewpoint)        2.2614      1.949      1.160      0.246      -1.560       6.083\n",
      "scale(wetbulb)        -7.7241      3.112     -2.482      0.013     -13.825      -1.623\n",
      "scale(preciptotal)    -1.1002      0.226     -4.872      0.000      -1.543      -0.657\n",
      "scale(stnpressure)    -0.8333      4.112     -0.203      0.839      -8.895       7.229\n",
      "scale(sealevel)        0.5226      1.728      0.302      0.762      -2.865       3.910\n",
      "scale(avgspeed)       -0.5807      0.617     -0.942      0.346      -1.790       0.628\n",
      "scale(resultspeed)     0.1224      0.601      0.204      0.839      -1.055       1.300\n",
      "==============================================================================\n",
      "Omnibus:                      649.309   Durbin-Watson:                   1.792\n",
      "Prob(Omnibus):                  0.000   Jarque-Bera (JB):            10777.970\n",
      "Skew:                          -0.092   Prob(JB):                         0.00\n",
      "Kurtosis:                      10.824   Cond. No.                         108.\n",
      "==============================================================================\n",
      "\n",
      "Warnings:\n",
      "[1] Standard Errors assume that the covariance matrix of the errors is correctly specified.\n"
     ]
    }
   ],
   "source": []
  },
  {
   "cell_type": "code",
   "execution_count": 34,
   "metadata": {},
   "outputs": [],
   "source": [
    "pickle.dump( item37, open( \"item37.p\", \"wb\" ) )"
   ]
  },
  {
   "cell_type": "code",
   "execution_count": 33,
   "metadata": {},
   "outputs": [
    {
     "name": "stdout",
     "output_type": "stream",
     "text": [
      "                            OLS Regression Results                            \n",
      "==============================================================================\n",
      "Dep. Variable:               logunits   R-squared:                         nan\n",
      "Model:                            OLS   Adj. R-squared:                    nan\n",
      "Method:                 Least Squares   F-statistic:                       nan\n",
      "Date:                Wed, 04 Jul 2018   Prob (F-statistic):                nan\n",
      "Time:                        02:34:07   Log-Likelihood:                    nan\n",
      "No. Observations:                4223   AIC:                               nan\n",
      "Df Residuals:                    4205   BIC:                               nan\n",
      "Df Model:                          17                                         \n",
      "Covariance Type:            nonrobust                                         \n",
      "======================================================================================\n",
      "                         coef    std err          t      P>|t|      [0.025      0.975]\n",
      "--------------------------------------------------------------------------------------\n",
      "C(store_nbr)[5]           nan        nan        nan        nan         nan         nan\n",
      "C(store_nbr)[10]          nan        nan        nan        nan         nan         nan\n",
      "C(store_nbr)[12]          nan        nan        nan        nan         nan         nan\n",
      "C(store_nbr)[17]          nan        nan        nan        nan         nan         nan\n",
      "C(store_nbr)[18]          nan        nan        nan        nan         nan         nan\n",
      "C(store_nbr)[43]          nan        nan        nan        nan         nan         nan\n",
      "C(weekend)[T.True]        nan        nan        nan        nan         nan         nan\n",
      "scale(tmax)               nan        nan        nan        nan         nan         nan\n",
      "scale(tmin)               nan        nan        nan        nan         nan         nan\n",
      "scale(tavg)               nan        nan        nan        nan         nan         nan\n",
      "scale(depart)             nan        nan        nan        nan         nan         nan\n",
      "scale(dewpoint)           nan        nan        nan        nan         nan         nan\n",
      "scale(wetbulb)            nan        nan        nan        nan         nan         nan\n",
      "scale(preciptotal)        nan        nan        nan        nan         nan         nan\n",
      "scale(stnpressure)        nan        nan        nan        nan         nan         nan\n",
      "scale(sealevel)           nan        nan        nan        nan         nan         nan\n",
      "scale(avgspeed)           nan        nan        nan        nan         nan         nan\n",
      "scale(resultspeed)        nan        nan        nan        nan         nan         nan\n",
      "==============================================================================\n",
      "Omnibus:                          nan   Durbin-Watson:                     nan\n",
      "Prob(Omnibus):                    nan   Jarque-Bera (JB):                  nan\n",
      "Skew:                             nan   Prob(JB):                          nan\n",
      "Kurtosis:                         nan   Cond. No.                         108.\n",
      "==============================================================================\n",
      "\n",
      "Warnings:\n",
      "[1] Standard Errors assume that the covariance matrix of the errors is correctly specified.\n"
     ]
    },
    {
     "name": "stderr",
     "output_type": "stream",
     "text": [
      "C:\\ProgramData\\Anaconda3\\lib\\site-packages\\scipy\\stats\\_distn_infrastructure.py:879: RuntimeWarning: invalid value encountered in greater\n",
      "  return (self.a < x) & (x < self.b)\n",
      "C:\\ProgramData\\Anaconda3\\lib\\site-packages\\scipy\\stats\\_distn_infrastructure.py:879: RuntimeWarning: invalid value encountered in less\n",
      "  return (self.a < x) & (x < self.b)\n",
      "C:\\ProgramData\\Anaconda3\\lib\\site-packages\\scipy\\stats\\_distn_infrastructure.py:1821: RuntimeWarning: invalid value encountered in less_equal\n",
      "  cond2 = cond0 & (x <= self.a)\n",
      "C:\\ProgramData\\Anaconda3\\lib\\site-packages\\scipy\\stats\\stats.py:1404: RuntimeWarning: invalid value encountered in less\n",
      "  term2 = np.where(denom < 0, term1, np.power((1-2.0/A)/denom, 1/3.0))\n",
      "C:\\ProgramData\\Anaconda3\\lib\\site-packages\\statsmodels\\regression\\linear_model.py:1366: RuntimeWarning: invalid value encountered in subtract\n",
      "  weights=weights))**2)\n"
     ]
    }
   ],
   "source": [
    "log_model = sm.OLS.from_formula(\"logunits ~  C(store_nbr) + scale(tmax) + scale(tmin) + scale(tavg) + scale(depart) + scale(dewpoint) + scale(wetbulb) + scale(preciptotal) + scale(stnpressure) + scale(sealevel) + scale(avgspeed) + scale(resultspeed)   + C(weekend) + 0\" , data = item37)\n",
    "#model = sm.OLS.from_formula(\"units ~  date + store_nbr + tmax  + tavg + depart + dewpoint + wetbulb + snowfall + preciptotal + stnpressure + sealevel + avgspeed + resultspeed + resultdir + C(TS) + C(GR) + C(RA) + C(DZ) + C(SN) + C(SG) + C(GS) + C(PL) + C(FG2) + C(FG) + C(BR) + C(UP) + C(HZ) + C(FU) + C(DU) + C(SQ) + C(FZ) + C(MI) + C(PR) + C(BC) + C(BL) + C(weekend) + 0\" , data = item37_df)\n",
    "\n",
    "log_result1 = log_model.fit()\n",
    "print(log_result1.summary())"
   ]
  },
  {
   "cell_type": "code",
   "execution_count": 40,
   "metadata": {},
   "outputs": [
    {
     "name": "stdout",
     "output_type": "stream",
     "text": [
      "                            OLS Regression Results                            \n",
      "==============================================================================\n",
      "Dep. Variable:                  units   R-squared:                       0.618\n",
      "Model:                            OLS   Adj. R-squared:                  0.615\n",
      "Method:                 Least Squares   F-statistic:                     205.6\n",
      "Date:                Wed, 04 Jul 2018   Prob (F-statistic):               0.00\n",
      "Time:                        02:49:16   Log-Likelihood:                -16928.\n",
      "No. Observations:                4223   AIC:                         3.392e+04\n",
      "Df Residuals:                    4189   BIC:                         3.414e+04\n",
      "Df Model:                          33                                         \n",
      "Covariance Type:            nonrobust                                         \n",
      "======================================================================================\n",
      "                         coef    std err          t      P>|t|      [0.025      0.975]\n",
      "--------------------------------------------------------------------------------------\n",
      "C(store_nbr)[5]        9.4828      2.522      3.760      0.000       4.539      14.427\n",
      "C(store_nbr)[10]      13.6588      2.520      5.420      0.000       8.718      18.600\n",
      "C(store_nbr)[12]      14.6185      2.598      5.626      0.000       9.524      19.713\n",
      "C(store_nbr)[17]      52.9035      5.117     10.338      0.000      42.871      62.936\n",
      "C(store_nbr)[18]       6.3850      4.891      1.305      0.192      -3.204      15.974\n",
      "C(store_nbr)[43]      10.6748      2.591      4.119      0.000       5.594      15.755\n",
      "C(TS)[T.True]          0.8716      0.727      1.199      0.230      -0.553       2.296\n",
      "C(GR)[T.True]      -1.194e-13    3.2e-14     -3.734      0.000   -1.82e-13   -5.67e-14\n",
      "C(RA)[T.True]          0.5892      0.578      1.019      0.308      -0.545       1.723\n",
      "C(DZ)[T.True]         -0.3480      2.527     -0.138      0.890      -5.302       4.606\n",
      "C(SN)[T.True]          9.6129      3.499      2.747      0.006       2.752      16.473\n",
      "C(SG)[T.True]       4.673e-14   1.21e-14      3.865      0.000     2.3e-14    7.04e-14\n",
      "C(GS)[T.True]        8.07e-14    1.7e-14      4.749      0.000    4.74e-14    1.14e-13\n",
      "C(PL)[T.True]      -1.361e-14   4.42e-15     -3.080      0.002   -2.23e-14   -4.95e-15\n",
      "C(FG2)[T.True]         3.1681      1.221      2.594      0.010       0.774       5.562\n",
      "C(FG)[T.True]          2.0869      1.279      1.632      0.103      -0.420       4.593\n",
      "C(BR)[T.True]         -0.5400      0.540     -1.000      0.318      -1.599       0.519\n",
      "C(UP)[T.True]         -1.4339      4.648     -0.308      0.758     -10.547       7.679\n",
      "C(HZ)[T.True]         -1.3590      1.098     -1.237      0.216      -3.513       0.795\n",
      "C(FU)[T.True]          0.2483      3.653      0.068      0.946      -6.913       7.410\n",
      "C(DU)[T.True]         -1.7410      9.514     -0.183      0.855     -20.393      16.911\n",
      "C(SQ)[T.True]          0.9659      6.726      0.144      0.886     -12.220      14.152\n",
      "C(FZ)[T.True]         24.4527      5.121      4.775      0.000      14.414      34.492\n",
      "C(MI)[T.True]          0.5568      3.449      0.161      0.872      -6.205       7.318\n",
      "C(PR)[T.True]      -7.664e-15   3.39e-15     -2.262      0.024   -1.43e-14   -1.02e-15\n",
      "C(BC)[T.True]         -0.9732      3.554     -0.274      0.784      -7.942       5.995\n",
      "C(BL)[T.True]        -30.8626     14.402     -2.143      0.032     -59.098      -2.628\n",
      "C(weekend)[T.True]     4.2627      0.418     10.187      0.000       3.442       5.083\n",
      "scale(tmax)            2.4758      3.194      0.775      0.438      -3.787       8.738\n",
      "scale(tmin)            3.4028      3.526      0.965      0.335      -3.511      10.317\n",
      "scale(tavg)           -2.9374      6.161     -0.477      0.634     -15.017       9.142\n",
      "scale(depart)          0.4858      0.237      2.054      0.040       0.022       0.950\n",
      "scale(dewpoint)       -0.3136      2.031     -0.154      0.877      -4.296       3.669\n",
      "scale(wetbulb)        -4.1263      3.167     -1.303      0.193     -10.336       2.083\n",
      "scale(preciptotal)    -1.2435      0.249     -5.001      0.000      -1.731      -0.756\n",
      "scale(stnpressure)    -1.2502      4.103     -0.305      0.761      -9.294       6.794\n",
      "scale(sealevel)        0.6557      1.725      0.380      0.704      -2.725       4.037\n",
      "scale(avgspeed)       -0.6089      0.627     -0.971      0.331      -1.838       0.620\n",
      "scale(resultspeed)     0.1482      0.611      0.243      0.808      -1.050       1.346\n",
      "==============================================================================\n",
      "Omnibus:                      631.301   Durbin-Watson:                   1.807\n",
      "Prob(Omnibus):                  0.000   Jarque-Bera (JB):             9114.256\n",
      "Skew:                          -0.178   Prob(JB):                         0.00\n",
      "Kurtosis:                      10.188   Cond. No.                     1.48e+16\n",
      "==============================================================================\n",
      "\n",
      "Warnings:\n",
      "[1] Standard Errors assume that the covariance matrix of the errors is correctly specified.\n",
      "[2] The smallest eigenvalue is 1.01e-28. This might indicate that there are\n",
      "strong multicollinearity problems or that the design matrix is singular.\n"
     ]
    }
   ],
   "source": [
    "model2 = sm.OLS.from_formula(\"units ~  C(store_nbr) + scale(tmax) + scale(tmin) + scale(tavg) + scale(depart) + scale(dewpoint) + scale(wetbulb) + scale(preciptotal) + scale(stnpressure) + scale(sealevel) + scale(avgspeed) + scale(resultspeed) + C(TS) + C(GR) + C(RA) + C(DZ) + C(SN) + C(SG) + C(GS) + C(PL) + C(FG2) + C(FG) + C(BR) + C(UP) + C(HZ) + C(FU) + C(DU) + C(SQ) + C(FZ) + C(MI) + C(PR) + C(BC) + C(BL) + C(weekend) + 0\" , data = item37)\n",
    "\n",
    "\n",
    "result2 = model2.fit()\n",
    "print(result2.summary())"
   ]
  },
  {
   "cell_type": "code",
   "execution_count": null,
   "metadata": {},
   "outputs": [],
   "source": []
  }
 ],
 "metadata": {
  "kernelspec": {
   "display_name": "Python 3",
   "language": "python",
   "name": "python3"
  },
  "language_info": {
   "codemirror_mode": {
    "name": "ipython",
    "version": 3
   },
   "file_extension": ".py",
   "mimetype": "text/x-python",
   "name": "python",
   "nbconvert_exporter": "python",
   "pygments_lexer": "ipython3",
   "version": "3.6.4"
  }
 },
 "nbformat": 4,
 "nbformat_minor": 2
}
