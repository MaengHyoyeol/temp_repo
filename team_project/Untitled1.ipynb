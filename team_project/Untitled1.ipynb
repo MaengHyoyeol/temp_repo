{
 "cells": [
  {
   "cell_type": "code",
   "execution_count": 1,
   "metadata": {},
   "outputs": [],
   "source": [
    "# 기간제 아이템 앞뒤 자르기\n",
    "\n",
    "def cutFH(df_ext,pivot_df,j): #함수에서 쓰는 함수입니다. 직접사용하지마세용~\n",
    "    switch = 0\n",
    "    for i in range(5,34): #기간월 앞부분 자르기(3개월 이상 연속)\n",
    "        if (pivot_df.iloc[i-5,j-1] == 0) and (pivot_df.iloc[i-4,j-1] == 0) and (pivot_df.iloc[i-3,j-1] == 0) \\\n",
    "        and (pivot_df.iloc[i-2,j-1] == 0) and (pivot_df.iloc[i-1,j-1] == 0) and (pivot_df.iloc[i,j-1] == 0) and (switch==0):\n",
    "            switch = 1\n",
    "            df_ext= df_ext[(df_ext[\"item_nbr\"]!=j)|(df_ext[\"year\"]!=(2012 + (i-5)//12))|(df_ext[\"month\"]!=((i-5)%12+1))]\n",
    "            df_ext= df_ext[(df_ext[\"item_nbr\"]!=j)|(df_ext[\"year\"]!=(2012 + (i-4)//12))|(df_ext[\"month\"]!=((i-4)%12+1))]\n",
    "            df_ext= df_ext[(df_ext[\"item_nbr\"]!=j)|(df_ext[\"year\"]!=(2012 + (i-3)//12))|(df_ext[\"month\"]!=((i-3)%12+1))]\n",
    "            df_ext= df_ext[(df_ext[\"item_nbr\"]!=j)|(df_ext[\"year\"]!=(2012 + (i-2)//12))|(df_ext[\"month\"]!=((i-2)%12+1))]\n",
    "            df_ext= df_ext[(df_ext[\"item_nbr\"]!=j)|(df_ext[\"year\"]!=(2012 + (i-1)//12))|(df_ext[\"month\"]!=((i-1)%12+1))]\n",
    "            df_ext= df_ext[(df_ext[\"item_nbr\"]!=j)|(df_ext[\"year\"]!=(2012 + i//12))|(df_ext[\"month\"]!=(i%12+1))]\n",
    "        elif (pivot_df.iloc[i,j-1] == 0) and (switch==1):\n",
    "            df_ext= df_ext[(df_ext[\"item_nbr\"]!=j)|(df_ext[\"year\"]!=(2012 + i//12))|(df_ext[\"month\"]!=(i%12+1))]\n",
    "        else : \n",
    "            break\n",
    "    print(j,\".\", end=\"\")\n",
    "    return df_ext\n",
    "\n",
    "\n",
    "def cutBH(df_ext,pivot_df,j): #함수에서 쓰는 함수입니다. 직접사용하지마세용~\n",
    "    switch = 0\n",
    "    for i in range(28,-1,-1): #기간월 뒤부터 자르기(3개월 이상 연속)\n",
    "        if (pivot_df.iloc[i+5,j-1] == 0) and (pivot_df.iloc[i+4,j-1] == 0) and (pivot_df.iloc[i+3,j-1] == 0)\\\n",
    "        and (pivot_df.iloc[i+2,j-1] == 0) and (pivot_df.iloc[i+1,j-1] == 0) and (pivot_df.iloc[i,j-1] == 0) and (switch==0):\n",
    "            switch = 1\n",
    "            df_ext= df_ext[(df_ext[\"item_nbr\"]!=j)|(df_ext[\"year\"]!=(2012 + (i+5)//12))|(df_ext[\"month\"]!=((i+5)%12+1))]\n",
    "            df_ext= df_ext[(df_ext[\"item_nbr\"]!=j)|(df_ext[\"year\"]!=(2012 + (i+4)//12))|(df_ext[\"month\"]!=((i+4)%12+1))]\n",
    "            df_ext= df_ext[(df_ext[\"item_nbr\"]!=j)|(df_ext[\"year\"]!=(2012 + (i+3)//12))|(df_ext[\"month\"]!=((i+3)%12+1))]\n",
    "            df_ext= df_ext[(df_ext[\"item_nbr\"]!=j)|(df_ext[\"year\"]!=(2012 + (i+2)//12))|(df_ext[\"month\"]!=((i+2)%12+1))]\n",
    "            df_ext= df_ext[(df_ext[\"item_nbr\"]!=j)|(df_ext[\"year\"]!=(2012 + (i+1)//12))|(df_ext[\"month\"]!=((i+1)%12+1))]\n",
    "            df_ext= df_ext[(df_ext[\"item_nbr\"]!=j)|(df_ext[\"year\"]!=(2012 + i//12))|(df_ext[\"month\"]!=(i%12+1))]\n",
    "        elif (pivot_df.iloc[i,j-1] == 0) and (switch==1):\n",
    "            df_ext= df_ext[(df_ext[\"item_nbr\"]!=j)|(df_ext[\"year\"]!=(2012 + i//12))|(df_ext[\"month\"]!=(i%12+1))]\n",
    "        else : \n",
    "            break\n",
    "    print(j,\".\", end=\"\")\n",
    "    return df_ext\n",
    "\n",
    "\n",
    "# 기간제 아이템 앞뒤 자르기\n",
    "def cutForeBehindPeriod(df):\n",
    "    \n",
    "    pivot_df = df.groupby([\"item_nbr\", \"year\",\"month\"]).mean().reset_index().pivot_table(index =  [\"year\",\"month\"], columns = \"item_nbr\", values = \"units\")\n",
    "\n",
    "    df_ext = df\n",
    "    print(\"판매안하던 이전시점 삭제하기 : \")\n",
    "    for j in range(1,112): #아이템넘버\n",
    "        df_ext = cutFH(df_ext,pivot_df,j)\n",
    "            \n",
    "    print(\"특정일 이후 안파는 데이터 삭제하기 : \")\n",
    "    for j in range(1,112): #아이템넘버\n",
    "        df_ext = cutBH(df_ext,pivot_df,j)\n",
    "\n",
    "    return df_ext\n",
    "\n",
    "\n",
    "def cutForePeriod(df):\n",
    "    \n",
    "    pivot_df = df.groupby([\"item_nbr\", \"year\",\"month\"]).mean().reset_index().pivot_table(index =  [\"year\",\"month\"], columns = \"item_nbr\", values = \"units\")\n",
    "\n",
    "    df_ext = df\n",
    "    print(\"판매안하던 이전시점 삭제하기 : \")\n",
    "    for j in range(1,112): #아이템넘버\n",
    "        df_ext = cutFH(df_ext,pivot_df,j)   \n",
    "\n",
    "    return df_ext\n",
    "\n",
    "\n",
    "def cutBehindPeriod(df):\n",
    "    \n",
    "    pivot_df = df.groupby([\"item_nbr\", \"year\",\"month\"]).mean().reset_index().pivot_table(index =  [\"year\",\"month\"], columns = \"item_nbr\", values = \"units\")\n",
    "\n",
    "    df_ext = df\n",
    "    print(\"특정일 이후 안파는 데이터 삭제하기 : \")\n",
    "    for j in range(1,112): #아이템넘버\n",
    "        df_ext = cutBH(df_ext,pivot_df,j) \n",
    "\n",
    "    return df_ext\n",
    "# \n",
    "\n",
    "\n",
    "# 예측값을 0으로 채워버리기(강제함수)\n",
    "def fillZeroNullPeriod(Predf,df):\n",
    "    pivot_df = df.groupby([\"item_nbr\", \"year\",\"month\"]).mean().reset_index().pivot_table(index =  [\"year\",\"month\"], columns = \"item_nbr\", values = \"units\")\n",
    "\n",
    "    df_ext = df\n",
    "    print(\"판매안하던 이전시점 예측하기(0으로) : \")\n",
    "    for j in range(1,112): #아이템넘버\n",
    "        for i in range(0,34): #기간월 앞부분 자르기\n",
    "            if pivot_df.iloc[i,j-1] == 0:\n",
    "                Predf.iloc[[(df_ext[\"item_nbr\"]==j)&(df_ext[\"year\"]==(2012 + i//12))&(df_ext[\"month\"]==(i%12+1))]] = 0\n",
    "            else : \n",
    "                break\n",
    "        print(j,\".\", end=\"\")    \n",
    "    print(\"특정일 이후 안파는 시검 예측하기(0으로) : \")\n",
    "    for j in range(1,112): #아이템넘버\n",
    "        for i in range(33,-1,-1): #기간월 뒤부터 자르기\n",
    "            if pivot_df.iloc[i,j-1] == 0:\n",
    "                Predf.iloc[[(df_ext[\"item_nbr\"]==j)&(df_ext[\"year\"]==(2012 + i//12))&(df_ext[\"month\"]==(i%12+1))]] = 0\n",
    "            else : \n",
    "                break\n",
    "        print(j,\".\", end=\"\") \n",
    "\n",
    "    return Predf"
   ]
  },
  {
   "cell_type": "code",
   "execution_count": 2,
   "metadata": {},
   "outputs": [],
   "source": [
    "import csv\n",
    "import pickle\n",
    "import datetime\n",
    "from sklearn.model_selection import train_test_split"
   ]
  },
  {
   "cell_type": "code",
   "execution_count": 6,
   "metadata": {},
   "outputs": [],
   "source": [
    "def import_data():\n",
    "    df = pd.read_csv('data/data.csv')\n",
    "    df = df.iloc[:,1:]\n",
    "    \n",
    "    return df"
   ]
  },
  {
   "cell_type": "code",
   "execution_count": 7,
   "metadata": {
    "scrolled": true
   },
   "outputs": [
    {
     "name": "stderr",
     "output_type": "stream",
     "text": [
      "C:\\ProgramData\\Anaconda3\\lib\\site-packages\\IPython\\core\\interactiveshell.py:2850: DtypeWarning: Columns (6,7,8,10,12,13,14,15,18,20,21,22) have mixed types. Specify dtype option on import or set low_memory=False.\n",
      "  if self.run_code(code, result):\n"
     ]
    }
   ],
   "source": [
    "data = import_data()"
   ]
  },
  {
   "cell_type": "code",
   "execution_count": 11,
   "metadata": {},
   "outputs": [],
   "source": [
    "data['date'] = pd.to_datetime(data['date'])\n",
    "\n",
    "\n",
    "data[\"day_of_year\"] = data['date'].dt.dayofyear\n",
    "data[\"year\"] = data['date'].dt.year\n",
    "data[\"month\"] = data[\"date\"].dt.month"
   ]
  },
  {
   "cell_type": "code",
   "execution_count": 12,
   "metadata": {},
   "outputs": [
    {
     "name": "stdout",
     "output_type": "stream",
     "text": [
      "특정일 이후 안파는 데이터 삭제하기 : \n",
      "1 .2 .3 .4 .5 .6 .7 .8 .9 .10 .11 .12 .13 .14 .15 .16 .17 .18 .19 .20 .21 .22 .23 .24 .25 .26 .27 .28 .29 .30 .31 .32 .33 .34 .35 .36 .37 .38 .39 .40 .41 .42 .43 .44 .45 .46 .47 .48 .49 .50 .51 .52 .53 .54 .55 .56 .57 .58 .59 .60 .61 .62 .63 .64 .65 .66 .67 .68 .69 .70 .71 .72 .73 .74 .75 .76 .77 .78 .79 .80 .81 .82 .83 .84 .85 .86 .87 .88 .89 .90 .91 .92 .93 .94 .95 .96 .97 .98 .99 .100 .101 .102 .103 .104 .105 .106 .107 .108 .109 .110 .111 .판매안하던 이전시점 삭제하기 : \n",
      "1 .2 .3 .4 .5 .6 .7 .8 .9 .10 .11 .12 .13 .14 .15 .16 .17 .18 .19 .20 .21 .22 .23 .24 .25 .26 .27 .28 .29 .30 .31 .32 .33 .34 .35 .36 .37 .38 .39 .40 .41 .42 .43 .44 .45 .46 .47 .48 .49 .50 .51 .52 .53 .54 .55 .56 .57 .58 .59 .60 .61 .62 .63 .64 .65 .66 .67 .68 .69 .70 .71 .72 .73 .74 .75 .76 .77 .78 .79 .80 .81 .82 .83 .84 .85 .86 .87 .88 .89 .90 .91 .92 .93 .94 .95 .96 .97 .98 .99 .100 .101 .102 .103 .104 .105 .106 .107 .108 .109 .110 .111 .판매안하던 이전시점 삭제하기 : \n",
      "1 .2 .3 .4 .5 .6 .7 .8 .9 .10 .11 .12 .13 .14 .15 .16 .17 .18 .19 .20 .21 .22 .23 .24 .25 .26 .27 .28 .29 .30 .31 .32 .33 .34 .35 .36 .37 .38 .39 .40 .41 .42 .43 .44 .45 .46 .47 .48 .49 .50 .51 .52 .53 .54 .55 .56 .57 .58 .59 .60 .61 .62 .63 .64 .65 .66 .67 .68 .69 .70 .71 .72 .73 .74 .75 .76 .77 .78 .79 .80 .81 .82 .83 .84 .85 .86 .87 .88 .89 .90 .91 .92 .93 .94 .95 .96 .97 .98 .99 .100 .101 .102 .103 .104 .105 .106 .107 .108 .109 .110 .111 .특정일 이후 안파는 데이터 삭제하기 : \n",
      "1 .2 .3 .4 .5 .6 .7 .8 .9 .10 .11 .12 .13 .14 .15 .16 .17 .18 .19 .20 .21 .22 .23 .24 .25 .26 .27 .28 .29 .30 .31 .32 .33 .34 .35 .36 .37 .38 .39 .40 .41 .42 .43 .44 .45 .46 .47 .48 .49 .50 .51 .52 .53 .54 .55 .56 .57 .58 .59 .60 .61 .62 .63 .64 .65 .66 .67 .68 .69 .70 .71 .72 .73 .74 .75 .76 .77 .78 .79 .80 .81 .82 .83 .84 .85 .86 .87 .88 .89 .90 .91 .92 .93 .94 .95 .96 .97 .98 .99 .100 .101 .102 .103 .104 .105 .106 .107 .108 .109 .110 .111 ."
     ]
    }
   ],
   "source": [
    "# df_cutB = cutBehindPeriod(data)\n",
    "# df_cutF = cutForePeriod(data)\n",
    "df_cutall = cutForeBehindPeriod(data)"
   ]
  },
  {
   "cell_type": "code",
   "execution_count": 14,
   "metadata": {},
   "outputs": [],
   "source": [
    "df_cutall.to_csv('data/cut.csv')"
   ]
  },
  {
   "cell_type": "code",
   "execution_count": null,
   "metadata": {},
   "outputs": [],
   "source": [
    "csv"
   ]
  }
 ],
 "metadata": {
  "kernelspec": {
   "display_name": "Python 3",
   "language": "python",
   "name": "python3"
  },
  "language_info": {
   "codemirror_mode": {
    "name": "ipython",
    "version": 3
   },
   "file_extension": ".py",
   "mimetype": "text/x-python",
   "name": "python",
   "nbconvert_exporter": "python",
   "pygments_lexer": "ipython3",
   "version": "3.6.4"
  }
 },
 "nbformat": 4,
 "nbformat_minor": 2
}
