{
 "cells": [
  {
   "cell_type": "markdown",
   "metadata": {},
   "source": [
    "# nba data 크롤링 하기."
   ]
  },
  {
   "cell_type": "markdown",
   "metadata": {},
   "source": [
    "#### 아래 URL의 NBA 데이터를 크롤링하여 판다스 데이터 프레임으로 나타내세요.\n",
    "\n",
    "http://stats.nba.com/teams/traditional/?sort=GP&dir=-1"
   ]
  },
  {
   "cell_type": "markdown",
   "metadata": {},
   "source": [
    "1. 크롭 웹 드라이브를 열고 url 입력"
   ]
  },
  {
   "cell_type": "code",
   "execution_count": 4,
   "metadata": {},
   "outputs": [],
   "source": [
    "from selenium import webdriver"
   ]
  },
  {
   "cell_type": "code",
   "execution_count": 5,
   "metadata": {},
   "outputs": [],
   "source": [
    "driver = webdriver.Chrome()\n",
    "driver.get(\"http://stats.nba.com/teams/traditional/?sort=GP&dir=-1\")"
   ]
  },
  {
   "cell_type": "markdown",
   "metadata": {},
   "source": [
    "1) column 추출\n",
    " - xpath를 이용해서 column 추출\n",
    " - column list에 append 하여 추가"
   ]
  },
  {
   "cell_type": "code",
   "execution_count": 6,
   "metadata": {},
   "outputs": [],
   "source": [
    "results = driver.find_elements_by_xpath(\"/html/body/main/div[2]/div/div[2]/div/div/nba-stat-table/div[2]/div[1]/table/thead/tr/th\")\n",
    "\n",
    "column_list= []\n",
    "for result in results:\n",
    "    if result.text == '':\n",
    "        pass\n",
    "    else:\n",
    "        column_list.append(result.text)"
   ]
  },
  {
   "cell_type": "markdown",
   "metadata": {},
   "source": [
    "2) 팀 별 데이터 추출\n",
    " - xpath를 이용해 추출 tr/ td의 [n]을 지워주면 모든 테이블 데이터 추출\n",
    " - data 리스트에 추출 데이터 추가"
   ]
  },
  {
   "cell_type": "code",
   "execution_count": 7,
   "metadata": {},
   "outputs": [],
   "source": [
    "results2 = driver.find_elements_by_xpath(\"/html/body/main/div[2]/div/div[2]/div/div/nba-stat-table/div[2]/div[1]/table/tbody/tr/td\")\n",
    "data = []\n",
    "for result in results2:\n",
    "    data.append(result.text)"
   ]
  },
  {
   "cell_type": "markdown",
   "metadata": {},
   "source": [
    "- 드라이버 종료"
   ]
  },
  {
   "cell_type": "code",
   "execution_count": 8,
   "metadata": {},
   "outputs": [],
   "source": [
    "driver.quit()"
   ]
  },
  {
   "cell_type": "markdown",
   "metadata": {},
   "source": [
    "3) data를 np.array로 reshape\n",
    " - ! 각 줄에 첫 데이터가 쓸모없는 ' 내용이 들어가 column 수에 +1 을 해주고 추후에 삭제"
   ]
  },
  {
   "cell_type": "code",
   "execution_count": 9,
   "metadata": {},
   "outputs": [],
   "source": [
    "data_array = np.array(data)\n",
    "data_array = data_array.reshape(int(len(data)/(len(column_list)+1)), len(column_list)+1)"
   ]
  },
  {
   "cell_type": "code",
   "execution_count": 10,
   "metadata": {},
   "outputs": [],
   "source": [
    "nba_df = pd.DataFrame(data_array[:,1:] , columns = column_list)"
   ]
  },
  {
   "cell_type": "code",
   "execution_count": 11,
   "metadata": {},
   "outputs": [
    {
     "data": {
      "text/html": [
       "<div>\n",
       "<style scoped>\n",
       "    .dataframe tbody tr th:only-of-type {\n",
       "        vertical-align: middle;\n",
       "    }\n",
       "\n",
       "    .dataframe tbody tr th {\n",
       "        vertical-align: top;\n",
       "    }\n",
       "\n",
       "    .dataframe thead th {\n",
       "        text-align: right;\n",
       "    }\n",
       "</style>\n",
       "<table border=\"1\" class=\"dataframe\">\n",
       "  <thead>\n",
       "    <tr style=\"text-align: right;\">\n",
       "      <th></th>\n",
       "      <th>TEAM</th>\n",
       "      <th>GP</th>\n",
       "      <th>W</th>\n",
       "      <th>L</th>\n",
       "      <th>WIN%</th>\n",
       "      <th>MIN</th>\n",
       "      <th>PTS</th>\n",
       "      <th>FGM</th>\n",
       "      <th>FGA</th>\n",
       "      <th>FG%</th>\n",
       "      <th>...</th>\n",
       "      <th>DREB</th>\n",
       "      <th>REB</th>\n",
       "      <th>AST</th>\n",
       "      <th>TOV</th>\n",
       "      <th>STL</th>\n",
       "      <th>BLK</th>\n",
       "      <th>BLKA</th>\n",
       "      <th>PF</th>\n",
       "      <th>PFD</th>\n",
       "      <th>+/-</th>\n",
       "    </tr>\n",
       "  </thead>\n",
       "  <tbody>\n",
       "    <tr>\n",
       "      <th>0</th>\n",
       "      <td>Miami Heat</td>\n",
       "      <td>82</td>\n",
       "      <td>44</td>\n",
       "      <td>38</td>\n",
       "      <td>.537</td>\n",
       "      <td>48.6</td>\n",
       "      <td>103.4</td>\n",
       "      <td>38.8</td>\n",
       "      <td>85.3</td>\n",
       "      <td>45.5</td>\n",
       "      <td>...</td>\n",
       "      <td>34.2</td>\n",
       "      <td>43.5</td>\n",
       "      <td>22.7</td>\n",
       "      <td>14.4</td>\n",
       "      <td>7.6</td>\n",
       "      <td>5.3</td>\n",
       "      <td>4.6</td>\n",
       "      <td>20.1</td>\n",
       "      <td>19.4</td>\n",
       "      <td>0.5</td>\n",
       "    </tr>\n",
       "    <tr>\n",
       "      <th>1</th>\n",
       "      <td>Atlanta Hawks</td>\n",
       "      <td>82</td>\n",
       "      <td>24</td>\n",
       "      <td>58</td>\n",
       "      <td>.293</td>\n",
       "      <td>48.1</td>\n",
       "      <td>103.4</td>\n",
       "      <td>38.2</td>\n",
       "      <td>85.5</td>\n",
       "      <td>44.6</td>\n",
       "      <td>...</td>\n",
       "      <td>32.8</td>\n",
       "      <td>41.9</td>\n",
       "      <td>23.7</td>\n",
       "      <td>15.6</td>\n",
       "      <td>7.8</td>\n",
       "      <td>4.2</td>\n",
       "      <td>5.5</td>\n",
       "      <td>19.6</td>\n",
       "      <td>20.3</td>\n",
       "      <td>-5.5</td>\n",
       "    </tr>\n",
       "    <tr>\n",
       "      <th>2</th>\n",
       "      <td>Brooklyn Nets</td>\n",
       "      <td>82</td>\n",
       "      <td>28</td>\n",
       "      <td>54</td>\n",
       "      <td>.341</td>\n",
       "      <td>48.4</td>\n",
       "      <td>106.6</td>\n",
       "      <td>38.2</td>\n",
       "      <td>86.8</td>\n",
       "      <td>44.1</td>\n",
       "      <td>...</td>\n",
       "      <td>34.8</td>\n",
       "      <td>44.4</td>\n",
       "      <td>23.7</td>\n",
       "      <td>15.2</td>\n",
       "      <td>6.2</td>\n",
       "      <td>4.8</td>\n",
       "      <td>5.5</td>\n",
       "      <td>20.6</td>\n",
       "      <td>19.7</td>\n",
       "      <td>-3.7</td>\n",
       "    </tr>\n",
       "    <tr>\n",
       "      <th>3</th>\n",
       "      <td>Charlotte Hornets</td>\n",
       "      <td>82</td>\n",
       "      <td>36</td>\n",
       "      <td>46</td>\n",
       "      <td>.439</td>\n",
       "      <td>48.2</td>\n",
       "      <td>108.2</td>\n",
       "      <td>39.0</td>\n",
       "      <td>86.7</td>\n",
       "      <td>45.0</td>\n",
       "      <td>...</td>\n",
       "      <td>35.4</td>\n",
       "      <td>45.5</td>\n",
       "      <td>21.6</td>\n",
       "      <td>12.7</td>\n",
       "      <td>6.8</td>\n",
       "      <td>4.5</td>\n",
       "      <td>4.9</td>\n",
       "      <td>17.2</td>\n",
       "      <td>22.4</td>\n",
       "      <td>0.3</td>\n",
       "    </tr>\n",
       "    <tr>\n",
       "      <th>4</th>\n",
       "      <td>Chicago Bulls</td>\n",
       "      <td>82</td>\n",
       "      <td>27</td>\n",
       "      <td>55</td>\n",
       "      <td>.329</td>\n",
       "      <td>48.4</td>\n",
       "      <td>102.9</td>\n",
       "      <td>38.7</td>\n",
       "      <td>88.8</td>\n",
       "      <td>43.5</td>\n",
       "      <td>...</td>\n",
       "      <td>35.0</td>\n",
       "      <td>44.7</td>\n",
       "      <td>23.5</td>\n",
       "      <td>14.0</td>\n",
       "      <td>7.6</td>\n",
       "      <td>3.5</td>\n",
       "      <td>5.2</td>\n",
       "      <td>19.2</td>\n",
       "      <td>17.4</td>\n",
       "      <td>-7.0</td>\n",
       "    </tr>\n",
       "  </tbody>\n",
       "</table>\n",
       "<p>5 rows × 27 columns</p>\n",
       "</div>"
      ],
      "text/plain": [
       "                TEAM  GP   W   L  WIN%   MIN    PTS   FGM   FGA   FG%  ...   \\\n",
       "0         Miami Heat  82  44  38  .537  48.6  103.4  38.8  85.3  45.5  ...    \n",
       "1      Atlanta Hawks  82  24  58  .293  48.1  103.4  38.2  85.5  44.6  ...    \n",
       "2      Brooklyn Nets  82  28  54  .341  48.4  106.6  38.2  86.8  44.1  ...    \n",
       "3  Charlotte Hornets  82  36  46  .439  48.2  108.2  39.0  86.7  45.0  ...    \n",
       "4      Chicago Bulls  82  27  55  .329  48.4  102.9  38.7  88.8  43.5  ...    \n",
       "\n",
       "   DREB   REB   AST   TOV  STL  BLK BLKA    PF   PFD   +/-  \n",
       "0  34.2  43.5  22.7  14.4  7.6  5.3  4.6  20.1  19.4   0.5  \n",
       "1  32.8  41.9  23.7  15.6  7.8  4.2  5.5  19.6  20.3  -5.5  \n",
       "2  34.8  44.4  23.7  15.2  6.2  4.8  5.5  20.6  19.7  -3.7  \n",
       "3  35.4  45.5  21.6  12.7  6.8  4.5  4.9  17.2  22.4   0.3  \n",
       "4  35.0  44.7  23.5  14.0  7.6  3.5  5.2  19.2  17.4  -7.0  \n",
       "\n",
       "[5 rows x 27 columns]"
      ]
     },
     "execution_count": 11,
     "metadata": {},
     "output_type": "execute_result"
    }
   ],
   "source": [
    "nba_df.head()"
   ]
  },
  {
   "cell_type": "code",
   "execution_count": null,
   "metadata": {},
   "outputs": [],
   "source": []
  }
 ],
 "metadata": {
  "kernelspec": {
   "display_name": "Python 3",
   "language": "python",
   "name": "python3"
  },
  "language_info": {
   "codemirror_mode": {
    "name": "ipython",
    "version": 3
   },
   "file_extension": ".py",
   "mimetype": "text/x-python",
   "name": "python",
   "nbconvert_exporter": "python",
   "pygments_lexer": "ipython3",
   "version": "3.6.4"
  }
 },
 "nbformat": 4,
 "nbformat_minor": 2
}
