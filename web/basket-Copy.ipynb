{
 "cells": [
  {
   "cell_type": "code",
   "execution_count": 10,
   "metadata": {},
   "outputs": [],
   "source": [
    "from selenium import webdriver\n",
    "import requests\n"
   ]
  },
  {
   "cell_type": "code",
   "execution_count": 19,
   "metadata": {},
   "outputs": [],
   "source": [
    "url = \"http://www.ansi.or.kr/reservation/html/main.asp\"\n"
   ]
  },
  {
   "cell_type": "code",
   "execution_count": 99,
   "metadata": {},
   "outputs": [],
   "source": [
    "driver=webdriver.Chrome()\n",
    "driver.get(url)"
   ]
  },
  {
   "cell_type": "code",
   "execution_count": 100,
   "metadata": {},
   "outputs": [],
   "source": [
    "script = \"window.open('http://www.ansi.or.kr/reservation/html/main.asp');\"\n",
    "driver.execute_script(script)"
   ]
  },
  {
   "cell_type": "code",
   "execution_count": 101,
   "metadata": {},
   "outputs": [
    {
     "data": {
      "text/plain": [
       "['CDwindow-3D8ED00AFA0890EDCE7802AD3BA3026B',\n",
       " 'CDwindow-E3E948A7F453B4877FCFA2DF69E716E0']"
      ]
     },
     "execution_count": 101,
     "metadata": {},
     "output_type": "execute_result"
    }
   ],
   "source": [
    "windows = driver.window_handles\n",
    "windows"
   ]
  },
  {
   "cell_type": "code",
   "execution_count": 103,
   "metadata": {},
   "outputs": [],
   "source": [
    "for i in range(len(windows)):\n",
    "    driver.switch_to_window(windows[i])\n",
    "    driver.find_element_by_xpath(\"/html/body/div/div[3]/p/a/img\").click()"
   ]
  },
  {
   "cell_type": "code",
   "execution_count": 79,
   "metadata": {},
   "outputs": [],
   "source": [
    "driver.find_element_by_xpath(\"/html/body/div/div[3]/p/a/img\").click()\n",
    "#driver.find_element_by_xpath(\"/html/body/div[2]/div[2]/p/a/img\").click()\n"
   ]
  },
  {
   "cell_type": "code",
   "execution_count": 80,
   "metadata": {},
   "outputs": [],
   "source": [
    "alert = driver.switch_to_alert()\n",
    "alert.accept()"
   ]
  },
  {
   "cell_type": "code",
   "execution_count": null,
   "metadata": {},
   "outputs": [],
   "source": [
    "driver.find_element_by_xpath(\"/html/body/div[3]/div[3]/div[2]//fieldset/div[2]/button[1]\").click()\n"
   ]
  },
  {
   "cell_type": "code",
   "execution_count": 108,
   "metadata": {},
   "outputs": [],
   "source": [
    "driver.find_element_by_xpath(\"/html/body/div/div[2]/div/div/a[1]\").click()\n",
    "#동의\n",
    "driver.find_element_by_xpath(\"/html/body/div[4]/div[2]/form/fieldset/div[2]/div[2]/div[2]/a[2]/img\").click()"
   ]
  },
  {
   "cell_type": "code",
   "execution_count": 88,
   "metadata": {
    "scrolled": true
   },
   "outputs": [],
   "source": [
    "driver.find_element_by_xpath(\"/html/body/div[4]/div[2]/form/fieldset/div[2]/div[2]/div[2]/a[2]/img\").click()\n",
    "#driver.find_element_by_xpath('//*[@id=\"rentform\"]/fieldset/div[2]/div[2]/table/tbody/tr[1]/td[5]/ul/li[4]/a').click()\n",
    "#7월"
   ]
  },
  {
   "cell_type": "code",
   "execution_count": null,
   "metadata": {},
   "outputs": [],
   "source": [
    "driver.find_element_by_xpath(\"/html/body/div[4]/div[2]/form/fieldset/div[2]/div[2]/div[2]/a[2]/img\").click()\n",
    "#8월"
   ]
  },
  {
   "cell_type": "code",
   "execution_count": 96,
   "metadata": {},
   "outputs": [],
   "source": [
    "driver.quit()"
   ]
  },
  {
   "cell_type": "code",
   "execution_count": 112,
   "metadata": {},
   "outputs": [],
   "source": [
    "def reservation(day):\n",
    "    driver.find_element_by_xpath(\"/html/body/div[4]/div[2]/form/fieldset/div[2]/div[2]/div[2]/a[2]/img\").click()\n",
    "    driver.find_element_by_xpath('//*[@id=\"rentform\"]/fieldset/div[2]/div[2]/table/tbody/'+day+'/a').click()\n",
    "    driver.find_element_by_xpath('//*[@id=\"evt_name\"]').send_keys('폴라리스농구대회')\n",
    "    driver.find_element_by_xpath('//*[@id=\"wrap\"]/div[2]/form/fieldset/div/table/tbody/tr[3]/td[1]/input[1]').send_keys('395')\n",
    "    driver.find_element_by_xpath('//*[@id=\"wrap\"]/div[2]/form/fieldset/div/table/tbody/tr[3]/td[1]/input[2]').send_keys('7873')\n",
    "    driver.find_element_by_xpath('//*[@id=\"t_name\"]').send_keys('폴라리스')\n",
    "    driver.find_element_by_xpath('//*[@id=\"app_txt\"]').send_keys('폴라리스농구팀정기교류전')\n",
    "    driver.find_element_by_xpath('//*[@id=\"ticket_2_1\"]').click()\n",
    "    driver.find_element_by_xpath('//*[@id=\"detail\"]').send_keys('감사합니다.')\n",
    "    driver.find_element_by_xpath('//*[@id=\"iche\"]').click()\n",
    "    driver.find_element_by_xpath('//*[@id=\"app_txt\"]').send_keys('라쿤농구팀정기교류전')"
   ]
  },
  {
   "cell_type": "code",
   "execution_count": 111,
   "metadata": {},
   "outputs": [],
   "source": [
    "reservation()"
   ]
  },
  {
   "cell_type": "code",
   "execution_count": 113,
   "metadata": {},
   "outputs": [],
   "source": [
    "day1 = 'tr[3]/td[5]/ul/li[5]'\n",
    "day2 = 'tr[2]/td[5]/ul/li[5]'\n",
    "day3 = 'tr[1]/td[5]/ul/li[5]'\n",
    "day = [day1, day2, day3]"
   ]
  },
  {
   "cell_type": "code",
   "execution_count": null,
   "metadata": {},
   "outputs": [],
   "source": [
    "for i in range(3):\n",
    "    driver.switch_to_window(windows[i])\n",
    "    reservation(day[i])"
   ]
  }
 ],
 "metadata": {
  "kernelspec": {
   "display_name": "Python 3",
   "language": "python",
   "name": "python3"
  },
  "language_info": {
   "codemirror_mode": {
    "name": "ipython",
    "version": 3
   },
   "file_extension": ".py",
   "mimetype": "text/x-python",
   "name": "python",
   "nbconvert_exporter": "python",
   "pygments_lexer": "ipython3",
   "version": "3.6.4"
  }
 },
 "nbformat": 4,
 "nbformat_minor": 2
}
