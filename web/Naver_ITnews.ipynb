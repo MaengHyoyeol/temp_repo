{
 "cells": [
  {
   "cell_type": "markdown",
   "metadata": {},
   "source": [
    "# 네이버 IT 최신기사 (~10 페이지) 제목 크롤링하기"
   ]
  },
  {
   "cell_type": "code",
   "execution_count": 2,
   "metadata": {},
   "outputs": [],
   "source": [
    "from selenium import webdriver\n",
    "import time"
   ]
  },
  {
   "cell_type": "code",
   "execution_count": 3,
   "metadata": {},
   "outputs": [],
   "source": [
    "driver = webdriver.Chrome()\n",
    "driver.get(\"http://m.news.naver.com/main.nhn?mode=LSD&sid1=105\")"
   ]
  },
  {
   "cell_type": "markdown",
   "metadata": {},
   "source": [
    "### 스크롤을 충분히 내려 10페이지 이상의 뉴스를 불러온다."
   ]
  },
  {
   "cell_type": "code",
   "execution_count": 4,
   "metadata": {},
   "outputs": [],
   "source": [
    "for i in range(1, 20+1):\n",
    "    script = \"window.scrollTo(0,\"+str(1300*i) +\");\"\n",
    "    driver.execute_script(script)\n",
    "    time.sleep(1)"
   ]
  },
  {
   "cell_type": "code",
   "execution_count": 5,
   "metadata": {},
   "outputs": [],
   "source": [
    "news_titles = []"
   ]
  },
  {
   "cell_type": "code",
   "execution_count": 6,
   "metadata": {},
   "outputs": [
    {
     "name": "stdout",
     "output_type": "stream",
     "text": [
      "12\n",
      "24\n",
      "36\n",
      "36\n",
      "36\n",
      "36\n",
      "36\n",
      "36\n",
      "36\n",
      "36\n"
     ]
    }
   ],
   "source": [
    "for i in range(1,11):\n",
    "    if i == 1:\n",
    "        \n",
    "        index = 1\n",
    "        \n",
    "    elif i == 2:\n",
    "        index = 4\n",
    "        \n",
    "    else:\n",
    "        index += 2\n",
    "    \n",
    "    \n",
    "    xpath_r = \"/html/body/div[2]/div[5]/div[7]/div[\"+str(index)+\"]/div[1]/div/div/ul/li/a/div/span[1]/strong\"\n",
    "    xpath_l = \"/html/body/div[2]/div[5]/div[7]/div[\"+str(index)+\"]/div[2]/div/div/ul/li/a/div/span[1]/strong\"\n",
    "             \n",
    "    news_left = driver.find_elements_by_xpath(xpath_r)\n",
    "    news_right = driver.find_elements_by_xpath(xpath_l)\n",
    "\n",
    "   \n",
    "\n",
    "\n",
    "    for news in news_left:\n",
    "        news_titles.append(news.text)\n",
    "\n",
    "    for news in news_right:\n",
    "        news_titles.append(news.text)\n",
    "\n",
    "    print(len(news_titles))"
   ]
  },
  {
   "cell_type": "code",
   "execution_count": 7,
   "metadata": {},
   "outputs": [
    {
     "name": "stdout",
     "output_type": "stream",
     "text": [
      "권영수 \"5G 장비서 中 화웨이 가장 앞서\"\n",
      "'화웨이' 만난 권영수 LGU+ 부회장 \"기술력 가장 앞선다\"\n",
      "권영수 LG유플러스 부회장, \"이변 없는 한 화웨이 도입\"...5G 서비스 구현 고민\n",
      "LGU+, 5G 화웨이 장비 도입 유력해졌다\n",
      "브랜든 김 삼성넥스트 투자총괄 “탈중앙화 시대, 제2의 우버·페이스북 나올 것”\n",
      "카카오M '이병헌·김태리' 소속사 지분 사들인 까닭은?\n",
      "권영수 LGU+ 부회장 “5G 장비, 화웨이가 가장 앞서”\n",
      "\"10년 넘게 걸리는 신약개발, AI로 단축… 의료 빅데이터 활용이 관건\"\n",
      "KT.LG 앞에서… 5G 도전장 던진 中 화웨이\n",
      "“알뜰폰 구하기”… 올해도 전파사용료 면제 유력\n",
      "[MWC 상하이 2018] 드론·VR게임… ‘5G의 미래’ 엿본다\n",
      "[알아봅시다] 보이지 않는 위협 전자파 막는 차폐 소재\n"
     ]
    }
   ],
   "source": [
    "for news in news_titles[:12]:\n",
    "    \n",
    "    print(news)\n"
   ]
  },
  {
   "cell_type": "code",
   "execution_count": 8,
   "metadata": {},
   "outputs": [],
   "source": [
    "driver.quit()"
   ]
  },
  {
   "cell_type": "code",
   "execution_count": null,
   "metadata": {},
   "outputs": [],
   "source": []
  }
 ],
 "metadata": {
  "kernelspec": {
   "display_name": "Python 3",
   "language": "python",
   "name": "python3"
  },
  "language_info": {
   "codemirror_mode": {
    "name": "ipython",
    "version": 3
   },
   "file_extension": ".py",
   "mimetype": "text/x-python",
   "name": "python",
   "nbconvert_exporter": "python",
   "pygments_lexer": "ipython3",
   "version": "3.6.4"
  }
 },
 "nbformat": 4,
 "nbformat_minor": 2
}
