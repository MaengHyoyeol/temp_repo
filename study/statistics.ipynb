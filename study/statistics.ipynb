{
 "cells": [
  {
   "cell_type": "markdown",
   "metadata": {},
   "source": [
    "# 백준 알고리즘 정렬 - 2018번 통계학\n",
    "\n",
    "백준 정렬 알고리즘 중 2018번 통계학"
   ]
  },
  {
   "cell_type": "markdown",
   "metadata": {},
   "source": [
    "## **입력받기**\n",
    "reps 를 통해 입력 반복 수 설정\n",
    "reps까지 반복하며 입력"
   ]
  },
  {
   "cell_type": "code",
   "execution_count": null,
   "metadata": {},
   "outputs": [],
   "source": [
    "reps = int(input())\n",
    "arr= []\n",
    "for i in range(reps):\n",
    "    arr.append(int(input()))"
   ]
  },
  {
   "cell_type": "markdown",
   "metadata": {},
   "source": [
    "## 통계량\n",
    "\n",
    "\n",
    "평균 = sum/len 을통해\n",
    "\n",
    "median - 정렬 후 전체 길이의 len/2 index 추출\n",
    "\n",
    "range - 정렬 후 가장 큰 수 - 가장 작은 수\n",
    "\n",
    "정렬을 각각 정의해서 쓸 수 있지만 over time 나올게 뻔하므로.....\n",
    "\n",
    "가장 중요한 mode만 구현해보는것으로..."
   ]
  },
  {
   "cell_type": "code",
   "execution_count": null,
   "metadata": {},
   "outputs": [],
   "source": [
    "average = round(sum(arr)/len(arr))\n",
    "\n",
    "median = arr[int(len(arr)/2)]\n",
    "\n",
    "range_value = arr[-1] - arr[0]\n"
   ]
  },
  {
   "cell_type": "markdown",
   "metadata": {},
   "source": [
    "## Mode\n",
    "\n",
    "가장 최빈값을 찾는 것. (최빈값이 여러개이면 2번째 큰 수)\n",
    "\n",
    "숫자와 빈도를 dict로 연결하여\n",
    "\n",
    "빈도(value)가 가장 큰 key 값을 찾는다. "
   ]
  },
  {
   "cell_type": "code",
   "execution_count": null,
   "metadata": {},
   "outputs": [],
   "source": [
    "def mode(arr):\n",
    "    \n",
    "    set_arr = set(arr)\n",
    "    \n",
    "    count_dict = { }\n",
    "    max_list = []\n",
    "    \n",
    "    for i in set_arr:\n",
    "        count_dict[i] = 0\n",
    "        \n",
    "    \n",
    "    for i in set_arr:\n",
    "        \n",
    "        for j in arr:\n",
    "            if j == i:\n",
    "                count_dict[i] += 1\n",
    "                \n",
    "    for value, count in count_dict.items():\n",
    "        if count == max(count_dict.values()):\n",
    "            max_list.append(value)\n",
    "            \n",
    "    max_list.sort()\n",
    "    \n",
    "    if len(max_list) == 1:\n",
    "        return max_list[0]\n",
    "    \n",
    "    else:\n",
    "        return max_list[1]\n"
   ]
  },
  {
   "cell_type": "markdown",
   "metadata": {},
   "source": [
    "**value값**으로 Key 찾기\n",
    "\n",
    "dict에서 key값에 따른 value값은 dict[key]로 쉽게 그낭하지만\n",
    "\n",
    "반대의 경우( value 로 key 찾기는 items()를 이용해야한다.\n",
    "<code>\n",
    "    \n",
    "for key, value in dict.items():\n",
    "    if value == searchingValue:\n",
    "        print(key)\n",
    "\n",
    "</code>"
   ]
  },
  {
   "cell_type": "markdown",
   "metadata": {},
   "source": [
    "# 전체 코드는 다음과 같다."
   ]
  },
  {
   "cell_type": "code",
   "execution_count": null,
   "metadata": {},
   "outputs": [],
   "source": [
    "reps = int(input())\n",
    "arr= []\n",
    "\n",
    "for i in range(reps):\n",
    "    arr.append(int(input()))\n",
    "\n",
    "def mode(arr):\n",
    "    \n",
    "    set_arr = set(arr)\n",
    "    \n",
    "    count_dict = { }\n",
    "    max_list = []\n",
    "    \n",
    "    for i in set_arr:\n",
    "        count_dict[i] = 0\n",
    "        \n",
    "    \n",
    "    for i in set_arr:\n",
    "        \n",
    "        for j in arr:\n",
    "            if j == i:\n",
    "                count_dict[i] += 1\n",
    "                \n",
    "    for value, count in count_dict.items():\n",
    "        if count == max(count_dict.values()):\n",
    "            max_list.append(value)\n",
    "            \n",
    "    max_list.sort()\n",
    "    \n",
    "    if len(max_list) == 1:\n",
    "        return max_list[0]\n",
    "    \n",
    "    else:\n",
    "        return max_list[1]\n",
    "\n",
    "\n",
    "\n",
    "    \n",
    "arr.sort()\n",
    "average = round(sum(arr)/len(arr))\n",
    "\n",
    "median = arr[int(len(arr)/2)]\n",
    "\n",
    "mode_value = mode(arr)\n",
    "\n",
    "range_value = arr[-1] - arr[0]\n",
    "\n",
    "print(average)\n",
    "print(median)\n",
    "print(mode_value)\n",
    "print(range_value)"
   ]
  }
 ],
 "metadata": {
  "kernelspec": {
   "display_name": "Python 3",
   "language": "python",
   "name": "python3"
  },
  "language_info": {
   "codemirror_mode": {
    "name": "ipython",
    "version": 3
   },
   "file_extension": ".py",
   "mimetype": "text/x-python",
   "name": "python",
   "nbconvert_exporter": "python",
   "pygments_lexer": "ipython3",
   "version": "3.6.4"
  }
 },
 "nbformat": 4,
 "nbformat_minor": 2
}
