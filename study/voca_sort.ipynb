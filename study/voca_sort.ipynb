{
 "cells": [
  {
   "cell_type": "markdown",
   "metadata": {},
   "source": [
    "# 백준 알고리즘 정렬 - 1181번 단어 정렬\n",
    "\n",
    "백준 정렬 알고리즘 중 1181번 단어정렬"
   ]
  },
  {
   "cell_type": "markdown",
   "metadata": {},
   "source": [
    "## **입력받기**\n",
    "reps 를 통해 입력 반복 수 설정\n",
    "reps까지 반복하며 입력"
   ]
  },
  {
   "cell_type": "code",
   "execution_count": null,
   "metadata": {},
   "outputs": [],
   "source": [
    "reps = int(input())\n",
    "arr= []\n",
    "for i in range(reps):\n",
    "    arr.append(int(input()))"
   ]
  },
  {
   "cell_type": "markdown",
   "metadata": {},
   "source": [
    "## 단어 : 단어길이 dict 만들기\n",
    "\n",
    "단어를 길이에 따라 정렬하기 위해 단어 : 길이 의 dict를 만들어준다"
   ]
  },
  {
   "cell_type": "code",
   "execution_count": null,
   "metadata": {},
   "outputs": [],
   "source": [
    "\n",
    "len_dict ={}\n",
    "\n",
    "for voc in arr:\n",
    "    len_dict[voc] = len(voc)\n"
   ]
  },
  {
   "cell_type": "code",
   "execution_count": null,
   "metadata": {},
   "outputs": [],
   "source": [
    "## 단어 정렬\n",
    "\n",
    "최대 길이 단어 (max(len_dict.valeus)) 까지 for문을 통해 길이 같은 단어들을 한 리스트로 만들어 정렬해준다."
   ]
  },
  {
   "cell_type": "code",
   "execution_count": null,
   "metadata": {},
   "outputs": [],
   "source": [
    "\n",
    "for i in range(1, max(len_dict.values())+1):\n",
    "    temp_list = []\n",
    "    \n",
    "    for voc, length in len_dict.items():   \n",
    "        \n",
    "        if length == i:\n",
    "            \n",
    "            temp_list.append(voc)\n",
    "            \n",
    "    temp_list.sort()\n",
    "        \n",
    "    for j in temp_list:\n",
    "        result.append(j)"
   ]
  },
  {
   "cell_type": "markdown",
   "metadata": {},
   "source": [
    "## 정렬된 단어 합치기\n",
    "\n",
    "    temp_list에 입력된 해당 길이 단어들을 result 리스트에 합쳐주면 길이 순서로 단어가 정렬된다."
   ]
  },
  {
   "cell_type": "markdown",
   "metadata": {},
   "source": [
    "## 전체 코드는 아래와 같다."
   ]
  },
  {
   "cell_type": "code",
   "execution_count": null,
   "metadata": {},
   "outputs": [],
   "source": [
    "reps = int(input())\n",
    "arr= []\n",
    "for i in range(reps):\n",
    "    arr.append(input())\n",
    "    \n",
    "\n",
    "len_dict ={}\n",
    "result = []\n",
    "\n",
    "for voc in arr:\n",
    "    len_dict[voc] = len(voc)\n",
    "\n",
    "\n",
    "for i in range(1, max(len_dict.values())+1):\n",
    "    temp_list = []\n",
    "    \n",
    "    for voc, length in len_dict.items():   \n",
    "        \n",
    "        if length == i:\n",
    "            \n",
    "            temp_list.append(voc)\n",
    "            \n",
    "    temp_list.sort()\n",
    "        \n",
    "    for j in temp_list:\n",
    "        result.append(j)\n",
    "    \n",
    "for vocs in result:\n",
    "    print(vocs)"
   ]
  }
 ],
 "metadata": {
  "kernelspec": {
   "display_name": "Python 3",
   "language": "python",
   "name": "python3"
  },
  "language_info": {
   "codemirror_mode": {
    "name": "ipython",
    "version": 3
   },
   "file_extension": ".py",
   "mimetype": "text/x-python",
   "name": "python",
   "nbconvert_exporter": "python",
   "pygments_lexer": "ipython3",
   "version": "3.6.4"
  }
 },
 "nbformat": 4,
 "nbformat_minor": 2
}
